{
 "cells": [
  {
   "cell_type": "markdown",
   "metadata": {},
   "source": [
    "## Libraries"
   ]
  },
  {
   "cell_type": "code",
   "execution_count": 19,
   "metadata": {},
   "outputs": [],
   "source": [
    "import os"
   ]
  },
  {
   "cell_type": "code",
   "execution_count": 20,
   "metadata": {},
   "outputs": [],
   "source": [
    "run = 'local' #local or cloud\n",
    "os.environ[\"APP_ENV\"] = run"
   ]
  },
  {
   "cell_type": "code",
   "execution_count": 21,
   "metadata": {},
   "outputs": [],
   "source": [
    "import sys\n",
    "sys.path.append('..')\n",
    "from src.grass_functions import*\n",
    "from src.data.process_inputs import*\n",
    "%matplotlib inline\n",
    "#%load_ext autoreload\n",
    "#%autoreload 2"
   ]
  },
  {
   "cell_type": "markdown",
   "metadata": {},
   "source": [
    "# Parameters"
   ]
  },
  {
   "cell_type": "raw",
   "metadata": {
    "jupyter": {
     "source_hidden": true
    },
    "tags": []
   },
   "source": [
    "#set project variables\n",
    "Project_Area = 'oakdale_merge'\n",
    "GRASS_GIS_Projection = projection = None #set to None if you want to use the DEM's original projection\n",
    "\n",
    "## Set variables analysis\n",
    "data_scale = 'HUC12' #other options HUC12, HUC10, HUC8 OR the field name of the source data to be split <-- case sensitive\n",
    "select_data = '020302020401' #     # Value within the filter_field used for data selection\n",
    "to_headwaters = False #False if only interested in local huc area\n",
    "input_shp_name = 'None' #None or must be populated populated with a shapefile polygons if data_scale != HUCXX"
   ]
  },
  {
   "cell_type": "raw",
   "metadata": {
    "jupyter": {
     "source_hidden": true
    },
    "tags": []
   },
   "source": [
    "#set project variables\n",
    "Project_Area = 'miami_walton'\n",
    "GRASS_GIS_Projection = projection = '26918' #set to None if you want to use the DEM's original projection\n",
    "\n",
    "## Set variables analysis\n",
    "data_scale = 'HUC12' #other options HUC12, HUC10, HUC8 OR the field name of the source data to be split <-- case sensitive\n",
    "select_data = '030902061500' #     # Value within the filter_field used for data selection\n",
    "to_headwaters = False #False if only interested in local huc area\n",
    "input_shp_name = 'None' #None or must be populated populated with a shapefile polygons if data_scale != HUCXX"
   ]
  },
  {
   "cell_type": "code",
   "execution_count": 27,
   "metadata": {},
   "outputs": [],
   "source": [
    "#set project variables\n",
    "Project_Area = 'new_rochelle_cva'\n",
    "GRASS_GIS_Projection = projection = '26918' #set to None if you want to use the DEM's original projection\n",
    "\n",
    "## Set variables analysis\n",
    "data_scale = 'HUC12' #other options HUC12, HUC10, HUC8 OR the field name of the source data to be split <-- case sensitive\n",
    "select_data = '020301020203' #     # Value within the filter_field used for data selection\n",
    "to_headwaters = False #False if only interested in local huc area\n",
    "input_shp_name = 'None' #None or must be populated populated with a shapefile polygons if data_scale != HUCXX\n",
    "carved = True"
   ]
  },
  {
   "cell_type": "markdown",
   "metadata": {},
   "source": [
    "### Start new grass session"
   ]
  },
  {
   "cell_type": "code",
   "execution_count": 23,
   "metadata": {},
   "outputs": [],
   "source": [
    "#set projection if none exists\n",
    "if not GRASS_GIS_Projection:\n",
    "    dem_vrt = raster_dir/'dem'/'dem_{}.vrt'.format(select_data)\n",
    "    GRASS_GIS_Projection = projection = get_raster_epsg(dem_vrt)\n",
    "## GRASSGIS Location and Mapsets\n",
    "Location = Project_Area+'_'+GRASS_GIS_Projection\n",
    "Mapset = 'PERMANENT'"
   ]
  },
  {
   "cell_type": "code",
   "execution_count": 24,
   "metadata": {
    "tags": []
   },
   "outputs": [
    {
     "name": "stdout",
     "output_type": "stream",
     "text": [
      "Database Location Exists\n",
      "Database Mapset Exists\n",
      "Database Location Exists\n",
      "Database Mapset Exists\n"
     ]
    }
   ],
   "source": [
    "initialize_grass_db(Location, Mapset, GRASS_GIS_Projection)\n",
    "initialize_grass_db(Location, Mapset, GRASS_GIS_Projection)"
   ]
  },
  {
   "cell_type": "markdown",
   "metadata": {},
   "source": [
    "#### Review existing files"
   ]
  },
  {
   "cell_type": "code",
   "execution_count": 25,
   "metadata": {
    "tags": []
   },
   "outputs": [
    {
     "name": "stdout",
     "output_type": "stream",
     "text": [
      "Available vector maps:\n",
      "HUC120203@PERMANENT\n",
      "basins@PERMANENT\n",
      "basins_buffer@PERMANENT\n",
      "basins_buffer_s@PERMANENT\n",
      "tmp_bsn@PERMANENT\n",
      "tmp_bsn_buffer@PERMANENT\n",
      "v_nhd@PERMANENT\n",
      "v_nhd_c@PERMANENT\n",
      "\n",
      "Available raster maps:\n",
      "MASK@PERMANENT\n",
      "dem_020301020203@PERMANENT\n",
      "dem_020301020203_b@PERMANENT\n",
      "twi_020301020203@PERMANENT\n"
     ]
    }
   ],
   "source": [
    "#list all grass files\n",
    "grass_maps = list_existing_grass()"
   ]
  },
  {
   "cell_type": "code",
   "execution_count": 26,
   "metadata": {},
   "outputs": [],
   "source": [
    "#remove old files if needed\n",
    "remove_grass_data(grass_maps,'None','raster') #update 'None' with map name or type (i.e. 'raster' or 'vector')"
   ]
  },
  {
   "cell_type": "code",
   "execution_count": 28,
   "metadata": {},
   "outputs": [],
   "source": [
    "#variables\n",
    "parent_dir = pl.Path(os.getcwd()).parent/'data'\n",
    "raster_dir = parent_dir/'Rasters'/Project_Area\n",
    "dem = f'dem_{select_data}'\n",
    "twi = f'twi_{select_data}'\n",
    "if carved:\n",
    "    dem += '_b'\n",
    "    twi += '_b' "
   ]
  },
  {
   "cell_type": "code",
   "execution_count": 30,
   "metadata": {},
   "outputs": [
    {
     "data": {
      "text/plain": [
       "{}"
      ]
     },
     "execution_count": 30,
     "metadata": {},
     "output_type": "execute_result"
    }
   ],
   "source": [
    "gs.parse_command('g.region',vector = 'basins_buffer', align = dem)"
   ]
  },
  {
   "cell_type": "code",
   "execution_count": null,
   "metadata": {},
   "outputs": [
    {
     "name": "stderr",
     "output_type": "stream",
     "text": [
      "SECTION 1a (of 4): Initiating Memory.\n",
      "SECTION 1b (of 4): Determining Offmap Flow.\n",
      "   0   4   8  12  16  20  24  28  32  36  40  44  48  52  56  60  64  68  72  76  80  84  88  92  96 100\n",
      "SECTION 2: A* Search.\n",
      "   0   2   4   6   8  10  12  14  16  18  20  22  24  26  28  30  32  34  36  38  40  42  44  46  48  50  52  54  56  58  60  62  64  66  68  70  72  74  76  78  80  82  84  86  88  90  92  94  96  98 100\n",
      "SECTION 3: Accumulating Surface Flow with SFD.\n",
      "   1   3   5   7   9  11  13  15  17  19  21  23  25  27  29  31  33  35  37  39  41  43  45  47  49  51  53  55  57  59  61  63  65  67  69  71  73  75  77  79  81  83  85  87  89  91  93  95  97  99 100\n",
      "SECTION 4: Closing Maps.\n"
     ]
    }
   ],
   "source": [
    "gs.run_command('r.watershed', elevation= dem,tci=twi,flags='as')"
   ]
  },
  {
   "cell_type": "code",
   "execution_count": null,
   "metadata": {},
   "outputs": [],
   "source": [
    "##print basins in grass @ Regional scale to confirm data and extent\n",
    "gs.run_command('d.erase')\n",
    "gs.parse_command('g.region',vector = 'tmp_bsn_buffer', align = dem)\n",
    "gs.parse_command('r.mask',vector = 'tmp_bsn')\n",
    "gs.run_command('d.rast', map= twi)\n",
    "gs.run_command('d.vect', map= 'tmp_bsn',color='red',fill_color='None')\n",
    "Image(filename=\"map.png\")"
   ]
  },
  {
   "cell_type": "code",
   "execution_count": null,
   "metadata": {},
   "outputs": [],
   "source": [
    "gs.run_command('r.out.gdal', input= twi, output= raster_dir/f'{twi}.tif',createopt=\"BIGTIFF=YES,PROFILE=GeoTIFF,TFW=YES,COMPRESS=LZW\",flags='f')"
   ]
  },
  {
   "cell_type": "markdown",
   "metadata": {},
   "source": [
    "## END"
   ]
  }
 ],
 "metadata": {
  "kernelspec": {
   "display_name": "Python 3 (ipykernel)",
   "language": "python",
   "name": "python3"
  },
  "language_info": {
   "codemirror_mode": {
    "name": "ipython",
    "version": 3
   },
   "file_extension": ".py",
   "mimetype": "text/x-python",
   "name": "python",
   "nbconvert_exporter": "python",
   "pygments_lexer": "ipython3",
   "version": "3.9.7"
  }
 },
 "nbformat": 4,
 "nbformat_minor": 4
}
