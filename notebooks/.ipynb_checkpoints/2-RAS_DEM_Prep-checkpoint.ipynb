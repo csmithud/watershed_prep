{
 "cells": [
  {
   "cell_type": "markdown",
   "metadata": {},
   "source": [
    "## Libraries"
   ]
  },
  {
   "cell_type": "code",
   "execution_count": 1,
   "metadata": {},
   "outputs": [],
   "source": [
    "import os"
   ]
  },
  {
   "cell_type": "code",
   "execution_count": 2,
   "metadata": {},
   "outputs": [],
   "source": [
    "run = 'local' #local or cloud\n",
    "os.environ[\"APP_ENV\"] = run"
   ]
  },
  {
   "cell_type": "code",
   "execution_count": 3,
   "metadata": {},
   "outputs": [],
   "source": [
    "import sys\n",
    "sys.path.append('..')"
   ]
  },
  {
   "cell_type": "code",
   "execution_count": 4,
   "metadata": {},
   "outputs": [
    {
     "name": "stderr",
     "output_type": "stream",
     "text": [
      "/opt/conda/lib/python3.9/site-packages/geopandas/_compat.py:106: UserWarning: The Shapely GEOS version (3.11.4-CAPI-1.17.4) is incompatible with the GEOS version PyGEOS was compiled with (3.10.4-CAPI-1.16.2). Conversions between both will be slow.\n",
      "  warnings.warn(\n",
      "/opt/conda/lib/python3.9/site-packages/scipy/__init__.py:146: UserWarning: A NumPy version >=1.16.5 and <1.23.0 is required for this version of SciPy (detected version 1.24.0\n",
      "  warnings.warn(f\"A NumPy version >={np_minversion} and <{np_maxversion}\"\n"
     ]
    }
   ],
   "source": [
    "from src.grass_functions import*\n",
    "from src.data.process_inputs import*\n",
    "%matplotlib inline\n",
    "#%load_ext autoreload\n",
    "#%autoreload 2"
   ]
  },
  {
   "cell_type": "markdown",
   "metadata": {},
   "source": [
    "# Parameters"
   ]
  },
  {
   "cell_type": "code",
   "execution_count": 5,
   "metadata": {},
   "outputs": [],
   "source": [
    "#set project variables\n",
    "Project_Area = 'test2024'\n",
    "GRASS_GIS_Projection = projection = '5070' #set to None if you want to use the DEM's original projection\n",
    "res = '1m'\n",
    "\n",
    "## Set variables analysis\n",
    "data_scale = 'HUC12' #other options HUC12, HUC10, HUC8 OR the field name of the source data to be split <-- case sensitive\n",
    "select_data = '020600031102' #     # Value within the filter_field used for data selection\n",
    "to_headwaters = False #False if only interested in local huc area\n",
    "input_shp_name = None #None or must be populated populated with a shapefile polygons if data_scale != HUCXX\n",
    "buffer = 2000\n",
    "auto_delete = False"
   ]
  },
  {
   "cell_type": "code",
   "execution_count": 6,
   "metadata": {},
   "outputs": [],
   "source": [
    "if data_scale.find('HUC') >= 0:\n",
    "    huc_level = re.findall(\"[0-9]+\",data_scale)[0]\n",
    "    if huc_level == str(len(select_data)):\n",
    "        huc_digys = huc_level\n",
    "    else:\n",
    "        huc_digys = huc_level\n",
    "        select_data = select_data[:int(huc_digys)]"
   ]
  },
  {
   "cell_type": "code",
   "execution_count": 7,
   "metadata": {
    "tags": []
   },
   "outputs": [],
   "source": [
    "## Paths:\n",
    "parent_dir = pl.Path(os.getcwd()).parent/'data'\n",
    "current_dir = pl.Path(os.getcwd())\n",
    "outputs_dir =parent_dir/'Rasters'/Project_Area/'Outputs'\n",
    "vector_dir = parent_dir/'Vectors'/Project_Area\n",
    "raster_dir = parent_dir/'Rasters'/Project_Area\n",
    "huc_path = vector_dir/'{}_aoi.geojson'.format(Project_Area)\n",
    "git_data_repo = current_dir/'data_repository'\n",
    "if input_shp_name:\n",
    "    input_shp = vector_dir/input_shp_name\n",
    "directory = outputs_dir"
   ]
  },
  {
   "cell_type": "markdown",
   "metadata": {},
   "source": [
    "### Get area of interest"
   ]
  },
  {
   "cell_type": "code",
   "execution_count": 8,
   "metadata": {},
   "outputs": [
    {
     "name": "stderr",
     "output_type": "stream",
     "text": [
      "[2024-10-11 20:32:21,567] [WARNING] [geodataframe] : Expecting property name enclosed in double quotes: line 1 column 2 (char 1)\n"
     ]
    }
   ],
   "source": [
    "#read from to vector path from notebook 1\n",
    "huc_path = vector_dir/'{0}_{1}_aoi.geojson'.format(Project_Area,select_data)\n",
    "aoi = gpd.read_file(str(huc_path),driver=\"GeoJSON\")"
   ]
  },
  {
   "cell_type": "markdown",
   "metadata": {},
   "source": [
    "### Start new grass session"
   ]
  },
  {
   "cell_type": "code",
   "execution_count": 9,
   "metadata": {},
   "outputs": [],
   "source": [
    "#set projection if none exists\n",
    "if not GRASS_GIS_Projection:\n",
    "    dem_vrt = raster_dir/'dem'/'dem_{}.vrt'.format(select_data)\n",
    "    GRASS_GIS_Projection = projection = get_raster_epsg(dem_vrt)\n",
    "## GRASSGIS Location and Mapsets\n",
    "Location = Project_Area+'_'+GRASS_GIS_Projection\n",
    "Mapset = 'PERMANENT'"
   ]
  },
  {
   "cell_type": "code",
   "execution_count": 10,
   "metadata": {},
   "outputs": [
    {
     "data": {
      "text/plain": [
       "PosixPath('/home/data/Rasters/test2024')"
      ]
     },
     "execution_count": 10,
     "metadata": {},
     "output_type": "execute_result"
    }
   ],
   "source": [
    "raster_dir"
   ]
  },
  {
   "cell_type": "code",
   "execution_count": 11,
   "metadata": {
    "tags": []
   },
   "outputs": [
    {
     "name": "stdout",
     "output_type": "stream",
     "text": [
      "{'GISDBASE': \"'/home/grassdata';\", 'LOCATION_NAME': \"'test2024_5070';\", 'MAPSET': \"'PERMANENT';\"}\n",
      "Database Mapset Exists\n",
      "None\n",
      "{'GISDBASE': '/home/grassdata', 'LOCATION_NAME': 'test2024_5070', 'MAPSET': 'PERMANENT'}\n"
     ]
    },
    {
     "name": "stderr",
     "output_type": "stream",
     "text": [
      "Current GRASS GIS 7 environment:\n"
     ]
    }
   ],
   "source": [
    "initialize_grass_db(Location, Mapset, GRASS_GIS_Projection)\n",
    "#initialize_grass_db(Location, Mapset, GRASS_GIS_Projection)"
   ]
  },
  {
   "cell_type": "markdown",
   "metadata": {},
   "source": [
    "#### Review existing files"
   ]
  },
  {
   "cell_type": "code",
   "execution_count": 12,
   "metadata": {},
   "outputs": [
    {
     "name": "stderr",
     "output_type": "stream",
     "text": [
      "WARNING: No data base element files found\n"
     ]
    },
    {
     "data": {
      "text/plain": [
       "0"
      ]
     },
     "execution_count": 12,
     "metadata": {},
     "output_type": "execute_result"
    }
   ],
   "source": [
    "gs.run_command('g.remove',type='raster',name='None',flags='f')"
   ]
  },
  {
   "cell_type": "code",
   "execution_count": 17,
   "metadata": {
    "tags": []
   },
   "outputs": [
    {
     "name": "stdout",
     "output_type": "stream",
     "text": [
      "Available vector maps:\n",
      "\n",
      "Available raster maps:\n"
     ]
    }
   ],
   "source": [
    "#list all grass files\n",
    "grass_maps = list_existing_grass()"
   ]
  },
  {
   "cell_type": "code",
   "execution_count": 18,
   "metadata": {
    "tags": []
   },
   "outputs": [
    {
     "name": "stderr",
     "output_type": "stream",
     "text": [
      "Check if OGR layer <test2024_020600031102_aoi> contains polygons...\n",
      "   0 100\n",
      "Creating attribute table for layer <test2024_020600031102_aoi>...\n",
      "Importing 1 features (OGR layer <test2024_020600031102_aoi>)...\n",
      "   0 100\n",
      "-----------------------------------------------------\n",
      "Registering primitives...\n",
      "-----------------------------------------------------\n",
      "Cleaning polygons\n",
      "-----------------------------------------------------\n",
      "Breaking polygons...\n",
      "Breaking polygons (pass 1: select break points)...\n",
      " 100\n",
      "Breaking polygons (pass 2: break at selected points)...\n",
      " 100\n",
      "-----------------------------------------------------\n",
      "Removing duplicates...\n",
      " 100\n",
      "-----------------------------------------------------\n",
      "Breaking boundaries...\n",
      "   0 100\n",
      "-----------------------------------------------------\n",
      "Removing duplicates...\n",
      " 100\n",
      "-----------------------------------------------------\n",
      "Cleaning boundaries at nodes...\n",
      " 100\n",
      "-----------------------------------------------------\n",
      "Merging boundaries...\n",
      " 100\n",
      "-----------------------------------------------------\n",
      "Removing dangles...\n",
      " 100\n",
      "-----------------------------------------------------\n",
      "Building areas...\n",
      "   0 100\n",
      "-----------------------------------------------------\n",
      "Removing bridges...\n",
      " 100\n",
      "-----------------------------------------------------\n",
      "Registering primitives...\n",
      "Building areas...\n",
      "   0 100\n",
      "Attaching islands...\n",
      "   0 100\n",
      "-----------------------------------------------------\n",
      "Finding centroids for OGR layer <test2024_020600031102_aoi>...\n",
      "   0 100\n",
      "-----------------------------------------------------\n",
      "Writing centroids...\n",
      " 100\n",
      "-----------------------------------------------------\n",
      "1 input polygons\n",
      "Total area: 1.11963E+08 (1 areas)\n",
      "-----------------------------------------------------\n",
      "Copying features...\n",
      "  50 100\n",
      "Building topology for vector map <aoi@PERMANENT>...\n",
      "Registering primitives...\n",
      "Building areas...\n",
      "   0 100\n",
      "Attaching islands...\n",
      "   0 100\n",
      "Attaching centroids...\n",
      "   0 100\n"
     ]
    },
    {
     "name": "stdout",
     "output_type": "stream",
     "text": [
      "added aoi to grass\n"
     ]
    },
    {
     "name": "stderr",
     "output_type": "stream",
     "text": [
      "Input </home/data/Vectors/test2024/test2024_020600031102_aoi.geojson>\n",
      "successfully imported without reprojection\n"
     ]
    }
   ],
   "source": [
    "basin_list = aoi[data_scale.lower()].to_list()\n",
    "basins = 'aoi'\n",
    "gs.run_command('v.import', input= huc_path,  output= basins)\n",
    "print('added aoi to grass')"
   ]
  },
  {
   "cell_type": "code",
   "execution_count": 19,
   "metadata": {},
   "outputs": [
    {
     "name": "stderr",
     "output_type": "stream",
     "text": [
      "d.vect complete.\n"
     ]
    },
    {
     "data": {
      "image/png": "[encoded data removed]",
      "text/plain": [
       "<IPython.core.display.Image object>"
      ]
     },
     "execution_count": 19,
     "metadata": {},
     "output_type": "execute_result"
    }
   ],
   "source": [
    "##print basins in grass @ Regional scale to confirm data and extent\n",
    "gs.parse_command('g.region',vector = basins)\n",
    "gs.run_command('d.erase')\n",
    "\n",
    "#gs.run_command('d.vect', map='tmp_bsn_buffer',color='red',fill_color='gray')\n",
    "gs.run_command('d.vect', map= basins,color='blue',fill_color='gray')\n",
    "\n",
    "Image(filename=\"map.png\")"
   ]
  },
  {
   "cell_type": "markdown",
   "metadata": {},
   "source": [
    "### Get Raster data"
   ]
  },
  {
   "cell_type": "markdown",
   "metadata": {},
   "source": [
    "#### Must first run DEM Download Notebook at\n",
    "[DEM Download](DEM_download.ipynb#section_id1)\n",
    "<a id='section_id1'></a>"
   ]
  },
  {
   "cell_type": "markdown",
   "metadata": {},
   "source": [
    "#### Import raster tiles in correct projection and units"
   ]
  },
  {
   "cell_type": "code",
   "execution_count": null,
   "metadata": {},
   "outputs": [
    {
     "name": "stdout",
     "output_type": "stream",
     "text": [
      "adding raster USGS_1M_18_x34y435_VA_UpperMiddleNeck_2018_D18_2021_12_21\n"
     ]
    },
    {
     "name": "stderr",
     "output_type": "stream",
     "text": [
      "Importing raster map\n",
      "<USGS_1M_18_x34y435_VA_UpperMiddleNeck_2018_D18_2021_12_21>...\n",
      "   0   3   6   9  12"
     ]
    }
   ],
   "source": [
    "##combine and convert all raster tiles output from DEM Download Notebook into UTM Zone feet vert unit\n",
    "dems = dem_tiles_to_gis(gs,raster_dir/'dem',Project_Area,'feet',delete_raw=True,force=False) #if patch = True returns joined DEM "
   ]
  },
  {
   "cell_type": "code",
   "execution_count": null,
   "metadata": {
    "tags": []
   },
   "outputs": [],
   "source": [
    "b_dems = basin_dems(dems,basins, basin_list,data_scale,raster_dir,buffer = (buffer), remove_tiles = True,fill_nulls = False,export_tiff = True) #can add option to ignore nulls, buffer distance is in map units"
   ]
  },
  {
   "cell_type": "code",
   "execution_count": null,
   "metadata": {
    "tags": []
   },
   "outputs": [],
   "source": [
    "gs.run_command('v.db.dropcolumn',map= basins, column='MetaSourceID,SourceDataDesc,SourceOriginator,SourceFeatureID,Shape_Length,noncontributingareaacres,noncontributingareasqkm')\n",
    "gs.run_command('v.db.dropcolumn',map= basins, column='MetaSourceID,SourceDataDesc,SourceOriginator,SourceFeatureID,Shape_Length'.lower())\n",
    "gs.run_command('v.out.ogr', input=  basins,type = 'area',output = vector_dir/'{}.shp'.format(select_data), format = 'ESRI_Shapefile',flags='e')"
   ]
  },
  {
   "cell_type": "code",
   "execution_count": null,
   "metadata": {},
   "outputs": [],
   "source": [
    "##print basins in grass @ Regional scale to confirm data and extent\n",
    "gs.parse_command('g.region',vector = 'tmp_bsn_buffer', align = b_dems[0])\n",
    "gs.run_command('d.erase')\n",
    "gs.run_command('d.rast', map= b_dems[0])\n",
    "gs.run_command('d.vect', map= basins,color='red',fill_color='None')\n",
    "Image(filename=\"map.png\")"
   ]
  },
  {
   "cell_type": "code",
   "execution_count": null,
   "metadata": {},
   "outputs": [],
   "source": [
    "import shutil\n",
    "if auto_delete is True:\n",
    "    #remove all files to save space\n",
    "    remove_grass_data(grass_maps,'all','raster') #update 'None' with map name or type (i.e. 'raster' or 'vector')\n",
    "    remove_grass_data(grass_maps,'all','vector') #update 'None' with map name or type (i.e. 'raster' or 'vector')\n",
    "    #delete temp files\n",
    "    shutil.rmtree(pl.Path('/home')/'grassdata'/Location/Mapset/'.tmp')\n",
    "    os.makedirs(pl.Path('/home')/'grassdata'/Location/Mapset/'.tmp')"
   ]
  },
  {
   "cell_type": "markdown",
   "metadata": {},
   "source": [
    "## Align to specific grid (optional)"
   ]
  },
  {
   "cell_type": "raw",
   "metadata": {},
   "source": [
    "alignment_tiff = raster_dir/'NebraskaStatePlane_Project_Resample_Bilinear_Snap_10m_Project.tif'\n",
    "\n",
    "gs.run_command('r.in.gdal', input=alignment_tiff, output= 'align')\n",
    "\n",
    "##print basins in grass @ Regional scale to confirm data and extent\n",
    "gs.parse_command('g.region',vector = 'tmp_bsn_buffer', align = 'align')\n",
    "\n",
    "gs.parse_command('g.region',vector = 'tmp_bsn_buffer', align = 'align',flags='p')\n",
    "\n",
    "dem = f'dem_{select_data}'\n",
    "\n",
    "gs.parse_command('r.info',map=dem, flags='g')\n",
    "\n",
    "gs.run_command('r.resamp.interp',input=dem, output=dem+'_a',method='bilinear')\n",
    "\n",
    "gs.parse_command('r.info',map=dem+'_a', flags='g')\n",
    "\n",
    "gs.run_command('d.erase')\n",
    "gs.run_command('d.rast', map= dem+'_a')\n",
    "gs.run_command('d.vect', map= 'aoi',color='red',fill_color='None')\n",
    "Image(filename=\"map.png\")\n",
    "\n",
    "gs.run_command('r.out.gdal', input= dem+'_a', output= raster_dir/f'{dem}_a.tif',createopt=\"BIGTIFF=YES,PROFILE=GeoTIFF,TFW=YES,COMPRESS=LZW\",flags='f')"
   ]
  },
  {
   "cell_type": "markdown",
   "metadata": {},
   "source": [
    "## END"
   ]
  },
  {
   "cell_type": "code",
   "execution_count": null,
   "metadata": {},
   "outputs": [],
   "source": []
  },
  {
   "cell_type": "code",
   "execution_count": null,
   "metadata": {},
   "outputs": [],
   "source": []
  },
  {
   "cell_type": "code",
   "execution_count": null,
   "metadata": {},
   "outputs": [],
   "source": []
  }
 ],
 "metadata": {
  "kernelspec": {
   "display_name": "Python 3 (ipykernel)",
   "language": "python",
   "name": "python3"
  },
  "language_info": {
   "codemirror_mode": {
    "name": "ipython",
    "version": 3
   },
   "file_extension": ".py",
   "mimetype": "text/x-python",
   "name": "python",
   "nbconvert_exporter": "python",
   "pygments_lexer": "ipython3",
   "version": "3.9.7"
  }
 },
 "nbformat": 4,
 "nbformat_minor": 4
}
