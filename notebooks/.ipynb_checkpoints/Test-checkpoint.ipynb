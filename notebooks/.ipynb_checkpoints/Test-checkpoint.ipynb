{
 "cells": [
  {
   "cell_type": "code",
   "execution_count": 1,
   "metadata": {},
   "outputs": [],
   "source": [
    "import os\n",
    "import pathlib as pl\n",
    "import gdal\n",
    "import geopandas as gpd\n",
    "import sys\n",
    "sys.path.append('..')\n",
    "from src.modules.modules import*"
   ]
  },
  {
   "cell_type": "code",
   "execution_count": 2,
   "metadata": {},
   "outputs": [],
   "source": [
    "## Filenames and fields:\n",
    "Project_Area = 'Des_Plaines'          # Project area name\n",
    "GRASS_GIS_Projection = '2163'       #EPSG number\n",
    "noaa_data_crs=4236\n",
    "Model_Type = 'Pluvial'               #P for Pluvial and F for Fluvial\n",
    "\n",
    "#DEM parameters\n",
    "DEM_Res =3             #DEM resolution in meters\n",
    "No_Data = -9999\n",
    "\n",
    "## Load the HUC polygon shapefile and tiff\n",
    "training_HUC12 = ['071200040505','071200040403' ,'071200040506']\n",
    "filter_field = 'HUC12'          # Attribute with in the vector polygon used for data selection\n",
    "\n",
    "parent_dir = pl.Path('../home/jovyan/app/data')\n",
    "## Paths:\n",
    "raster_dir = parent_dir/'Rasters'/Project_Area\n",
    "vector_dir = parent_dir/'Vectors' \n",
    "outputs_dir =parent_dir/'Rasters'/Project_Area/'Outputs'\n",
    "\n",
    "#if not os.path.isdir(outputs_dir):\n",
    "#    os.mkdir(outputs_dir)"
   ]
  },
  {
   "cell_type": "code",
   "execution_count": null,
   "metadata": {},
   "outputs": [],
   "source": [
    "#Load Geodatabase\n",
    "gdf = gpd.GeoDataFrame.from_file(vector_dir/'HUC12.shp')"
   ]
  },
  {
   "cell_type": "code",
   "execution_count": null,
   "metadata": {},
   "outputs": [],
   "source": [
    "#Create geodataframe of training watersheds only\n",
    "gdf1 = gdf[gdf[filter_field].isin(training_HUC12)].copy()\n",
    "\n",
    "gdf1.crs = gdf.crs\n",
    "\n",
    "geo_df1 = gdf1.to_crs(crs = noaa_data_crs)\n",
    "\n",
    "#Create a Merged Outline of the Study area\n",
    "\n",
    "gdf1['new_column'] = 0\n",
    "\n",
    "gdf2 = gdf1.dissolve(by='new_column')\n",
    "\n",
    "geo_df2 = gdf2.to_crs(crs = noaa_data_crs)\n",
    "\n",
    "#plot_area_of_interest(geo_df2, training_HUC12, filter_field)"
   ]
  },
  {
   "cell_type": "code",
   "execution_count": null,
   "metadata": {},
   "outputs": [],
   "source": [
    "#path=\"C:/DigitalEngineer/RAW/DEM/Illinois/10mDEM\"\n",
    "li_all_files = list_files(raster_dir/('%sm' % DEM_Res), '.tif')\n",
    "       \n",
    "#Define output pat for all DEMs mosaiced\n",
    "DEM_Project_Area = '{0}_DEM.tif'.format(Project_Area)"
   ]
  },
  {
   "cell_type": "code",
   "execution_count": null,
   "metadata": {},
   "outputs": [],
   "source": [
    "#Mosaic DEM for entire Area\n",
    "DEM_merged_clipped_reprojected(li_all_files, os.path.join(outputs_dir, DEM_Project_Area), No_Data, None, None, 'EPSG:'+ GRASS_GIS_Projection)"
   ]
  },
  {
   "cell_type": "code",
   "execution_count": null,
   "metadata": {},
   "outputs": [],
   "source": [
    "#Create vector file defining a rectangular buffer around the training watersheds\n",
    "Buffer = 1.01\n",
    "rectangular_bounds(geo_df2, Buffer,  GRASS_GIS_Projection, outputs_dir/'{0}_Rec_Bounds.shp'.format(Project_Area))"
   ]
  },
  {
   "cell_type": "code",
   "execution_count": 3,
   "metadata": {},
   "outputs": [],
   "source": [
    "#HeatMap file paths\n",
    "HeatMap = os.path.join(raster_dir, 'HeatMap','{0}_{1}_heatmap.tif'.format(Project_Area, Model_Type))\n",
    "HeatMap_Clipped_Reprojected = os.path.join(raster_dir, 'HeatMap','{0}_{1}_heatmap_clipped.tif'.format(Project_Area, Model_Type))"
   ]
  },
  {
   "cell_type": "code",
   "execution_count": 9,
   "metadata": {},
   "outputs": [
    {
     "data": {
      "text/plain": [
       "<osgeo.gdal.Dataset; proxy of <Swig Object of type 'GDALDatasetShadow *' at 0x7f8a7034e330> >"
      ]
     },
     "execution_count": 9,
     "metadata": {},
     "output_type": "execute_result"
    }
   ],
   "source": [
    "if (os.path.exists(HeatMap_Clipped_Reprojected)):\n",
    "    os.remove(HeatMap_Clipped_Reprojected)\n",
    "#Create a virtual mosaic of any heatmaps and remove the the no data tag and clip to the training watersheds \n",
    "MergedRaster=gdal.BuildVRT('Vector_district.vrt', HeatMap, hideNodata=True)\n",
    "gdal.Warp(HeatMap_Clipped_Reprojected, MergedRaster, cutlineDSName=os.path.join(outputs_dir,'{0}_Rec_Bounds.shp'.format(Project_Area)),cropToCutline=True, dstNodata = No_Data, dstSRS = 'EPSG:'+ GRASS_GIS_Projection)"
   ]
  },
  {
   "cell_type": "code",
   "execution_count": 2,
   "metadata": {},
   "outputs": [
    {
     "ename": "SyntaxError",
     "evalue": "invalid syntax (<ipython-input-2-4f0a7f341e9b>, line 1)",
     "output_type": "error",
     "traceback": [
      "\u001b[0;36m  File \u001b[0;32m\"<ipython-input-2-4f0a7f341e9b>\"\u001b[0;36m, line \u001b[0;32m1\u001b[0m\n\u001b[0;31m    ://grass-gis:19530\u001b[0m\n\u001b[0m    ^\u001b[0m\n\u001b[0;31mSyntaxError\u001b[0m\u001b[0;31m:\u001b[0m invalid syntax\n"
     ]
    }
   ],
   "source": []
  },
  {
   "cell_type": "code",
   "execution_count": null,
   "metadata": {},
   "outputs": [],
   "source": []
  },
  {
   "cell_type": "code",
   "execution_count": 8,
   "metadata": {},
   "outputs": [],
   "source": []
  },
  {
   "cell_type": "code",
   "execution_count": null,
   "metadata": {},
   "outputs": [],
   "source": []
  }
 ],
 "metadata": {
  "kernelspec": {
   "display_name": "Python 3",
   "language": "python",
   "name": "python3"
  },
  "language_info": {
   "codemirror_mode": {
    "name": "ipython",
    "version": 3
   },
   "file_extension": ".py",
   "mimetype": "text/x-python",
   "name": "python",
   "nbconvert_exporter": "python",
   "pygments_lexer": "ipython3",
   "version": "3.8.6"
  }
 },
 "nbformat": 4,
 "nbformat_minor": 4
}
