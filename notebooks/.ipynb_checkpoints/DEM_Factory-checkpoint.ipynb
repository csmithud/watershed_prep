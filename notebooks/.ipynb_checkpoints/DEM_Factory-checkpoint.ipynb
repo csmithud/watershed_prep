{
 "cells": [
  {
   "cell_type": "markdown",
   "id": "8ab40abb-3f54-4071-9419-a0ee68b8586d",
   "metadata": {},
   "source": [
    "## Papermill Loop to create DEMs"
   ]
  },
  {
   "cell_type": "code",
   "execution_count": 1,
   "id": "5ebbc363-8479-417b-b053-13da6a209cda",
   "metadata": {},
   "outputs": [],
   "source": [
    "import subprocess, os"
   ]
  },
  {
   "cell_type": "code",
   "execution_count": 2,
   "id": "b0e8fa22-0851-4f88-b253-3d7fac4f7ee8",
   "metadata": {},
   "outputs": [],
   "source": [
    "import pathlib as pl"
   ]
  },
  {
   "cell_type": "raw",
   "id": "c3e175dc-02b1-4a99-a010-1a3bfa1812ab",
   "metadata": {
    "tags": []
   },
   "source": [
    "conda install -c conda-forge papermill"
   ]
  },
  {
   "cell_type": "code",
   "execution_count": 3,
   "id": "5843d27a-eee7-4560-910d-36f59e84f374",
   "metadata": {},
   "outputs": [],
   "source": [
    "import papermill as pm"
   ]
  },
  {
   "cell_type": "code",
   "execution_count": 4,
   "id": "654fc8ee-e098-4b7e-aea4-809b632e8cd7",
   "metadata": {},
   "outputs": [],
   "source": [
    "#list of hucs for Curtis to run\n",
    "\n",
    "hucs = ['1404010602', '1404010603', '1404010604', '1404010605', '1404010608', '1404010701']"
   ]
  },
  {
   "cell_type": "code",
   "execution_count": 5,
   "id": "81f3f0be-b593-4c65-b2fe-d1893f1948c1",
   "metadata": {},
   "outputs": [],
   "source": [
    "home = pl.Path(os.getcwd())"
   ]
  },
  {
   "cell_type": "code",
   "execution_count": 6,
   "id": "3627e73d-33cb-4006-8bd1-52ae03e3463f",
   "metadata": {},
   "outputs": [],
   "source": [
    "if not os.path.exists(home/'notebook_outputs'):\n",
    "    os.makedirs(home/'notebook_outputs')"
   ]
  },
  {
   "cell_type": "code",
   "execution_count": 7,
   "id": "72491879-0e60-4b55-8ecd-c5a53dce1905",
   "metadata": {},
   "outputs": [],
   "source": [
    "from IPython.display import clear_output"
   ]
  },
  {
   "cell_type": "code",
   "execution_count": 8,
   "id": "70a3a659-acdf-4d12-8fdb-9322e1ed76de",
   "metadata": {
    "tags": []
   },
   "outputs": [
    {
     "data": {
      "application/vnd.jupyter.widget-view+json": {
       "model_id": "690deab009ff46f2bbdb1aed9e549307",
       "version_major": 2,
       "version_minor": 0
      },
      "text/plain": [
       "Executing:   0%|          | 0/33 [00:00<?, ?cell/s]"
      ]
     },
     "metadata": {},
     "output_type": "display_data"
    },
    {
     "ename": "PapermillExecutionError",
     "evalue": "\n---------------------------------------------------------------------------\nException encountered at \"In [8]\":\n---------------------------------------------------------------------------\nValueError                                Traceback (most recent call last)\n/tmp/ipykernel_4184/2110702192.py in <module>\n     22     shp = gpd.read_file(input_shp)\n     23     shp = shp.rename({'HUC10_mod':'perim'},axis=1)\n---> 24     aoi = shp.loc[shp[data_scale] == select_data]\n     25     local_huc12 = None\n     26 #save to vector for later analysis\n\n/opt/conda/lib/python3.9/site-packages/pandas/core/indexing.py in __getitem__(self, key)\n    929 \n    930             maybe_callable = com.apply_if_callable(key, self.obj)\n--> 931             return self._getitem_axis(maybe_callable, axis=axis)\n    932 \n    933     def _is_scalar_access(self, key: tuple):\n\n/opt/conda/lib/python3.9/site-packages/pandas/core/indexing.py in _getitem_axis(self, key, axis)\n   1149 \n   1150                 if hasattr(key, \"ndim\") and key.ndim > 1:\n-> 1151                     raise ValueError(\"Cannot index with multidimensional key\")\n   1152 \n   1153                 return self._getitem_iterable(key, axis=axis)\n\nValueError: Cannot index with multidimensional key\n",
     "output_type": "error",
     "traceback": [
      "\u001b[0;31m---------------------------------------------------------------------------\u001b[0m",
      "\u001b[0;31mPapermillExecutionError\u001b[0m                   Traceback (most recent call last)",
      "\u001b[0;32m/tmp/ipykernel_4156/3767095975.py\u001b[0m in \u001b[0;36m<module>\u001b[0;34m\u001b[0m\n\u001b[1;32m     11\u001b[0m     \u001b[0mauto_delete\u001b[0m\u001b[0;34m=\u001b[0m \u001b[0;32mTrue\u001b[0m\u001b[0;34m\u001b[0m\u001b[0;34m\u001b[0m\u001b[0m\n\u001b[1;32m     12\u001b[0m \u001b[0;34m\u001b[0m\u001b[0m\n\u001b[0;32m---> 13\u001b[0;31m     res = pm.execute_notebook('1-RAS_DEM_download.ipynb',os.path.join('notebook_outputs',f'1-RAS_DEM_download_{select_data}.ipynb'),\n\u001b[0m\u001b[1;32m     14\u001b[0m                               parameters= dict(select_data=select_data,res=res,Project_Area=Project_Area,GRASS_GIS_Projection=GRASS_GIS_Projection,\n\u001b[1;32m     15\u001b[0m                                              \u001b[0mprojection\u001b[0m\u001b[0;34m=\u001b[0m\u001b[0mprojection\u001b[0m\u001b[0;34m,\u001b[0m\u001b[0mdata_scale\u001b[0m\u001b[0;34m=\u001b[0m\u001b[0mdata_scale\u001b[0m\u001b[0;34m,\u001b[0m\u001b[0mto_headwaters\u001b[0m\u001b[0;34m=\u001b[0m\u001b[0mto_headwaters\u001b[0m\u001b[0;34m,\u001b[0m\u001b[0minput_shp_name\u001b[0m\u001b[0;34m=\u001b[0m\u001b[0minput_shp_name\u001b[0m\u001b[0;34m,\u001b[0m\u001b[0;34m\u001b[0m\u001b[0;34m\u001b[0m\u001b[0m\n",
      "\u001b[0;32m/opt/conda/lib/python3.9/site-packages/papermill/execute.py\u001b[0m in \u001b[0;36mexecute_notebook\u001b[0;34m(input_path, output_path, parameters, engine_name, request_save_on_cell_execute, prepare_only, kernel_name, language, progress_bar, log_output, stdout_file, stderr_file, start_timeout, report_mode, cwd, **engine_kwargs)\u001b[0m\n\u001b[1;32m    126\u001b[0m \u001b[0;34m\u001b[0m\u001b[0m\n\u001b[1;32m    127\u001b[0m             \u001b[0;31m# Check for errors first (it saves on error before raising)\u001b[0m\u001b[0;34m\u001b[0m\u001b[0;34m\u001b[0m\u001b[0m\n\u001b[0;32m--> 128\u001b[0;31m             \u001b[0mraise_for_execution_errors\u001b[0m\u001b[0;34m(\u001b[0m\u001b[0mnb\u001b[0m\u001b[0;34m,\u001b[0m \u001b[0moutput_path\u001b[0m\u001b[0;34m)\u001b[0m\u001b[0;34m\u001b[0m\u001b[0;34m\u001b[0m\u001b[0m\n\u001b[0m\u001b[1;32m    129\u001b[0m \u001b[0;34m\u001b[0m\u001b[0m\n\u001b[1;32m    130\u001b[0m         \u001b[0;31m# Write final output in case the engine didn't write it on cell completion.\u001b[0m\u001b[0;34m\u001b[0m\u001b[0;34m\u001b[0m\u001b[0m\n",
      "\u001b[0;32m/opt/conda/lib/python3.9/site-packages/papermill/execute.py\u001b[0m in \u001b[0;36mraise_for_execution_errors\u001b[0;34m(nb, output_path)\u001b[0m\n\u001b[1;32m    230\u001b[0m \u001b[0;34m\u001b[0m\u001b[0m\n\u001b[1;32m    231\u001b[0m         \u001b[0mwrite_ipynb\u001b[0m\u001b[0;34m(\u001b[0m\u001b[0mnb\u001b[0m\u001b[0;34m,\u001b[0m \u001b[0moutput_path\u001b[0m\u001b[0;34m)\u001b[0m\u001b[0;34m\u001b[0m\u001b[0;34m\u001b[0m\u001b[0m\n\u001b[0;32m--> 232\u001b[0;31m         \u001b[0;32mraise\u001b[0m \u001b[0merror\u001b[0m\u001b[0;34m\u001b[0m\u001b[0;34m\u001b[0m\u001b[0m\n\u001b[0m",
      "\u001b[0;31mPapermillExecutionError\u001b[0m: \n---------------------------------------------------------------------------\nException encountered at \"In [8]\":\n---------------------------------------------------------------------------\nValueError                                Traceback (most recent call last)\n/tmp/ipykernel_4184/2110702192.py in <module>\n     22     shp = gpd.read_file(input_shp)\n     23     shp = shp.rename({'HUC10_mod':'perim'},axis=1)\n---> 24     aoi = shp.loc[shp[data_scale] == select_data]\n     25     local_huc12 = None\n     26 #save to vector for later analysis\n\n/opt/conda/lib/python3.9/site-packages/pandas/core/indexing.py in __getitem__(self, key)\n    929 \n    930             maybe_callable = com.apply_if_callable(key, self.obj)\n--> 931             return self._getitem_axis(maybe_callable, axis=axis)\n    932 \n    933     def _is_scalar_access(self, key: tuple):\n\n/opt/conda/lib/python3.9/site-packages/pandas/core/indexing.py in _getitem_axis(self, key, axis)\n   1149 \n   1150                 if hasattr(key, \"ndim\") and key.ndim > 1:\n-> 1151                     raise ValueError(\"Cannot index with multidimensional key\")\n   1152 \n   1153                 return self._getitem_iterable(key, axis=axis)\n\nValueError: Cannot index with multidimensional key\n"
     ]
    }
   ],
   "source": [
    "for huc in hucs:\n",
    "    select_data=huc\n",
    "    Project_Area= 'wyoming_ble_stantec'\n",
    "    GRASS_GIS_Projection= '26912'\n",
    "    projection= '26912'\n",
    "    res='opr'\n",
    "    data_scale= 'perim' \n",
    "    to_headwaters= False \n",
    "    input_shp_name= 'ALL_perimeters_smoothed_stantec_dewberry_231115.shp'\n",
    "    buffer = 2000\n",
    "    auto_delete= True\n",
    "    \n",
    "    res = pm.execute_notebook('1-RAS_DEM_download.ipynb',os.path.join('notebook_outputs',f'1-RAS_DEM_download_{select_data}.ipynb'),\n",
    "                              parameters= dict(select_data=select_data,res=res,Project_Area=Project_Area,GRASS_GIS_Projection=GRASS_GIS_Projection,\n",
    "                                             projection=projection,data_scale=data_scale,to_headwaters=to_headwaters,input_shp_name=input_shp_name,\n",
    "                                               buffer=buffer,auto_delete=auto_delete))\n",
    "\n",
    "    res2 = pm.execute_notebook('2-RAS_DEM_Prep.ipynb',os.path.join('notebook_outputs',f'2-RAS_DEM_Prep_{select_data}.ipynb'),\n",
    "                               parameters=dict(select_data=select_data,res=res,Project_Area=Project_Area,GRASS_GIS_Projection=GRASS_GIS_Projection,\n",
    "                                             projection=projection,data_scale=data_scale,to_headwaters=to_headwaters,input_shp_name=input_shp_name,\n",
    "                                               buffer=buffer, auto_delete=auto_delete))\n",
    "    clear_output(wait=True)"
   ]
  },
  {
   "cell_type": "code",
   "execution_count": null,
   "id": "9e73a5a6-3c90-44d3-a81b-25a9957e7425",
   "metadata": {},
   "outputs": [],
   "source": []
  },
  {
   "cell_type": "code",
   "execution_count": null,
   "id": "b0a19921-a035-427c-aa45-cd70d95bbaa3",
   "metadata": {},
   "outputs": [],
   "source": []
  }
 ],
 "metadata": {
  "kernelspec": {
   "display_name": "Python 3 (ipykernel)",
   "language": "python",
   "name": "python3"
  },
  "language_info": {
   "codemirror_mode": {
    "name": "ipython",
    "version": 3
   },
   "file_extension": ".py",
   "mimetype": "text/x-python",
   "name": "python",
   "nbconvert_exporter": "python",
   "pygments_lexer": "ipython3",
   "version": "3.9.7"
  }
 },
 "nbformat": 4,
 "nbformat_minor": 5
}
