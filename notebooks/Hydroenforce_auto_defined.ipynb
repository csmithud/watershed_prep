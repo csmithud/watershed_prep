{
 "cells": [
  {
   "cell_type": "code",
   "execution_count": 1,
   "metadata": {},
   "outputs": [],
   "source": [
    "import os"
   ]
  },
  {
   "cell_type": "code",
   "execution_count": 2,
   "metadata": {},
   "outputs": [],
   "source": [
    "run = 'local' #local or cloud\n",
    "os.environ[\"APP_ENV\"] = run"
   ]
  },
  {
   "cell_type": "code",
   "execution_count": 3,
   "metadata": {},
   "outputs": [],
   "source": [
    "import sys\n",
    "sys.path.append('..')"
   ]
  },
  {
   "cell_type": "code",
   "execution_count": 4,
   "metadata": {},
   "outputs": [],
   "source": [
    "from src.grass_functions import*\n",
    "from src.data.process_inputs import*\n",
    "%matplotlib inline\n",
    "#%load_ext autoreload\n",
    "#%autoreload 2"
   ]
  },
  {
   "cell_type": "markdown",
   "metadata": {},
   "source": [
    "# Parameters"
   ]
  },
  {
   "cell_type": "code",
   "execution_count": 5,
   "metadata": {
    "tags": [
     "parameters"
    ]
   },
   "outputs": [],
   "source": [
    "#set project variables\n",
    "Project_Area = 'nebraska_regression_stantec'\n",
    "GRASS_GIS_Projection = projection = '26852' #UTM meters ##set to None if you want to use the DEM's original projection\n",
    "res = '10m'\n",
    "## Set variables analysis\n",
    "data_scale = 'HUC8' #other options HUC12, HUC10, HUC8 OR the field name of the source data to be split <-- case sensitive\n",
    "select_data = '10270204' #     # Value within the filter_field used for data selection\n",
    "to_headwaters = False #False if only interested in local huc area\n",
    "input_shp_name = 'None' #None or must be populated populated with a shapefile polygons if data_scale != HUCXX\n",
    "buffer = 2000*3.28084 #untis of projection\n",
    "auto_delete = False"
   ]
  },
  {
   "cell_type": "code",
   "execution_count": 15,
   "metadata": {},
   "outputs": [],
   "source": [
    "stream_source_nhd = False\n",
    "stream_shp = 'Turkey_Streams.shp'"
   ]
  },
  {
   "cell_type": "raw",
   "metadata": {
    "tags": []
   },
   "source": [
    "#set project variables\n",
    "Project_Area = 'oakdale_merge'\n",
    "GRASS_GIS_Projection = projection = None #set to None if you want to use the DEM's original projection\n",
    "\n",
    "## Set variables analysis\n",
    "data_scale = 'HUC12' #other options HUC12, HUC10, HUC8 OR the field name of the source data to be split <-- case sensitive\n",
    "select_data = '020302020401' #     # Value within the filter_field used for data selection\n",
    "to_headwaters = False #False if only interested in local huc area\n",
    "input_shp_name = 'None' #None or must be populated populated with a shapefile polygons if data_scale != HUCXX"
   ]
  },
  {
   "cell_type": "raw",
   "metadata": {
    "tags": []
   },
   "source": [
    "#set project variables\n",
    "Project_Area = 'miami_walton'\n",
    "GRASS_GIS_Projection = projection = '26918' #set to None if you want to use the DEM's original projection\n",
    "\n",
    "## Set variables analysis\n",
    "data_scale = 'HUC12' #other options HUC12, HUC10, HUC8 OR the field name of the source data to be split <-- case sensitive\n",
    "select_data = '030902061500' #     # Value within the filter_field used for data selection\n",
    "to_headwaters = False #False if only interested in local huc area\n",
    "input_shp_name = 'None' #None or must be populated populated with a shapefile polygons if data_scale != HUCXX"
   ]
  },
  {
   "cell_type": "raw",
   "metadata": {
    "tags": []
   },
   "source": [
    "#set project variables\n",
    "Project_Area = 'new_rochelle_cva_test'\n",
    "GRASS_GIS_Projection = projection = '26918' #set to None if you want to use the DEM's original projection\n",
    "\n",
    "## Set variables analysis\n",
    "data_scale = 'HUC12' #other options HUC12, HUC10, HUC8 OR the field name of the source data to be split <-- case sensitive\n",
    "select_data = '020301020203' #     # Value within the filter_field used for data selection\n",
    "to_headwaters = False #False if only interested in local huc area\n",
    "input_shp_name = 'None' #None or must be populated populated with a shapefile polygons if data_scale != HUCXX"
   ]
  },
  {
   "cell_type": "raw",
   "metadata": {
    "tags": []
   },
   "source": [
    "#set project variables\n",
    "Project_Area = 'wyoming_ble_stantec'\n",
    "GRASS_GIS_Projection = projection = '26912' #set to None if you want to use the DEM's original projection\n",
    "\n",
    "## Set variables analysis\n",
    "data_scale = 'HUC10' #other options HUC12, HUC10, HUC8 OR the field name of the source data to be split <-- case sensitive\n",
    "select_data = '1404010306' #     # Value within the filter_field used for data selection\n",
    "to_headwaters = False #False if only interested in local huc area\n",
    "input_shp_name = 'None' #None or must be populated populated with a shapefile polygons if data_scale != HUCXX\n",
    "dem= f'dem_{select_data}'"
   ]
  },
  {
   "cell_type": "code",
   "execution_count": 6,
   "metadata": {},
   "outputs": [],
   "source": [
    "huc_level = re.findall(\"[0-9]+\",data_scale)[0]\n",
    "if huc_level == str(len(select_data)):\n",
    "    huc_digys = huc_level\n",
    "else:\n",
    "    huc_digys = huc_level\n",
    "    select_data = select_data[:int(huc_digys)]"
   ]
  },
  {
   "cell_type": "code",
   "execution_count": 7,
   "metadata": {
    "tags": []
   },
   "outputs": [],
   "source": [
    "## Paths:\n",
    "parent_dir = pl.Path(os.getcwd()).parent/'data'\n",
    "current_dir = pl.Path(os.getcwd())\n",
    "outputs_dir =parent_dir/'Rasters'/Project_Area/'Outputs'\n",
    "vector_dir = parent_dir/'Vectors'/Project_Area\n",
    "raster_dir = parent_dir/'Rasters'/Project_Area\n",
    "huc_path = vector_dir/'{}_aoi.geojson'.format(Project_Area)\n",
    "git_data_repo = current_dir/'data_repository'\n",
    "if input_shp_name:\n",
    "    input_shp = git_data_repo/input_shp_name\n",
    "directory = outputs_dir"
   ]
  },
  {
   "cell_type": "markdown",
   "metadata": {},
   "source": [
    "### Get area of interest"
   ]
  },
  {
   "cell_type": "code",
   "execution_count": 30,
   "metadata": {},
   "outputs": [
    {
     "name": "stderr",
     "output_type": "stream",
     "text": [
      "[2023-11-28 17:17:09,321] [WARNING] [geodataframe] : Expecting property name enclosed in double quotes: line 1 column 2 (char 1)\n"
     ]
    }
   ],
   "source": [
    "#read from to vector path from notebook 1\n",
    "huc_path = vector_dir/'{0}_{1}_aoi.geojson'.format(Project_Area,select_data)\n",
    "aoi = gpd.read_file(str(huc_path),driver=\"GeoJSON\")"
   ]
  },
  {
   "cell_type": "markdown",
   "metadata": {},
   "source": [
    "### Start new grass session"
   ]
  },
  {
   "cell_type": "code",
   "execution_count": 9,
   "metadata": {},
   "outputs": [],
   "source": [
    "#set projection if none exists\n",
    "if not GRASS_GIS_Projection:\n",
    "    dem_vrt = raster_dir/'dem'/'dem_{}.vrt'.format(select_data)\n",
    "    GRASS_GIS_Projection = projection = get_raster_epsg(dem_vrt)\n",
    "## GRASSGIS Location and Mapsets\n",
    "Location = Project_Area+'_'+GRASS_GIS_Projection\n",
    "Mapset = 'PERMANENT'"
   ]
  },
  {
   "cell_type": "code",
   "execution_count": 10,
   "metadata": {},
   "outputs": [
    {
     "data": {
      "text/plain": [
       "PosixPath('/home/data/Rasters/nebraska_regression_stantec')"
      ]
     },
     "execution_count": 10,
     "metadata": {},
     "output_type": "execute_result"
    }
   ],
   "source": [
    "raster_dir"
   ]
  },
  {
   "cell_type": "code",
   "execution_count": 11,
   "metadata": {
    "tags": []
   },
   "outputs": [
    {
     "name": "stdout",
     "output_type": "stream",
     "text": [
      "Database Location Exists\n",
      "Database Mapset Exists\n",
      "None\n",
      "{'GISDBASE': '/home/grassdata', 'LOCATION_NAME': 'nebraska_regression_stantec_26852', 'MAPSET': 'PERMANENT'}\n"
     ]
    },
    {
     "name": "stderr",
     "output_type": "stream",
     "text": [
      "Current GRASS GIS 7 environment:\n"
     ]
    }
   ],
   "source": [
    "initialize_grass_db(Location, Mapset, GRASS_GIS_Projection)\n",
    "#initialize_grass_db(Location, Mapset, GRASS_GIS_Projection)"
   ]
  },
  {
   "cell_type": "markdown",
   "metadata": {},
   "source": [
    "#### Review existing files"
   ]
  },
  {
   "cell_type": "code",
   "execution_count": 12,
   "metadata": {
    "tags": []
   },
   "outputs": [
    {
     "name": "stdout",
     "output_type": "stream",
     "text": [
      "Available vector maps:\n",
      "HUC81027@PERMANENT\n",
      "basins@PERMANENT\n",
      "tmp_bsn@PERMANENT\n",
      "tmp_bsn_buffer@PERMANENT\n",
      "\n",
      "Available raster maps:\n",
      "dem_10270204@PERMANENT\n"
     ]
    }
   ],
   "source": [
    "#list all grass files\n",
    "grass_maps = list_existing_grass()"
   ]
  },
  {
   "cell_type": "code",
   "execution_count": 13,
   "metadata": {},
   "outputs": [],
   "source": [
    "#remove old files if needed\n",
    "remove_grass_data(grass_maps,'None','raster') #update 'None' with map name or type (i.e. 'raster' or 'vector')"
   ]
  },
  {
   "cell_type": "code",
   "execution_count": 36,
   "metadata": {},
   "outputs": [],
   "source": [
    "dem = f'dem_{select_data}'\n",
    "basins = 'aoi'\n",
    "assert dem+\"@PERMANENT\" in grass_maps['raster'], 'Check that dem exists in GRASS'"
   ]
  },
  {
   "cell_type": "code",
   "execution_count": 37,
   "metadata": {
    "tags": []
   },
   "outputs": [
    {
     "name": "stderr",
     "output_type": "stream",
     "text": [
      "Check if OGR layer <Turkey_Streams> contains polygons...\n",
      "   0   2   4   6   8  10  12  14  16  18  20  22  24  26  28  30  32  34  36  38  40  42  44  46  48  50  52  54  56  58  60  62  64  66  68  70  72  74  76  78  80  82  84  86  88  90  92  94  96  98 100\n",
      "WARNING: Vector map <stream_import> already exists and will be overwritten\n",
      "Creating attribute table for layer <Turkey_Streams>...\n",
      "Importing 222 features (OGR layer <Turkey_Streams>)...\n",
      "   0   2   4   6   8  10  12  14  16  18  20  22  24  26  28  30  32  34  36  38  40  42  44  46  48  50  52  54  56  58  60  62  64  66  68  70  72  74  76  78  80  82  84  86  88  90  92  94  96  98 100\n",
      "-----------------------------------------------------\n",
      "Building topology for vector map <stream_import@PERMANENT>...\n",
      "Registering primitives...\n",
      "Input </home/data/Vectors/nebraska_regression_stantec/Turkey_Streams.shp>\n",
      "successfully imported without reprojection\n",
      "Copying vector features from <stream_import@PERMANENT>...\n",
      "   1   3   5   7   9  11  13  15  17  19  21  23  25  27  29  31  33  35  37  39  41  43  45  47  49  51  53  55  57  59  61  63  65  67  69  71  73  75  77  79  81  83  85  87  89  91  93  95  97  99 100\n",
      "Copying vector features from <basins@PERMANENT>...\n",
      "  20  40  60  80 100\n",
      "Breaking lines...\n",
      "   0   2   4   6   8  11  13  15  18  20  22  25  27  29  31  33  36  38  40  43  45  47  50  52  54  56  58  61  63  65  68  70  72  75  77  79  81  83  86  88  90  93  95  97 100\n",
      "Selecting lines...\n",
      "   1   3   5   7   9  11  13  15  17  19  21  23  25  27  29  31  33  35  37  39  41  43  45  47  49  51  53  55  57  59  61  63  65  67  69  71  73  75  77  79  81  83  85  87  89  91  93  95  97  99 100\n",
      "Building topology for vector map <stream_10270204@PERMANENT>...\n",
      "Registering primitives...\n",
      "v.overlay complete.\n"
     ]
    }
   ],
   "source": [
    "#import stream lines lines\n",
    "force=True\n",
    "GRASS_vector_files = [file for line in gs.list_strings(type='vector') for file in [line.split(\"@\")[0]]]\n",
    "if stream_source_nhd:\n",
    "    nhd = f'nhd{select_data[:4]}'\n",
    "    v_stream = f'stream_{select_data}'\n",
    "    if nhd not in GRASS_vector_files or force:\n",
    "        gs.run_command('v.import', input=  vector_dir/('NHDPLUS_H_'+select_data[:4]+'_HU4_GDB.gdb'),extent='region', layer = 'NHDFlowline',  output= nhd)\n",
    "\n",
    "else:\n",
    "    nhd = f'stream_import'\n",
    "    v_stream = f'stream_{select_data}'\n",
    "    if nhd not in GRASS_vector_files or force:\n",
    "        assert os.path.exists(vector_dir/stream_shp), \"stream file is not in vector / project folder\"\n",
    "        assert str(vector_dir/stream_shp)[-4:] != '.gdb', \"stream file is gdb but code needs to be updated to accept that filetype\"\n",
    "        gs.run_command('v.import', input=  vector_dir/stream_shp,extent='region',  output= nhd)\n",
    "\n",
    "\n",
    "#Extract NHD flow lines for upstream HUC12 areas\n",
    "if v_stream not in GRASS_vector_files or force:\n",
    "    gs.run_command('v.overlay', ainput = nhd,binput = basins, output = v_stream, operator = 'and')"
   ]
  },
  {
   "cell_type": "code",
   "execution_count": 44,
   "metadata": {},
   "outputs": [
    {
     "name": "stderr",
     "output_type": "stream",
     "text": [
      "d.vect complete.\n",
      "d.vect complete.\n"
     ]
    },
    {
     "data": {
      "image/png": "[encoded data removed]",
      "text/plain": [
       "<IPython.core.display.Image object>"
      ]
     },
     "execution_count": 44,
     "metadata": {},
     "output_type": "execute_result"
    }
   ],
   "source": [
    "##print watershed flowlines @ Regional scale to confirm data and extent\n",
    "gs.run_command('d.erase')\n",
    "gs.run_command('d.vect', map= basins,color='blue',fill_color='none')\n",
    "gs.run_command('d.vect', map= v_stream,color='black',fill_color='none')\n",
    "Image(filename=\"map.png\")"
   ]
  },
  {
   "cell_type": "code",
   "execution_count": 39,
   "metadata": {
    "tags": []
   },
   "outputs": [],
   "source": [
    "def adjust_nhd_lines_no_snap(dem,v_stream,outputs_dir,overwrite = False):\n",
    "    print(\"combining watershed lines and nhd lines\")\n",
    "    gs.run_command(\"v.build.polylines\",input=v_stream,output= '{}_poly'.format(v_stream),cats='same')\n",
    "    gs.run_command(\"v.to.points\", input= '{}_poly'.format(v_stream), type='line', output='{}_pts'.format(v_stream),dmax=5)\n",
    "    gs.run_command('v.drape',input='{}_pts'.format(v_stream),elevation=dem,type='point',output='{}_pts_3d'.format(v_stream))"
   ]
  },
  {
   "cell_type": "code",
   "execution_count": 40,
   "metadata": {
    "tags": []
   },
   "outputs": [
    {
     "name": "stdout",
     "output_type": "stream",
     "text": [
      "combining watershed lines and nhd lines\n"
     ]
    },
    {
     "name": "stderr",
     "output_type": "stream",
     "text": [
      "Building topology for vector map <stream_10270204_poly@PERMANENT>...\n",
      "Registering primitives...\n",
      "   2   5   8  11  14  17  20  23  26  29  32  35  38  41  44  47  50  53  56  59  62  65  68  71  74  77  80  83  86  89  92  95  98 100\n",
      "Building topology for vector map <stream_10270204_pts@PERMANENT>...\n",
      "Registering primitives...\n",
      "v.to.points complete. 856515 points written to output vector map.    900    1000    1100    1200    1300    1400    1500    1600    1700    1800    1900    2000    2100    2200    2300    2400    2500    2600    2700    2800    2900    3000    3100    3200    3300    3400    3500    3600    3700    3800    3900    4000    4100    4200    4300    4400    4500    4600    4700    4800    4900    5000    5100    5200    5300    5400    5500    5600    5700    5800    5900    6000    6100    6200    6300    6400    6500    6600    6700    6800    6900    7000    7100    7200    7300    7400    7500    7600    7700    7800    7900    8000    8100    8200    8300    8400    8500\n",
      "Processing features...\n",
      "   2   5   8  11  14  17  20  23  26  29  32  35  38  41  44  47  50  53  56  59  62  65  68  71  74  77  80  83  86  89  92  95  98 100\n",
      "Copying attribute tables...\n",
      "Building topology for vector map <stream_10270204_pts_3d@PERMANENT>...\n",
      "Registering primitives...\n",
      "v.drape complete. T: 1744.060166 B: 1263.549885.     700     800     900    1000    1100    1200    1300    1400    1500    1600    1700    1800    1900    2000    2100    2200    2300    2400    2500    2600    2700    2800    2900    3000    3100    3200    3300    3400    3500    3600    3700    3800    3900    4000    4100    4200    4300    4400    4500    4600    4700    4800    4900    5000    5100    5200    5300    5400    5500    5600    5700    5800    5900    6000    6100    6200    6300    6400    6500    6600    6700    6800    6900    7000    7100    7200    7300    7400    7500    7600    7700    7800    7900    8000    8100    8200    8300    8400    8500\n"
     ]
    }
   ],
   "source": [
    "adjust_nhd_lines_no_snap(dem,v_stream,outputs_dir,overwrite = True)"
   ]
  },
  {
   "cell_type": "code",
   "execution_count": 53,
   "metadata": {
    "tags": []
   },
   "outputs": [],
   "source": [
    "def get_increases_along_streams(point_list,cat,outputs_dir,sr,ratio):\n",
    "        \n",
    "    #attribute geometry for analysis\n",
    "    index = 1\n",
    "    df_pts = pd.DataFrame(columns = ['x','y','z'])\n",
    "    df_lines_out = gpd.GeoDataFrame()\n",
    "    for point in point_list:\n",
    "        coord = point.coords[0]\n",
    "        df_pts = df_pts.append(pd.DataFrame([[coord[0],coord[1],coord[2]]],columns = ['x','y','z']))\n",
    "    df_pts.reset_index(inplace=True)\n",
    "    df_pts.loc[:,'delta'] = df_pts.loc[:,'z'].diff()\n",
    "    df_pts.loc[:,'x_distance'] = df_pts.loc[:,'x'].diff()\n",
    "    df_pts.loc[:,'y_distance'] = df_pts.loc[:,'y'].diff()\n",
    "    df_pts.loc[:,'x_distance'].fillna(0.0,inplace=True)\n",
    "    df_pts.loc[:,'y_distance'].fillna(0.0,inplace=True)\n",
    "    df_pts['distance'] = np.sqrt(df_pts['y_distance'].apply(lambda x: x**2) + df_pts['x_distance'].apply(lambda x: x**2))\n",
    "    df_pts['delta'].fillna(0.0,inplace=True)\n",
    "    df_pts_out = pd.DataFrame(columns = df_pts.columns.to_list())\n",
    "    increases = df_pts.loc[df_pts['delta'] > 0].index.to_list()\n",
    "    seg = 1\n",
    "    while increases:\n",
    "        rolling_sum = df_pts.loc[increases[0]]['delta']\n",
    "        i = 1\n",
    "        while rolling_sum >= 0:\n",
    "            rolling_sum += df_pts.loc[increases[0]+i:increases[0]+i+1]['delta'].sum()\n",
    "            if rolling_sum >= 0 and increases[0]+i+1 <= df_pts.last_valid_index():\n",
    "                i+= 1\n",
    "                pass\n",
    "            else:\n",
    "                df_seg = df_pts.loc[increases[0]-1:increases[0]+i]\n",
    "                road_pts, slope = roads_detector(df_seg,ratio)\n",
    "                if road_pts.empty is False:\n",
    "                    road_pts = gpd.GeoDataFrame(road_pts, geometry=road_pts.apply(lambda r: shapely.geometry.Point(r.x,r.y,r.z), axis=1))\n",
    "                    road_pts['segment'] = seg\n",
    "                    seg+=1\n",
    "                    # generate Linestrings grouping by station\n",
    "                    gls = gpd.GeoDataFrame(geometry=gpd.GeoSeries(road_pts.groupby('segment').apply(lambda d: shapely.geometry.LineString(d[\"geometry\"].values))))\n",
    "                    gls['ratio'] = slope\n",
    "                    gls.set_crs(crs = sr, inplace=True,allow_override=True)\n",
    "                    df_lines_out = df_lines_out.append(gls)\n",
    "                    \n",
    "                remove_list = []\n",
    "                for k in range(i):\n",
    "                    if increases[0]+k in increases:\n",
    "                        remove_list.append(increases[0]+k)\n",
    "                        if increases[0]+k == df_pts.last_valid_index():\n",
    "                            if increases[0]+k not in remove_list:\n",
    "                                remove_list.append(increases[0]+k)\n",
    "                for removal in remove_list:\n",
    "                    increases.remove(removal)\n",
    "                if not increases:\n",
    "                    rolling_sum = -0.1 \n",
    "    #add road names\n",
    "    if df_lines_out.empty is False:\n",
    "        nad83 = 4269\n",
    "        df_lines_out = df_lines_out.to_crs(nad83)\n",
    "        #df_lines_out['esri_geo'] = df_lines_out['geometry'].apply(lambda x : get_esri_JSON(x.__geo_interface__,nad83))\n",
    "        #df_lines_out['crossing'] = df_lines_out['esri_geo'].apply(lambda x : get_road_names(x,nad83,'NAME'))\n",
    "        #df_lines_out = df_lines_out[['crossing','geometry']]\n",
    "        df_lines_out = df_lines_out[['geometry']]\n",
    "        df_lines_out = df_lines_out.to_crs(sr)\n",
    "    #export\n",
    "    if df_lines_out.empty is False:\n",
    "        df_lines_out.set_crs(crs = sr, inplace=True,allow_override=True)\n",
    "        df_lines_out.to_file(str(outputs_dir/'hydro_connectors_in_{}.geojson'.format(cat)),driver='GeoJSON')"
   ]
  },
  {
   "cell_type": "code",
   "execution_count": 54,
   "metadata": {
    "tags": []
   },
   "outputs": [],
   "source": [
    "def create_hydro_connectors(dem,v_stream,outputs_dir, projection, ratio = 15, overwrite = False):\n",
    "    hydro_connectors = dem[:dem.find('dem')]+'hydro_connectors'\n",
    "    GRASS_vector_files= [file for line in gs.list_strings(type='vector') for file in [line.split(\"@\")[0]]]\n",
    "    if  hydro_connectors in GRASS_vector_files and overwrite is False:\n",
    "        logger.info(\"hydroconnectors exist. Not recreating.\")\n",
    "    else:\n",
    "        #clean up existing files\n",
    "        if os.path.exists(outputs_dir) and os.path.isdir(outputs_dir):\n",
    "            shutil.rmtree(outputs_dir)\n",
    "        os.makedirs(outputs_dir)\n",
    "        gs.run_command('g.remove', type ='vector', name=hydro_connectors, flags ='f')\n",
    "\n",
    "        logger.info(\"exporting nhd lines for road and dam analysis\")\n",
    "\n",
    "        cats = list(gs.parse_command('v.db.select',map='{}_pts_3d'.format(v_stream),columns='cat',flags='c',separator=',').keys())\n",
    "        for cat in cats:\n",
    "            gs.run_command('v.out.ascii',flags='c',type='point',input ='{}_pts_3d'.format(v_stream), cats= cat, output=outputs_dir/'nhd_out_{}.txt'.format(cat),format='wkt')\n",
    "            \n",
    "            points = []\n",
    "            df_points = pd.DataFrame()\n",
    "            with open(outputs_dir/\"nhd_out_{}.txt\".format(cat), 'r') as fd:\n",
    "                txt = fd.read()\n",
    "            points = txt.splitlines()\n",
    "            df_points = gpd.GeoDataFrame(geometry=gpd.GeoSeries.from_wkt(points, index=None, crs=int(projection)))    \n",
    "            temp = get_increases_along_streams(df_points.geometry.to_list(),cat,outputs_dir,int(projection),ratio=ratio)"
   ]
  },
  {
   "cell_type": "code",
   "execution_count": 55,
   "metadata": {},
   "outputs": [],
   "source": [
    "def get_road_names(esri_geo,sr,out_field):\n",
    "    #set base URL information for road name check\n",
    "    api_base = 'https://tigerweb.geo.census.gov/arcgis/rest/services/TIGERweb/Transportation/MapServer'\n",
    "    params = {'f':'json'}\n",
    "    # layer_index = layer_indexer_all(api_base,params)\n",
    "    layer_index = [8]\n",
    "    query_params = {'geometry': esri_geo, 'geometryType': 'esriGeometryPolyline','f':'json','outFields':out_field,'inSR':sr,'returnGeometry':'false','distance':'25'}\n",
    "    for layer in layer_index:\n",
    "        query_url = '{0}/{1}/query'.format(api_base,layer)\n",
    "        response = esri_rest_query(query_url,query_params)\n",
    "        if 'features' in response.keys():\n",
    "            if response['features']:\n",
    "                print(response['features'][0]['attributes']['NAME'])\n",
    "                return response['features'][0]['attributes']['NAME']\n",
    "            else:\n",
    "                pass\n",
    "        else:\n",
    "            pass\n",
    "    return 'None'"
   ]
  },
  {
   "cell_type": "code",
   "execution_count": 56,
   "metadata": {},
   "outputs": [],
   "source": [
    "def esri_rest_query(service:str,parameters:dict) -> list:\n",
    "    '''\n",
    "    takes a url and parameters to \n",
    "    query arcGIS REST service for information\n",
    "    SSL bypassed because of 1 case of verification\n",
    "    error. This will be updated if an alternative source can be located\n",
    "    '''\n",
    "    gcontext = ssl.SSLContext()  # Needed to bypass SSL verification issue\n",
    "    data = urllib.parse.urlencode(parameters)\n",
    "    data = data.encode('ascii') # data should be bytes\n",
    "    req = urllib.request.Request(service, data)\n",
    "    with urllib.request.urlopen(req,context=gcontext) as response:\n",
    "        projects = json.loads(response.read())\n",
    "    return projects"
   ]
  },
  {
   "cell_type": "code",
   "execution_count": 57,
   "metadata": {
    "tags": []
   },
   "outputs": [
    {
     "name": "stderr",
     "output_type": "stream",
     "text": [
      "WARNING: No data base element files found\n",
      "[2023-11-17 21:57:52,479] [INFO] [853419517] : exporting nhd lines for road and dam analysis\n",
      "Fetching data...\n",
      "Fetching data...\n",
      "Fetching data...\n",
      "Fetching data...\n",
      "Fetching data...\n",
      "Fetching data...\n",
      "Fetching data...\n",
      "Fetching data...\n",
      "Fetching data...\n",
      "Fetching data...\n",
      "Fetching data...\n",
      "Fetching data...\n",
      "Fetching data...\n",
      "Fetching data...\n",
      "Fetching data...\n",
      "Fetching data...\n",
      "Fetching data...\n",
      "Fetching data...\n",
      "Fetching data...\n",
      "Fetching data...\n",
      "Fetching data...\n",
      "Fetching data...\n",
      "Fetching data...\n",
      "Fetching data...\n",
      "Fetching data...\n",
      "Fetching data...\n",
      "Fetching data...\n",
      "Fetching data...\n",
      "Fetching data...\n",
      "Fetching data...\n",
      "Fetching data...\n",
      "Fetching data...\n",
      "Fetching data...\n",
      "Fetching data...\n",
      "Fetching data...\n",
      "Fetching data...\n",
      "Fetching data...\n",
      "Fetching data...\n",
      "Fetching data...\n",
      "Fetching data...\n",
      "Fetching data...\n",
      "Fetching data...\n",
      "Fetching data...\n",
      "Fetching data...\n",
      "Fetching data...\n",
      "Fetching data...\n",
      "Fetching data...\n",
      "Fetching data...\n",
      "Fetching data...\n",
      "Fetching data...\n",
      "Fetching data...\n",
      "Fetching data...\n",
      "Fetching data...\n",
      "Fetching data...\n",
      "Fetching data...\n",
      "Fetching data...\n",
      "Fetching data...\n",
      "Fetching data...\n",
      "Fetching data...\n",
      "Fetching data...\n",
      "Fetching data...\n",
      "Fetching data...\n",
      "Fetching data...\n",
      "Fetching data...\n",
      "Fetching data...\n",
      "Fetching data...\n",
      "Fetching data...\n",
      "Fetching data...\n",
      "Fetching data...\n",
      "Fetching data...\n",
      "Fetching data...\n",
      "Fetching data...\n",
      "Fetching data...\n",
      "Fetching data...\n",
      "Fetching data...\n",
      "Fetching data...\n",
      "Fetching data...\n",
      "Fetching data...\n",
      "Fetching data...\n",
      "Fetching data...\n",
      "Fetching data...\n",
      "Fetching data...\n",
      "Fetching data...\n",
      "Fetching data...\n",
      "Fetching data...\n",
      "Fetching data...\n",
      "Fetching data...\n",
      "Fetching data...\n",
      "Fetching data...\n",
      "Fetching data...\n",
      "Fetching data...\n",
      "Fetching data...\n",
      "Fetching data...\n",
      "Fetching data...\n",
      "Fetching data...\n",
      "Fetching data...\n",
      "Fetching data...\n",
      "Fetching data...\n",
      "Fetching data...\n",
      "Fetching data...\n",
      "Fetching data...\n",
      "Fetching data...\n",
      "Fetching data...\n",
      "Fetching data...\n",
      "Fetching data...\n",
      "Fetching data...\n",
      "Fetching data...\n",
      "Fetching data...\n",
      "Fetching data...\n",
      "Fetching data...\n",
      "Fetching data...\n",
      "Fetching data...\n",
      "Fetching data...\n",
      "Fetching data...\n",
      "Fetching data...\n",
      "Fetching data...\n",
      "Fetching data...\n",
      "Fetching data...\n",
      "Fetching data...\n",
      "Fetching data...\n",
      "Fetching data...\n",
      "Fetching data...\n",
      "Fetching data...\n",
      "Fetching data...\n",
      "Fetching data...\n",
      "Fetching data...\n",
      "Fetching data...\n",
      "Fetching data...\n",
      "Fetching data...\n",
      "Fetching data...\n",
      "Fetching data...\n",
      "Fetching data...\n",
      "Fetching data...\n",
      "Fetching data...\n",
      "Fetching data...\n",
      "Fetching data...\n",
      "Fetching data...\n",
      "Fetching data...\n",
      "Fetching data...\n",
      "Fetching data...\n",
      "Fetching data...\n",
      "Fetching data...\n",
      "Fetching data...\n",
      "Fetching data...\n",
      "Fetching data...\n",
      "Fetching data...\n",
      "Fetching data...\n",
      "Fetching data...\n",
      "Fetching data...\n",
      "Fetching data...\n",
      "Fetching data...\n",
      "Fetching data...\n",
      "Fetching data...\n",
      "Fetching data...\n",
      "Fetching data...\n",
      "Fetching data...\n",
      "Fetching data...\n",
      "Fetching data...\n",
      "Fetching data...\n",
      "Fetching data...\n",
      "Fetching data...\n",
      "Fetching data...\n",
      "Fetching data...\n",
      "Fetching data...\n",
      "Fetching data...\n",
      "Fetching data...\n",
      "Fetching data...\n",
      "Fetching data...\n",
      "Fetching data...\n",
      "Fetching data...\n",
      "Fetching data...\n",
      "Fetching data...\n",
      "Fetching data...\n",
      "Fetching data...\n",
      "Fetching data...\n",
      "Fetching data...\n",
      "Fetching data...\n",
      "Fetching data...\n",
      "Fetching data...\n",
      "Fetching data...\n",
      "Fetching data...\n",
      "Fetching data...\n",
      "Fetching data...\n",
      "Fetching data...\n",
      "Fetching data...\n",
      "Fetching data...\n",
      "Fetching data...\n",
      "Fetching data...\n",
      "Fetching data...\n",
      "Fetching data...\n",
      "Fetching data...\n",
      "Fetching data...\n",
      "Fetching data...\n",
      "Fetching data...\n",
      "Fetching data...\n",
      "Fetching data...\n",
      "Fetching data...\n",
      "Fetching data...\n",
      "Fetching data...\n",
      "Fetching data...\n",
      "Fetching data...\n",
      "Fetching data...\n",
      "Fetching data...\n",
      "Fetching data...\n",
      "Fetching data...\n",
      "Fetching data...\n",
      "Fetching data...\n",
      "Fetching data...\n",
      "Fetching data...\n",
      "Fetching data...\n",
      "Fetching data...\n",
      "Fetching data...\n",
      "Fetching data...\n",
      "Fetching data...\n",
      "Fetching data...\n",
      "WARNING: No features found, nothing to be exported\n",
      "Fetching data...\n",
      "Fetching data...\n",
      "Fetching data...\n",
      "Fetching data...\n",
      "Fetching data...\n",
      "Fetching data...\n",
      "Fetching data...\n",
      "Fetching data...\n",
      "Fetching data...\n",
      "Fetching data...\n",
      "Fetching data...\n",
      "Fetching data...\n",
      "Fetching data...\n",
      "Fetching data...\n",
      "Fetching data...\n",
      "Fetching data...\n",
      "Fetching data...\n",
      "Fetching data...\n"
     ]
    }
   ],
   "source": [
    "#update needs. need to do accum process to roadway\n",
    "create_hydro_connectors(dem,v_stream,outputs_dir, projection, ratio = 10, overwrite = False) #higher ratio will capture more cases. set roads only = False if you want all embankments along NHS"
   ]
  },
  {
   "cell_type": "code",
   "execution_count": null,
   "metadata": {},
   "outputs": [],
   "source": [
    "def topo_carve(dem,overwrite = False):\n",
    "    hydro_connectors = dem[:dem.find('dem')]+'hydro_connectors'\n",
    "    reg = gs.parse_command('g.region', raster=dem, flags='pgm', zoom=dem,align=dem)\n",
    "    cell_size = float(reg.nsres)\n",
    "    GRASS_raster_files= [file for line in gs.list_strings(type='raster') for file in [line.split(\"@\")[0]]]\n",
    "    if \"{}_hydro_enforced\".format(dem) in GRASS_raster_files and overwrite is False:\n",
    "        logger.info('hydro enforced dem already exists. Not recarving')\n",
    "    else:\n",
    "        logger.info('burning hydro_connectors into DEM')\n",
    "        gs.run_command(\n",
    "            'r.carve', \n",
    "            output=\"{}_hydro_enforced\".format(dem),\n",
    "            raster=dem, vector=hydro_connectors, \n",
    "            width = cell_size*2,\n",
    "            depth=\"0.0\", overwrite=True, flags=\"n\"\n",
    "        )  \n",
    "    return output"
   ]
  },
  {
   "cell_type": "code",
   "execution_count": null,
   "metadata": {},
   "outputs": [],
   "source": [
    "carved_dem = topo_carve(dem)"
   ]
  },
  {
   "cell_type": "markdown",
   "metadata": {
    "tags": []
   },
   "source": [
    "## End"
   ]
  },
  {
   "cell_type": "code",
   "execution_count": 266,
   "metadata": {},
   "outputs": [],
   "source": [
    "#consolidate by HUC and export as shp\n",
    "temp_files = []\n",
    "for file in os.listdir(outputs_dir):\n",
    "    if file.endswith(\".geojson\"):\n",
    "        temp_files.append(file)\n",
    "    \n",
    "compiled_lines = gpd.GeoDataFrame(pd.concat([gpd.read_file(outputs_dir/gj) for gj in temp_files],ignore_index=True))\n",
    "#compiled_lines.set_crs(crs = projection, inplace=True,allow_override=True)\n",
    "compiled_lines.to_file(outputs_dir/'hydro_connectors_in_{}.shp'.format(select_data)) "
   ]
  },
  {
   "cell_type": "code",
   "execution_count": 267,
   "metadata": {},
   "outputs": [],
   "source": [
    "for tfile in temp_files:\n",
    "    os.unlink(outputs_dir/tfile)"
   ]
  },
  {
   "cell_type": "raw",
   "metadata": {},
   "source": [
    "#remove all files to save space\n",
    "remove_grass_data(grass_maps,'all','raster') #update 'None' with map name or type (i.e. 'raster' or 'vector')\n",
    "remove_grass_data(grass_maps,'all','vector') #update 'None' with map name or type (i.e. 'raster' or 'vector')"
   ]
  },
  {
   "cell_type": "code",
   "execution_count": null,
   "metadata": {},
   "outputs": [],
   "source": []
  },
  {
   "cell_type": "code",
   "execution_count": null,
   "metadata": {},
   "outputs": [],
   "source": []
  },
  {
   "cell_type": "code",
   "execution_count": null,
   "metadata": {},
   "outputs": [],
   "source": []
  },
  {
   "cell_type": "markdown",
   "metadata": {},
   "source": [
    "## Imports"
   ]
  },
  {
   "cell_type": "raw",
   "metadata": {
    "tags": []
   },
   "source": [
    "import geopandas as gpd\n",
    "import os, sys, copy, shutil, subprocess\n",
    "import pathlib as pl\n",
    "import fiona\n",
    "import descartes\n",
    "import json\n",
    "import numpy as np\n",
    "import sys\n",
    "import logging\n",
    "from IPython.display import clear_output\n",
    "import matplotlib.pyplot as plt\n",
    "%matplotlib inline\n",
    "sys.path.append('..')\n",
    "from src import config\n",
    "from src.data import process_inputs\n",
    "from src.data import utils \n",
    "from src.grass_functions import *"
   ]
  },
  {
   "cell_type": "markdown",
   "metadata": {
    "tags": []
   },
   "source": [
    "### Get HUC number"
   ]
  },
  {
   "cell_type": "raw",
   "metadata": {
    "tags": []
   },
   "source": [
    "huc_list_path = pl.Path(os.getcwd()).parent/'huc12.txt'\n",
    "with open(huc_list_path, 'r') as txt_file:\n",
    "    huc_list = []\n",
    "    txt_reader = txt_file.read().splitlines() \n",
    "    for huc in txt_reader:\n",
    "        huc_list.append(huc)"
   ]
  },
  {
   "cell_type": "raw",
   "metadata": {
    "tags": []
   },
   "source": [
    "huc = huc_list[0]\n",
    "logger.info(\"Selected 1st huc from list \" + huc)"
   ]
  },
  {
   "cell_type": "raw",
   "metadata": {
    "tags": []
   },
   "source": [
    "### Configure"
   ]
  },
  {
   "cell_type": "raw",
   "metadata": {
    "tags": []
   },
   "source": [
    "os.environ[\"APP_ENV\"] = 'LOCAL'\n",
    "config = config.create_config(huc)"
   ]
  },
  {
   "cell_type": "raw",
   "metadata": {
    "tags": []
   },
   "source": [
    "### Download Data (NHD, WBD, DEM)"
   ]
  },
  {
   "cell_type": "raw",
   "metadata": {
    "tags": []
   },
   "source": [
    "config = process_inputs.main(huc=huc, config=config, overwrite=True)"
   ]
  },
  {
   "cell_type": "markdown",
   "metadata": {
    "tags": []
   },
   "source": [
    "### Start new grass session"
   ]
  },
  {
   "cell_type": "raw",
   "metadata": {
    "tags": []
   },
   "source": [
    "config = create_grass_session(huc,config, overwrite=True)"
   ]
  },
  {
   "cell_type": "raw",
   "metadata": {
    "tags": []
   },
   "source": [
    "### Import DEM, convert vertical units, mask and export Bare Earth DEM"
   ]
  },
  {
   "cell_type": "raw",
   "metadata": {
    "tags": []
   },
   "source": [
    "config = dem_to_grass(config, overwrite = True)"
   ]
  },
  {
   "cell_type": "markdown",
   "metadata": {},
   "source": [
    "### Create Curvature Lines along streams in Grass GIS (for hydro-enforcing)"
   ]
  },
  {
   "cell_type": "raw",
   "metadata": {
    "tags": []
   },
   "source": [
    "#loaded function\n",
    "config = create_carve_lines(config,overwrite = False)"
   ]
  },
  {
   "cell_type": "code",
   "execution_count": 9,
   "metadata": {
    "collapsed": true,
    "jupyter": {
     "outputs_hidden": true
    },
    "tags": []
   },
   "outputs": [
    {
     "name": "stderr",
     "output_type": "stream",
     "text": [
      "[2022-03-21 17:46:51,178] [INFO] [grass_functions] : performing initial pass of watershed analysis\n",
      "SECTION 1a (of 5): Initiating Memory.\n",
      "SECTION 1b (of 5): Determining Offmap Flow.\n",
      "   0   4   8  12  16  20  24  28  32  36  40  44  48  52  56  60  64  68  72  76  80  84  88  92  96 100\n",
      "SECTION 2: A* Search.\n",
      "   0   2   4   6   8  10  12  14  16  18  20  22  24  26  28  30  32  34  36  38  40  42  44  46  48  50  52  54  56  58  60  62  64  66  68  70  72  74  76  78  80  82  84  86  88  90  92  94  96  98 100\n",
      "SECTION 3: Accumulating Surface Flow with SFD.\n",
      "   1   3   5   7   9  11  13  15  17  19  21  23  25  27  29  31  33  35  37  39  41  43  45  47  49  51  53  55  57  59  61  63  65  67  69  71  73  75  77  79  81  83  85  87  89  91  93  95  97  99 100\n",
      "SECTION 4: Watershed determination.\n",
      "   0   2   4   6   8  10  12  14  16  18  20  22  24  26  28  30  32  34  36  38  40  42  44  46  48  50  52  54  56  58  60  62  64  66  68  70  72  74  76  78  80  82  84  86  88  90  92  94  96  98 100\n",
      "SECTION 5: Closing Maps.\n",
      " 100\n",
      "Writing out only positive flow accumulation values.\n",
      "Cells with a likely underestimate for flow accumulation can no longer be\n",
      "identified.\n"
     ]
    }
   ],
   "source": [
    "config = create_draft_stream_accum(config,overwrite = True)"
   ]
  },
  {
   "cell_type": "markdown",
   "metadata": {},
   "source": [
    "### Create Accumulation, Flow Direction and Flow lines"
   ]
  },
  {
   "cell_type": "code",
   "execution_count": null,
   "metadata": {
    "tags": []
   },
   "outputs": [],
   "source": [
    "config = develop_watershed_data(config, overwrite = True)"
   ]
  },
  {
   "cell_type": "markdown",
   "metadata": {},
   "source": [
    "### Create 1sq mile threshold"
   ]
  },
  {
   "cell_type": "code",
   "execution_count": 27,
   "metadata": {},
   "outputs": [],
   "source": [
    "def delineate_at_threshold(config,overwrite = False):\n",
    "    accum = config.accum\n",
    "    threshold = config.thresholds['stream']\n",
    "    reg = gs.parse_command('g.region', raster=accum, flags='pgm',align=accum)\n",
    "    cell_area = (float(reg.nsres)*float(reg.ewres))\n",
    "    target_accum_cells = threshold / cell_area\n",
    "    gs.run_command('r.mapcalc',overwrite=True,\\\n",
    "                      expression='above_thresh = if({0} < {1},null(),{0})'.format(accum, target_accum_cells))\n",
    "    gs.run_command('r.mapcalc',overwrite=True,\\\n",
    "                      expression='outlet = if({0} = nmin({0}),1,null())'.format(accum))\n",
    "    gs.run_command('r.to.vect',overwrite=True,\\\n",
    "                          input = 'outlet', output = 'outlet_vec',\\\n",
    "                          type='point')\n",
    "    v_basin = delineate_at_point('outlet',config.drain,'thresholds')\n",
    "    gs.run_command('v.out.ogr', input=  v_basin ,type = 'area',output = out_dir/'{}.gpkg'.format(v_basin), format = 'GPKG')\n",
    "    \n",
    "def delineate_at_point(point_v,flow_dir,basin_name):\n",
    "    gs.run_command('r.stream.basins',overwrite=True,\\\n",
    "              direction=flow_dir,points=point_v,\\\n",
    "              basins = 'r_{}'.format(basin_name))\n",
    "    gs.run_command('r.to.vect',input = 'r_{}'.format(basin_name),output = 'v_{}'.format(basin_name), type = 'area')\n",
    "    gs.run_command('v.clean',input = 'v_{}'.format(basin_name),threshold = 5000,tool='rmarea',output = '{}_clean'.format(v_basins))\n",
    "    return 'v_{}'.format(basin_name)\n",
    "    "
   ]
  },
  {
   "cell_type": "code",
   "execution_count": 28,
   "metadata": {},
   "outputs": [
    {
     "name": "stderr",
     "output_type": "stream",
     "text": [
      "WARNING: Vector map <outlet_vec> already exists and will be overwritten\n",
      "Extracting points...\n",
      "   0   3   6   9  12  15  18  21  24  27"
     ]
    },
    {
     "ename": "KeyboardInterrupt",
     "evalue": "",
     "output_type": "error",
     "traceback": [
      "\u001b[0;31m---------------------------------------------------------------------------\u001b[0m",
      "\u001b[0;31mKeyboardInterrupt\u001b[0m                         Traceback (most recent call last)",
      "\u001b[0;32m/tmp/ipykernel_19282/495435756.py\u001b[0m in \u001b[0;36m<module>\u001b[0;34m\u001b[0m\n\u001b[0;32m----> 1\u001b[0;31m \u001b[0mdelineate_at_threshold\u001b[0m\u001b[0;34m(\u001b[0m\u001b[0mconfig\u001b[0m\u001b[0;34m,\u001b[0m\u001b[0moverwrite\u001b[0m \u001b[0;34m=\u001b[0m \u001b[0;32mTrue\u001b[0m\u001b[0;34m)\u001b[0m\u001b[0;34m\u001b[0m\u001b[0;34m\u001b[0m\u001b[0m\n\u001b[0m",
      "\u001b[0;32m/tmp/ipykernel_19282/785910351.py\u001b[0m in \u001b[0;36mdelineate_at_threshold\u001b[0;34m(config, overwrite)\u001b[0m\n\u001b[1;32m      9\u001b[0m     gs.run_command('r.mapcalc',overwrite=True,\\\n\u001b[1;32m     10\u001b[0m                       expression='outlet = if({0} = nmin({0}),1,null())'.format(accum))\n\u001b[0;32m---> 11\u001b[0;31m     gs.run_command('r.to.vect',overwrite=True,\\\n\u001b[0m\u001b[1;32m     12\u001b[0m                           \u001b[0minput\u001b[0m \u001b[0;34m=\u001b[0m \u001b[0;34m'outlet'\u001b[0m\u001b[0;34m,\u001b[0m \u001b[0moutput\u001b[0m \u001b[0;34m=\u001b[0m \u001b[0;34m'outlet_vec'\u001b[0m\u001b[0;34m,\u001b[0m\u001b[0;31m\\\u001b[0m\u001b[0;34m\u001b[0m\u001b[0;34m\u001b[0m\u001b[0m\n\u001b[1;32m     13\u001b[0m                           type='point')\n",
      "\u001b[0;32m/usr/lib/grass78/etc/python/grass/script/core.py\u001b[0m in \u001b[0;36mrun_command\u001b[0;34m(*args, **kwargs)\u001b[0m\n\u001b[1;32m    438\u001b[0m             \u001b[0msys\u001b[0m\u001b[0;34m.\u001b[0m\u001b[0mstderr\u001b[0m\u001b[0;34m.\u001b[0m\u001b[0mwrite\u001b[0m\u001b[0;34m(\u001b[0m\u001b[0mstderr\u001b[0m\u001b[0;34m)\u001b[0m\u001b[0;34m\u001b[0m\u001b[0;34m\u001b[0m\u001b[0m\n\u001b[1;32m    439\u001b[0m     \u001b[0;32melse\u001b[0m\u001b[0;34m:\u001b[0m\u001b[0;34m\u001b[0m\u001b[0;34m\u001b[0m\u001b[0m\n\u001b[0;32m--> 440\u001b[0;31m         \u001b[0mreturncode\u001b[0m \u001b[0;34m=\u001b[0m \u001b[0mps\u001b[0m\u001b[0;34m.\u001b[0m\u001b[0mwait\u001b[0m\u001b[0;34m(\u001b[0m\u001b[0;34m)\u001b[0m\u001b[0;34m\u001b[0m\u001b[0;34m\u001b[0m\u001b[0m\n\u001b[0m\u001b[1;32m    441\u001b[0m     \u001b[0;32mreturn\u001b[0m \u001b[0mhandle_errors\u001b[0m\u001b[0;34m(\u001b[0m\u001b[0mreturncode\u001b[0m\u001b[0;34m,\u001b[0m \u001b[0mreturncode\u001b[0m\u001b[0;34m,\u001b[0m \u001b[0margs\u001b[0m\u001b[0;34m,\u001b[0m \u001b[0mkwargs\u001b[0m\u001b[0;34m)\u001b[0m\u001b[0;34m\u001b[0m\u001b[0;34m\u001b[0m\u001b[0m\n\u001b[1;32m    442\u001b[0m \u001b[0;34m\u001b[0m\u001b[0m\n",
      "\u001b[0;32m/opt/conda/lib/python3.9/subprocess.py\u001b[0m in \u001b[0;36mwait\u001b[0;34m(self, timeout)\u001b[0m\n\u001b[1;32m   1187\u001b[0m             \u001b[0mendtime\u001b[0m \u001b[0;34m=\u001b[0m \u001b[0m_time\u001b[0m\u001b[0;34m(\u001b[0m\u001b[0;34m)\u001b[0m \u001b[0;34m+\u001b[0m \u001b[0mtimeout\u001b[0m\u001b[0;34m\u001b[0m\u001b[0;34m\u001b[0m\u001b[0m\n\u001b[1;32m   1188\u001b[0m         \u001b[0;32mtry\u001b[0m\u001b[0;34m:\u001b[0m\u001b[0;34m\u001b[0m\u001b[0;34m\u001b[0m\u001b[0m\n\u001b[0;32m-> 1189\u001b[0;31m             \u001b[0;32mreturn\u001b[0m \u001b[0mself\u001b[0m\u001b[0;34m.\u001b[0m\u001b[0m_wait\u001b[0m\u001b[0;34m(\u001b[0m\u001b[0mtimeout\u001b[0m\u001b[0;34m=\u001b[0m\u001b[0mtimeout\u001b[0m\u001b[0;34m)\u001b[0m\u001b[0;34m\u001b[0m\u001b[0;34m\u001b[0m\u001b[0m\n\u001b[0m\u001b[1;32m   1190\u001b[0m         \u001b[0;32mexcept\u001b[0m \u001b[0mKeyboardInterrupt\u001b[0m\u001b[0;34m:\u001b[0m\u001b[0;34m\u001b[0m\u001b[0;34m\u001b[0m\u001b[0m\n\u001b[1;32m   1191\u001b[0m             \u001b[0;31m# https://bugs.python.org/issue25942\u001b[0m\u001b[0;34m\u001b[0m\u001b[0;34m\u001b[0m\u001b[0m\n",
      "\u001b[0;32m/opt/conda/lib/python3.9/subprocess.py\u001b[0m in \u001b[0;36m_wait\u001b[0;34m(self, timeout)\u001b[0m\n\u001b[1;32m   1915\u001b[0m                         \u001b[0;32mif\u001b[0m \u001b[0mself\u001b[0m\u001b[0;34m.\u001b[0m\u001b[0mreturncode\u001b[0m \u001b[0;32mis\u001b[0m \u001b[0;32mnot\u001b[0m \u001b[0;32mNone\u001b[0m\u001b[0;34m:\u001b[0m\u001b[0;34m\u001b[0m\u001b[0;34m\u001b[0m\u001b[0m\n\u001b[1;32m   1916\u001b[0m                             \u001b[0;32mbreak\u001b[0m  \u001b[0;31m# Another thread waited.\u001b[0m\u001b[0;34m\u001b[0m\u001b[0;34m\u001b[0m\u001b[0m\n\u001b[0;32m-> 1917\u001b[0;31m                         \u001b[0;34m(\u001b[0m\u001b[0mpid\u001b[0m\u001b[0;34m,\u001b[0m \u001b[0msts\u001b[0m\u001b[0;34m)\u001b[0m \u001b[0;34m=\u001b[0m \u001b[0mself\u001b[0m\u001b[0;34m.\u001b[0m\u001b[0m_try_wait\u001b[0m\u001b[0;34m(\u001b[0m\u001b[0;36m0\u001b[0m\u001b[0;34m)\u001b[0m\u001b[0;34m\u001b[0m\u001b[0;34m\u001b[0m\u001b[0m\n\u001b[0m\u001b[1;32m   1918\u001b[0m                         \u001b[0;31m# Check the pid and loop as waitpid has been known to\u001b[0m\u001b[0;34m\u001b[0m\u001b[0;34m\u001b[0m\u001b[0m\n\u001b[1;32m   1919\u001b[0m                         \u001b[0;31m# return 0 even without WNOHANG in odd situations.\u001b[0m\u001b[0;34m\u001b[0m\u001b[0;34m\u001b[0m\u001b[0m\n",
      "\u001b[0;32m/opt/conda/lib/python3.9/subprocess.py\u001b[0m in \u001b[0;36m_try_wait\u001b[0;34m(self, wait_flags)\u001b[0m\n\u001b[1;32m   1873\u001b[0m             \u001b[0;34m\"\"\"All callers to this function MUST hold self._waitpid_lock.\"\"\"\u001b[0m\u001b[0;34m\u001b[0m\u001b[0;34m\u001b[0m\u001b[0m\n\u001b[1;32m   1874\u001b[0m             \u001b[0;32mtry\u001b[0m\u001b[0;34m:\u001b[0m\u001b[0;34m\u001b[0m\u001b[0;34m\u001b[0m\u001b[0m\n\u001b[0;32m-> 1875\u001b[0;31m                 \u001b[0;34m(\u001b[0m\u001b[0mpid\u001b[0m\u001b[0;34m,\u001b[0m \u001b[0msts\u001b[0m\u001b[0;34m)\u001b[0m \u001b[0;34m=\u001b[0m \u001b[0mos\u001b[0m\u001b[0;34m.\u001b[0m\u001b[0mwaitpid\u001b[0m\u001b[0;34m(\u001b[0m\u001b[0mself\u001b[0m\u001b[0;34m.\u001b[0m\u001b[0mpid\u001b[0m\u001b[0;34m,\u001b[0m \u001b[0mwait_flags\u001b[0m\u001b[0;34m)\u001b[0m\u001b[0;34m\u001b[0m\u001b[0;34m\u001b[0m\u001b[0m\n\u001b[0m\u001b[1;32m   1876\u001b[0m             \u001b[0;32mexcept\u001b[0m \u001b[0mChildProcessError\u001b[0m\u001b[0;34m:\u001b[0m\u001b[0;34m\u001b[0m\u001b[0;34m\u001b[0m\u001b[0m\n\u001b[1;32m   1877\u001b[0m                 \u001b[0;31m# This happens if SIGCLD is set to be ignored or waiting\u001b[0m\u001b[0;34m\u001b[0m\u001b[0;34m\u001b[0m\u001b[0m\n",
      "\u001b[0;31mKeyboardInterrupt\u001b[0m: "
     ]
    }
   ],
   "source": [
    "delineate_at_threshold(config,overwrite = True)"
   ]
  }
 ],
 "metadata": {
  "kernelspec": {
   "display_name": "Python 3 (ipykernel)",
   "language": "python",
   "name": "python3"
  },
  "language_info": {
   "codemirror_mode": {
    "name": "ipython",
    "version": 3
   },
   "file_extension": ".py",
   "mimetype": "text/x-python",
   "name": "python",
   "nbconvert_exporter": "python",
   "pygments_lexer": "ipython3",
   "version": "3.9.7"
  }
 },
 "nbformat": 4,
 "nbformat_minor": 4
}
