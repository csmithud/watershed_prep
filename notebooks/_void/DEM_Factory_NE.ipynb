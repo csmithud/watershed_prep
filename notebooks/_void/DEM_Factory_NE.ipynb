{
 "cells": [
  {
   "cell_type": "markdown",
   "id": "8ab40abb-3f54-4071-9419-a0ee68b8586d",
   "metadata": {},
   "source": [
    "## Papermill Loop to create DEMs"
   ]
  },
  {
   "cell_type": "code",
   "execution_count": 1,
   "id": "5ebbc363-8479-417b-b053-13da6a209cda",
   "metadata": {},
   "outputs": [],
   "source": [
    "import subprocess, os"
   ]
  },
  {
   "cell_type": "code",
   "execution_count": 2,
   "id": "b0e8fa22-0851-4f88-b253-3d7fac4f7ee8",
   "metadata": {},
   "outputs": [],
   "source": [
    "import pathlib as pl"
   ]
  },
  {
   "cell_type": "raw",
   "id": "ed7c9114-0a4f-4592-b4c0-f9f31abc196a",
   "metadata": {
    "tags": []
   },
   "source": [
    "conda install -c conda-forge papermill"
   ]
  },
  {
   "cell_type": "code",
   "execution_count": 3,
   "id": "5843d27a-eee7-4560-910d-36f59e84f374",
   "metadata": {},
   "outputs": [],
   "source": [
    "import papermill as pm"
   ]
  },
  {
   "cell_type": "code",
   "execution_count": 4,
   "id": "654fc8ee-e098-4b7e-aea4-809b632e8cd7",
   "metadata": {},
   "outputs": [],
   "source": [
    "#list of hucs for Curtis to run\n",
    "hucs = ['10270202','10270205']"
   ]
  },
  {
   "cell_type": "code",
   "execution_count": 5,
   "id": "81f3f0be-b593-4c65-b2fe-d1893f1948c1",
   "metadata": {},
   "outputs": [],
   "source": [
    "home = pl.Path(os.getcwd())"
   ]
  },
  {
   "cell_type": "code",
   "execution_count": 6,
   "id": "3627e73d-33cb-4006-8bd1-52ae03e3463f",
   "metadata": {},
   "outputs": [],
   "source": [
    "if not os.path.exists(home/'notebook_outputs'):\n",
    "    os.makedirs(home/'notebook_outputs')"
   ]
  },
  {
   "cell_type": "code",
   "execution_count": 7,
   "id": "72491879-0e60-4b55-8ecd-c5a53dce1905",
   "metadata": {},
   "outputs": [],
   "source": [
    "from IPython.display import clear_output"
   ]
  },
  {
   "cell_type": "code",
   "execution_count": 8,
   "id": "70a3a659-acdf-4d12-8fdb-9322e1ed76de",
   "metadata": {
    "tags": []
   },
   "outputs": [
    {
     "data": {
      "application/vnd.jupyter.widget-view+json": {
       "model_id": "cf6a575557a84eb7812d63dc3a23af27",
       "version_major": 2,
       "version_minor": 0
      },
      "text/plain": [
       "Executing:   0%|          | 0/30 [00:00<?, ?cell/s]"
      ]
     },
     "metadata": {},
     "output_type": "display_data"
    },
    {
     "ename": "PapermillExecutionError",
     "evalue": "\n---------------------------------------------------------------------------\nException encountered at \"In [10]\":\n---------------------------------------------------------------------------\nAttributeError                            Traceback (most recent call last)\n/tmp/ipykernel_1034/1165898690.py in <module>\n      1 ##intersect with web service to get dem links\n----> 2 gdf_dem, aoi_coverage_buffer = tnm_coverage(aoi,desired_resolution=res, buffer = buffer, minimum_coverage = 0.5)\n\n/home/notebooks/../src/grass_functions.py in tnm_coverage(aoi, desired_resolution, buffer, minimum_coverage)\n    738             tnm_out = tnm_query(dataset,huc12_bound,docker)\n    739             attmpt = 1\n--> 740             while 'items' not in tnm_out.keys():\n    741                 print('missed api, retrying'+str(attmpt))\n    742                 attmpt += 1\n\nAttributeError: 'NoneType' object has no attribute 'keys'\n",
     "output_type": "error",
     "traceback": [
      "\u001b[0;31m---------------------------------------------------------------------------\u001b[0m",
      "\u001b[0;31mPapermillExecutionError\u001b[0m                   Traceback (most recent call last)",
      "\u001b[0;32m/tmp/ipykernel_1013/1254266122.py\u001b[0m in \u001b[0;36m<module>\u001b[0;34m\u001b[0m\n\u001b[1;32m     11\u001b[0m     \u001b[0mauto_delete\u001b[0m\u001b[0;34m=\u001b[0m \u001b[0;32mTrue\u001b[0m\u001b[0;34m\u001b[0m\u001b[0;34m\u001b[0m\u001b[0m\n\u001b[1;32m     12\u001b[0m \u001b[0;34m\u001b[0m\u001b[0m\n\u001b[0;32m---> 13\u001b[0;31m     res = pm.execute_notebook('1-RAS_DEM_download.ipynb',os.path.join('notebook_outputs',f'1-RAS_DEM_download_{select_data}.ipynb'),\n\u001b[0m\u001b[1;32m     14\u001b[0m                               parameters= dict(select_data=select_data,Project_Area=Project_Area,GRASS_GIS_Projection=GRASS_GIS_Projection,\n\u001b[1;32m     15\u001b[0m                                              \u001b[0mprojection\u001b[0m\u001b[0;34m=\u001b[0m\u001b[0mprojection\u001b[0m\u001b[0;34m,\u001b[0m\u001b[0mdata_scale\u001b[0m\u001b[0;34m=\u001b[0m\u001b[0mdata_scale\u001b[0m\u001b[0;34m,\u001b[0m\u001b[0mres\u001b[0m\u001b[0;34m=\u001b[0m\u001b[0mres\u001b[0m\u001b[0;34m,\u001b[0m\u001b[0mto_headwaters\u001b[0m\u001b[0;34m=\u001b[0m\u001b[0mto_headwaters\u001b[0m\u001b[0;34m,\u001b[0m\u001b[0minput_shp_name\u001b[0m\u001b[0;34m=\u001b[0m\u001b[0minput_shp_name\u001b[0m\u001b[0;34m,\u001b[0m\u001b[0;34m\u001b[0m\u001b[0;34m\u001b[0m\u001b[0m\n",
      "\u001b[0;32m/opt/conda/lib/python3.9/site-packages/papermill/execute.py\u001b[0m in \u001b[0;36mexecute_notebook\u001b[0;34m(input_path, output_path, parameters, engine_name, request_save_on_cell_execute, prepare_only, kernel_name, language, progress_bar, log_output, stdout_file, stderr_file, start_timeout, report_mode, cwd, **engine_kwargs)\u001b[0m\n\u001b[1;32m    126\u001b[0m \u001b[0;34m\u001b[0m\u001b[0m\n\u001b[1;32m    127\u001b[0m             \u001b[0;31m# Check for errors first (it saves on error before raising)\u001b[0m\u001b[0;34m\u001b[0m\u001b[0;34m\u001b[0m\u001b[0m\n\u001b[0;32m--> 128\u001b[0;31m             \u001b[0mraise_for_execution_errors\u001b[0m\u001b[0;34m(\u001b[0m\u001b[0mnb\u001b[0m\u001b[0;34m,\u001b[0m \u001b[0moutput_path\u001b[0m\u001b[0;34m)\u001b[0m\u001b[0;34m\u001b[0m\u001b[0;34m\u001b[0m\u001b[0m\n\u001b[0m\u001b[1;32m    129\u001b[0m \u001b[0;34m\u001b[0m\u001b[0m\n\u001b[1;32m    130\u001b[0m         \u001b[0;31m# Write final output in case the engine didn't write it on cell completion.\u001b[0m\u001b[0;34m\u001b[0m\u001b[0;34m\u001b[0m\u001b[0m\n",
      "\u001b[0;32m/opt/conda/lib/python3.9/site-packages/papermill/execute.py\u001b[0m in \u001b[0;36mraise_for_execution_errors\u001b[0;34m(nb, output_path)\u001b[0m\n\u001b[1;32m    230\u001b[0m \u001b[0;34m\u001b[0m\u001b[0m\n\u001b[1;32m    231\u001b[0m         \u001b[0mwrite_ipynb\u001b[0m\u001b[0;34m(\u001b[0m\u001b[0mnb\u001b[0m\u001b[0;34m,\u001b[0m \u001b[0moutput_path\u001b[0m\u001b[0;34m)\u001b[0m\u001b[0;34m\u001b[0m\u001b[0;34m\u001b[0m\u001b[0m\n\u001b[0;32m--> 232\u001b[0;31m         \u001b[0;32mraise\u001b[0m \u001b[0merror\u001b[0m\u001b[0;34m\u001b[0m\u001b[0;34m\u001b[0m\u001b[0m\n\u001b[0m",
      "\u001b[0;31mPapermillExecutionError\u001b[0m: \n---------------------------------------------------------------------------\nException encountered at \"In [10]\":\n---------------------------------------------------------------------------\nAttributeError                            Traceback (most recent call last)\n/tmp/ipykernel_1034/1165898690.py in <module>\n      1 ##intersect with web service to get dem links\n----> 2 gdf_dem, aoi_coverage_buffer = tnm_coverage(aoi,desired_resolution=res, buffer = buffer, minimum_coverage = 0.5)\n\n/home/notebooks/../src/grass_functions.py in tnm_coverage(aoi, desired_resolution, buffer, minimum_coverage)\n    738             tnm_out = tnm_query(dataset,huc12_bound,docker)\n    739             attmpt = 1\n--> 740             while 'items' not in tnm_out.keys():\n    741                 print('missed api, retrying'+str(attmpt))\n    742                 attmpt += 1\n\nAttributeError: 'NoneType' object has no attribute 'keys'\n"
     ]
    }
   ],
   "source": [
    "for huc in hucs:\n",
    "    select_data=huc\n",
    "    Project_Area= 'nebraska_regression_stantec'\n",
    "    GRASS_GIS_Projection= '102704'\n",
    "    projection= '102704'\n",
    "    data_scale= 'HUC8' \n",
    "    res = '10m'\n",
    "    to_headwaters= False \n",
    "    input_shp_name= 'None'\n",
    "    buffer = 2000\n",
    "    auto_delete= True\n",
    "    \n",
    "    res = pm.execute_notebook('1-RAS_DEM_download.ipynb',os.path.join('notebook_outputs',f'1-RAS_DEM_download_{select_data}.ipynb'),\n",
    "                              parameters= dict(select_data=select_data,Project_Area=Project_Area,GRASS_GIS_Projection=GRASS_GIS_Projection,\n",
    "                                             projection=projection,data_scale=data_scale,res=res,to_headwaters=to_headwaters,input_shp_name=input_shp_name,\n",
    "                                               buffer=buffer,auto_delete=auto_delete))\n",
    "\n",
    "    res2 = pm.execute_notebook('2-RAS_DEM_Prep.ipynb',os.path.join('notebook_outputs',f'2-RAS_DEM_Prep_{select_data}.ipynb'),\n",
    "                               parameters=dict(select_data=select_data,Project_Area=Project_Area,GRASS_GIS_Projection=GRASS_GIS_Projection,\n",
    "                                             projection=projection,data_scale=data_scale,res=res,to_headwaters=to_headwaters,input_shp_name=input_shp_name,\n",
    "                                               buffer=buffer, auto_delete=auto_delete))\n",
    "    clear_output(wait=True)"
   ]
  },
  {
   "cell_type": "code",
   "execution_count": null,
   "id": "9e73a5a6-3c90-44d3-a81b-25a9957e7425",
   "metadata": {},
   "outputs": [],
   "source": []
  },
  {
   "cell_type": "code",
   "execution_count": null,
   "id": "b0a19921-a035-427c-aa45-cd70d95bbaa3",
   "metadata": {},
   "outputs": [],
   "source": []
  }
 ],
 "metadata": {
  "kernelspec": {
   "display_name": "Python 3 (ipykernel)",
   "language": "python",
   "name": "python3"
  },
  "language_info": {
   "codemirror_mode": {
    "name": "ipython",
    "version": 3
   },
   "file_extension": ".py",
   "mimetype": "text/x-python",
   "name": "python",
   "nbconvert_exporter": "python",
   "pygments_lexer": "ipython3",
   "version": "3.9.7"
  }
 },
 "nbformat": 4,
 "nbformat_minor": 5
}
