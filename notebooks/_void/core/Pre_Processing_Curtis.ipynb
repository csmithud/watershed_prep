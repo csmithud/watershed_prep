{
 "cells": [
  {
   "cell_type": "code",
   "execution_count": 1,
   "metadata": {},
   "outputs": [],
   "source": [
    "import sys\n",
    "sys.path.append('core')\n",
    "from core import*\n",
    "from rasterio import features\n",
    "from skimage.morphology import skeletonize\n",
    "from shapely import geometry"
   ]
  },
  {
   "cell_type": "code",
   "execution_count": 3,
   "metadata": {},
   "outputs": [],
   "source": [
    "## Filenames and fields:\n",
    "Project_Area = 'Los_Angeles'          # Project area name #UTM EPSG is 269 plus the zone number\n",
    "GRASS_GIS_Projection = '26911'       #EPSG number 26912 for UTM zone 12 and 26911 for UTM zone 11\n",
    "noaa_data_crs=4236\n",
    "Model_Type = 'Pluvial'               #P for Pluvial and F for Fluvial\n",
    "\n",
    "#DEM parameters\n",
    "DEM_Res =1            #DEM resolution in meters\n",
    "No_Data = -9999\n",
    "\n",
    "## Load the HUC polygon shapefile and tiff\n",
    "training_HUC12 = ['071200040505','071200040403' ,'071200040506']\n",
    "filter_field = 'HUC12'          # Attribute with in the vector polygon used for data selection\n",
    "\n",
    "## Paths:\n",
    "root_dir = pl.Path(os.getcwd())\n",
    "parent_dir = pl.Path(root_dir.parent)\n",
    "raster_dir = parent_dir/'Data/Rasters'/Project_Area\n",
    "vector_dir = parent_dir/'Data/Vectors' \n",
    "outputs_dir =parent_dir/'Data/Rasters'/Project_Area/'Outputs'"
   ]
  },
  {
   "cell_type": "code",
   "execution_count": 4,
   "metadata": {},
   "outputs": [],
   "source": [
    "#path=\"C:/DigitalEngineer/RAW/DEM/Illinois/10mDEM\"\n",
    "li_all_files = list_files(raster_dir/('%sm' % DEM_Res), '.tif')\n",
    "       \n",
    "#Define output pat for all DEMs mosaiced\n",
    "DEM_Project_Area = '{0}_DEM.tif'.format(Project_Area)"
   ]
  },
  {
   "cell_type": "code",
   "execution_count": 7,
   "metadata": {},
   "outputs": [
    {
     "data": {
      "text/plain": [
       "'26911'"
      ]
     },
     "execution_count": 7,
     "metadata": {},
     "output_type": "execute_result"
    }
   ],
   "source": [
    "#Check coordinate reference system for files\n",
    "with rasterio.open(li_all_files[0]) as src:\n",
    "     coord_system = str(src.crs).split(\":\")[1]\n",
    "coord_system"
   ]
  },
  {
   "cell_type": "code",
   "execution_count": null,
   "metadata": {},
   "outputs": [],
   "source": [
    "#Mosaic DEM for entire Area\n",
    "DEM_merged_clipped_reprojected(li_all_files, os.path.join(outputs_dir, DEM_Project_Area), No_Data, None, None, 'EPSG:'+ GRASS_GIS_Projection)"
   ]
  }
 ],
 "metadata": {
  "kernelspec": {
   "display_name": "Python 3",
   "language": "python",
   "name": "python3"
  },
  "language_info": {
   "codemirror_mode": {
    "name": "ipython",
    "version": 3
   },
   "file_extension": ".py",
   "mimetype": "text/x-python",
   "name": "python",
   "nbconvert_exporter": "python",
   "pygments_lexer": "ipython3",
   "version": "3.7.7"
  }
 },
 "nbformat": 4,
 "nbformat_minor": 4
}
