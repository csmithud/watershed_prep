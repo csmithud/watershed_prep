{
 "cells": [
  {
   "cell_type": "markdown",
   "metadata": {},
   "source": [
    "## Imports"
   ]
  },
  {
   "cell_type": "code",
   "execution_count": 1,
   "metadata": {},
   "outputs": [],
   "source": [
    "import geopandas as gpd\n",
    "import os, sys, copy, shutil, subprocess\n",
    "import pathlib as pl\n",
    "import fiona\n",
    "import descartes\n",
    "import json\n",
    "import numpy as np\n",
    "import sys\n",
    "import logging\n",
    "from IPython.display import clear_output\n",
    "import matplotlib.pyplot as plt\n",
    "%matplotlib inline\n",
    "sys.path.append('..')\n",
    "from src import config\n",
    "from src.data import process_inputs\n",
    "from src.data import utils \n",
    "from src.grass_functions import *"
   ]
  },
  {
   "cell_type": "markdown",
   "metadata": {},
   "source": [
    "### Get HUC number"
   ]
  },
  {
   "cell_type": "code",
   "execution_count": 2,
   "metadata": {},
   "outputs": [],
   "source": [
    "huc_list_path = pl.Path(os.getcwd()).parent/'huc12.txt'\n",
    "with open(huc_list_path, 'r') as txt_file:\n",
    "    huc_list = []\n",
    "    txt_reader = txt_file.read().splitlines() \n",
    "    for huc in txt_reader:\n",
    "        huc_list.append(huc)"
   ]
  },
  {
   "cell_type": "code",
   "execution_count": 3,
   "metadata": {},
   "outputs": [
    {
     "name": "stderr",
     "output_type": "stream",
     "text": [
      "[2022-03-21 18:09:33,227] [INFO] [601608545] : Selected 1st huc from list 110300060208\n"
     ]
    }
   ],
   "source": [
    "huc = huc_list[0]\n",
    "logger.info(\"Selected 1st huc from list \" + huc)"
   ]
  },
  {
   "cell_type": "markdown",
   "metadata": {},
   "source": [
    "### Configure"
   ]
  },
  {
   "cell_type": "code",
   "execution_count": 4,
   "metadata": {},
   "outputs": [],
   "source": [
    "os.environ[\"APP_ENV\"] = 'LOCAL'\n",
    "config = config.create_config(huc)"
   ]
  },
  {
   "cell_type": "markdown",
   "metadata": {},
   "source": [
    "### Download Data (NHD, WBD, DEM)"
   ]
  },
  {
   "cell_type": "code",
   "execution_count": 5,
   "metadata": {
    "tags": []
   },
   "outputs": [
    {
     "name": "stderr",
     "output_type": "stream",
     "text": [
      "[2022-03-21 18:09:39,054] [INFO] [process_inputs] : downloading NHD Plus GDB for HUC 1103\n",
      "[2022-03-21 18:09:39,887] [INFO] [process_inputs] : opening: https://prd-tnm.s3.amazonaws.com/StagedProducts/Hydrography/NHDPlusHR/Beta/GDB/NHDPLUS_H_1103_HU4_GDB.zip\n",
      "[2022-03-21 18:09:54,710] [INFO] [process_inputs] : saving to: /home/data/nhd\n",
      "[2022-03-21 18:10:15,623] [INFO] [process_inputs] : reprojecting HUC 12 boundary shapefile to EPSG 5070\n",
      "[2022-03-21 18:10:18,463] [INFO] [process_inputs] : extracting NHDFlowline layer and reprojecting\n",
      "[2022-03-21 18:12:26,017] [WARNING] [geodataframe] : Expecting property name enclosed in double quotes: line 1 column 2 (char 1)\n",
      "[2022-03-21 18:12:26,058] [INFO] [process_inputs] : downloading relevant DEMs\n",
      "[2022-03-21 18:14:06,609] [INFO] [process_inputs] : reprojecting and merging DEMs\n",
      "[2022-03-21 18:14:06,919] [INFO] [process_inputs] : checking DEM coverage for /home/data/dem/res10m/huc110300060208_dem_sr5070.vrt\n",
      "[2022-03-21 18:15:22,875] [WARNING] [geodataframe] : Expecting property name enclosed in double quotes: line 1 column 2 (char 1)\n",
      "[2022-03-21 18:15:22,926] [INFO] [process_inputs] : all inputs processed\n"
     ]
    }
   ],
   "source": [
    "config = process_inputs.main(huc=huc, config=config, overwrite=True)"
   ]
  },
  {
   "cell_type": "markdown",
   "metadata": {},
   "source": [
    "### Start new grass session"
   ]
  },
  {
   "cell_type": "code",
   "execution_count": 6,
   "metadata": {},
   "outputs": [
    {
     "name": "stderr",
     "output_type": "stream",
     "text": [
      "[2022-03-21 18:15:22,944] [INFO] [utils] : creating timestamped log directory: /home/logs/huc110300060208/20220321-181522\n",
      "[2022-03-21 18:15:22,971] [INFO] [utils] : setting up GRASS session for HUC 110300060208, EPSG 5070\n",
      "WARNING: No data base element files found\n",
      "[2022-03-21 18:15:25,499] [INFO] [utils] : GRASS session set up: {'GISDBASE': '/home/grassdata', 'LOCATION_NAME': 'huc110300060208_sr5070', 'MAPSET': 'ML'}\n"
     ]
    }
   ],
   "source": [
    "config = create_grass_session(huc,config, overwrite=True)"
   ]
  },
  {
   "cell_type": "markdown",
   "metadata": {},
   "source": [
    "### Import DEM, convert vertical units, mask and export Bare Earth DEM"
   ]
  },
  {
   "cell_type": "code",
   "execution_count": 7,
   "metadata": {
    "tags": []
   },
   "outputs": [
    {
     "name": "stderr",
     "output_type": "stream",
     "text": [
      "Importing raster map <huc110300060208_dem_sr5070>...\n",
      "   0   3   6   9  12  15  18  21  24  27  30  33  36  39  42  45  48  51  54  57  60  63  66  69  72  75  78  81  84  87  90  93  96  99 100\n",
      "[2022-03-21 18:17:20,090] [INFO] [grass_functions] : Checking vertical units and converting to :feet\n",
      "[2022-03-21 18:17:20,237] [INFO] [grass_functions] : converting vertical units to feet. Raw DEM * 3.280839895013123\n",
      "Rename raster <new_rast> to <huc110300060208_dem_sr5070>\n",
      "W-E size of neighborhood is 7 cells.\n",
      "S-N size of neighborhood is 7 cells.\n",
      "Input data range is 1577.971351 to 2631.876988.\n",
      "Input data type is 'double' (8 bytes) and output data type is 'double' (8\n",
      "bytes).\n",
      "Minimal estimated memory usage is 1.234 MB.\n",
      "Interpolating:\n",
      "   2   5   8  11  14  17  20  23  26  29  32  35  38  41  44  47  50  53  56  59  62  65  68  71  74  77  80  83  86  89  92  95  98 100\n",
      "r.fill.stats complete. Processing time was 0h2m38s.\n",
      "Rename raster <dem_tmp> to <huc110300060208_dem_sr5070>\n",
      "[2022-03-21 18:22:16,338] [INFO] [grass_functions] : importing huc boundary\n",
      "Check if OGR layer <huc110300060208_sr5070> contains polygons...\n",
      "   0 100\n",
      "Creating attribute table for layer <huc110300060208_sr5070>...\n",
      "Importing 1 features (OGR layer <huc110300060208_sr5070>)...\n",
      "   0 100\n",
      "-----------------------------------------------------\n",
      "Registering primitives...\n",
      "-----------------------------------------------------\n",
      "Cleaning polygons\n",
      "-----------------------------------------------------\n",
      "Breaking polygons...\n",
      "Breaking polygons (pass 1: select break points)...\n",
      " 100\n",
      "Breaking polygons (pass 2: break at selected points)...\n",
      " 100\n",
      "-----------------------------------------------------\n",
      "Removing duplicates...\n",
      " 100\n",
      "-----------------------------------------------------\n",
      "Breaking boundaries...\n",
      "   0 100\n",
      "-----------------------------------------------------\n",
      "Removing duplicates...\n",
      " 100\n",
      "-----------------------------------------------------\n",
      "Cleaning boundaries at nodes...\n",
      " 100\n",
      "-----------------------------------------------------\n",
      "Merging boundaries...\n",
      " 100\n",
      "-----------------------------------------------------\n",
      "Removing dangles...\n",
      " 100\n",
      "-----------------------------------------------------\n",
      "Building areas...\n",
      "   0 100\n",
      "-----------------------------------------------------\n",
      "Removing bridges...\n",
      " 100\n",
      "-----------------------------------------------------\n",
      "Registering primitives...\n",
      "Building areas...\n",
      "   0 100\n",
      "Attaching islands...\n",
      "   0 100\n",
      "-----------------------------------------------------\n",
      "Finding centroids for OGR layer <huc110300060208_sr5070>...\n",
      "   0 100\n",
      "-----------------------------------------------------\n",
      "Writing centroids...\n",
      " 100\n",
      "-----------------------------------------------------\n",
      "1 input polygons\n",
      "Total area: 1.00656E+08 (1 areas)\n",
      "-----------------------------------------------------\n",
      "Copying features...\n",
      "  50 100\n",
      "Building topology for vector map <huc@ML>...\n",
      "Registering primitives...\n",
      "Building areas...\n",
      "   0 100\n",
      "Attaching islands...\n",
      "   0 100\n",
      "Attaching centroids...\n",
      "   0 100\n",
      "Input </home/data/huc/huc110300060208_sr5070.geojson> successfully imported\n",
      "without reprojection\n",
      "[2022-03-21 18:22:17,678] [INFO] [grass_functions] : setting up buffer around boundary\n",
      "Buffering areas...\n",
      " 100\n",
      "Cleaning buffers...\n",
      "Building parts of topology...\n",
      "Building topology for vector map <hucbuff@ML>...\n",
      "Registering primitives...\n",
      "Snapping boundaries...\n",
      "Reading features...\n",
      "Snap vertices Pass 1: select points\n",
      "   0 100\n",
      "Snap vertices Pass 2: assign anchor vertices\n",
      "   4   9  14  19  24  29  34  39  44  49  54  59  64  69  74  79  84  89  94  99 100\n",
      "Snap vertices Pass 3: snap to assigned points\n",
      "   0 100\n",
      "Breaking polygons...\n",
      "Breaking polygons (pass 1: select break points)...\n",
      " 100\n",
      "Breaking polygons (pass 2: break at selected points)...\n",
      " 100\n",
      "Removing duplicates...\n",
      " 100\n",
      "Breaking boundaries...\n",
      "   0 100\n",
      "Removing duplicates...\n",
      " 100\n",
      "Cleaning boundaries at nodes\n",
      " 100\n",
      "Building topology for vector map <hucbuff@ML>...\n",
      "Building areas...\n",
      "   0 100\n",
      "Removing dangles...\n",
      " 100\n",
      "Removing bridges...\n",
      " 100\n",
      "Attaching islands...\n",
      "Building topology for vector map <hucbuff@ML>...\n",
      "Attaching islands...\n",
      "   0 100\n",
      "Calculating centroids for all areas...\n",
      "   0 100\n",
      "Generating list of boundaries to be deleted...\n",
      " 100\n",
      "Deleting boundaries...\n",
      " 100\n",
      "Calculating centroids for areas...\n",
      " 100\n",
      "Building topology for vector map <hucbuff@ML>...\n",
      "Registering primitives...\n",
      "Building areas...\n",
      "   0 100\n",
      "Attaching islands...\n",
      "   0 100\n",
      "Attaching centroids...\n",
      "   0 100\n",
      "Buffering areas...\n",
      " 100\n",
      "Cleaning buffers...\n",
      "Building parts of topology...\n",
      "Building topology for vector map <hucbuff_95pct@ML>...\n",
      "Registering primitives...\n",
      "Snapping boundaries...\n",
      "Reading features...\n",
      "Snap vertices Pass 1: select points\n",
      "   0 100\n",
      "Snap vertices Pass 2: assign anchor vertices\n",
      "   4   9  14  19  24  29  34  39  44  49  54  59  64  69  74  79  84  89  94  99 100\n",
      "Snap vertices Pass 3: snap to assigned points\n",
      "   0 100\n",
      "Breaking polygons...\n",
      "Breaking polygons (pass 1: select break points)...\n",
      " 100\n",
      "Breaking polygons (pass 2: break at selected points)...\n",
      " 100\n",
      "Removing duplicates...\n",
      " 100\n",
      "Breaking boundaries...\n",
      "   0 100\n",
      "Removing duplicates...\n",
      " 100\n",
      "Cleaning boundaries at nodes\n",
      " 100\n",
      "Building topology for vector map <hucbuff_95pct@ML>...\n",
      "Building areas...\n",
      "   0 100\n",
      "Removing dangles...\n",
      " 100\n",
      "Removing bridges...\n",
      " 100\n",
      "Attaching islands...\n",
      "Building topology for vector map <hucbuff_95pct@ML>...\n",
      "Attaching islands...\n",
      "   0 100\n",
      "Calculating centroids for all areas...\n",
      "   0 100\n",
      "Generating list of boundaries to be deleted...\n",
      " 100\n",
      "Deleting boundaries...\n",
      " 100\n",
      "Calculating centroids for areas...\n",
      " 100\n",
      "Building topology for vector map <hucbuff_95pct@ML>...\n",
      "Registering primitives...\n",
      "Building areas...\n",
      "   0 100\n",
      "Attaching islands...\n",
      "   0 100\n",
      "Attaching centroids...\n",
      "   0 100\n",
      "[2022-03-21 18:22:19,195] [INFO] [grass_functions] : importing NHD\n",
      "Check if OGR layer <huc1103_flowline_sr5070> contains polygons...\n",
      "   0   2   4   6   8  10  12  14  16  18  20  22  24  26  28  30  32  34  36  38  40  42  44  46  48  50  52  54  56  58  60  62  64  66  68  70  72  74  76  78  80  82  84  86  88  90  92  94  96  98 100\n",
      "Creating attribute table for layer <huc1103_flowline_sr5070>...\n",
      "Importing 10515 features (OGR layer <huc1103_flowline_sr5070>)...\n",
      "   0   2   4   6   8  10  12  14  16  18  20  22  24  26  28  30  32  34  36  38  40  42  44  46  48  50  52  54  56  58  60  62  64  66  68  70  72  74  76  78  80  82  84  86  88  90  92  94  96  98 100\n",
      "-----------------------------------------------------\n",
      "Building topology for vector map <tmp_flowline@ML>...\n",
      "Registering primitives...\n",
      "Input </home/data/nhd/huc1103_flowline_sr5070.geojson> successfully\n",
      "imported without reprojection\n",
      "Extracting features...\n",
      "   2   5   8  11  14  17  20  23  26  29  32  35  38  41  44  47  50  53  56  59  62  65  68  71  74  77  80  83  86  89  92  95  98 100\n",
      "Building topology for vector map <tmp_flowline_query@ML>...\n",
      "Registering primitives...\n",
      "Writing attributes...\n",
      "\n",
      "--------------------------------------------------------------------------------\n",
      "Default clipping with dissolved clip map.\n",
      "--------------------------------------------------------------------------------\n",
      "WARNING: No 'column' option specified. Dissolving based on category values\n",
      "         from layer <1>.\n",
      "Extracting features...\n",
      "  50 100\n",
      "Building topology for vector map <temp_191@ML>...\n",
      "Registering primitives...\n",
      "Building areas...\n",
      "   0 100\n",
      "Attaching islands...\n",
      "   0 100\n",
      "Attaching centroids...\n",
      "   0 100\n",
      "Writing attributes...\n",
      "No attribute table for layer 1\n",
      "Removing duplicate centroids...\n",
      "Building topology for vector map <temp_191@ML>...\n",
      "Registering primitives...\n",
      "Building areas...\n",
      "   0 100\n",
      "Attaching islands...\n",
      "   0 100\n",
      "Attaching centroids...\n",
      "   0 100\n",
      "Copying vector features from <tmp_flowline_query@ML>...\n",
      "   1   3   5   7   9  11  13  15  17  19  21  23  25  27  29  31  33  35  37  39  41  43  45  47  49  51  53  55  57  59  61  63  65  67  69  71  73  75  77  79  81  83  85  87  89  91  93  95  97  99 100\n",
      "Copying vector features from <temp_191@ML>...\n",
      "  50 100\n",
      "Breaking lines...\n",
      "   0   3   6  10  13  17  20  24  27  31  35  38  41  45  48  51  54  58  61  64  67  69  72  75  78  81  84  87  91  94  97 100\n",
      "Selecting lines...\n",
      "   1   3   5   7   9  11  13  15  17  19  21  23  25  27  29  31  33  35  37  39  41  43  45  47  49  51  53  55  57  59  61  63  65  67  69  71  73  75  77  79  81  83  85  87  89  91  93  95  97  99 100\n",
      "Building topology for vector map <nhd_flowline@ML>...\n",
      "Registering primitives...\n",
      "v.overlay complete.\n",
      "Removing vector <tmp_flowline>\n",
      "[2022-03-21 18:25:40,445] [INFO] [grass_functions] : setting mask to buffered huc\n",
      "Reading areas...\n",
      "   0 100\n",
      "Writing raster map...\n",
      "   0   3   6   9  12  15  18  21  24  27  30  33  36  39  42  45  48  51  54  57  60  63  66  69  72  75  78  81  84  87  90  93  96  99 100\n",
      "Reading areas...\n",
      "   0 100\n",
      "Writing raster map...\n",
      "   0   3   6   9  12  15  18  21  24  27  30  33  36  39  42  45  48  51  54  57  60  63  66  69  72  75  78  81  84  87  90  93  96  99 100\n",
      "Reading areas...\n",
      "   0 100\n",
      "Writing raster map...\n",
      "   0   3   6   9  12  15  18  21  24  27  30  33  36  39  42  45  48  51  54  57  60  63  66  69  72  75  78  81  84  87  90  93  96  99 100\n",
      "Reading areas...\n",
      "   0 100\n",
      "Writing raster map...\n",
      "   0   3   6   9  12  15  18  21  24  27  30  33  36  39  42  45  48  51  54  57  60  63  66  69  72  75  78  81  84  87  90  93  96  99 100\n",
      "All subsequent raster operations will be limited to the MASK area. Removing\n",
      "or renaming raster map named 'MASK' will restore raster operations to\n",
      "normal.\n",
      "[2022-03-21 18:26:10,980] [INFO] [grass_functions] : clipping dem to buffered huc and setting region\n",
      "[2022-03-21 18:27:21,262] [INFO] [grass_functions] : {'projection': '99', 'zone': '0', 'n': '1683162.59003353', 's': '1666680.2353112', 'w': '-326996.97158293', 'e': '-316585.1062197', 'nsres': '9.29630836', 'ewres': '9.29630836', 'rows': '1773', 'cols': '1120', 'cells': '1985760'}\n",
      "   0   3   6   9  12  15  18  21  24  27  30  33  36  39  42  45  48  51  54  57  60  63  66  69  72  75  78  81  84  87  90  93  96  99 100\n",
      "d.vect complete.\n",
      "d.vect complete.\n",
      "Checking GDAL data type and nodata value...\n",
      "   2   5   8  11  14  17  20  23  26  29  32  35  38  41  44  47  50  53  56  59  62  65  68  71  74  77  80  83  86  89  92  95  98 100\n",
      "Using GDAL data type <Float64>\n",
      "Input raster map contains cells with NULL-value (no-data). The value -nan\n",
      "will be used to represent no-data values in the input map. You can specify\n",
      "a nodata value with the nodata option.\n",
      "Exporting raster data to GTiff format...\n",
      "ERROR 6: SetColorTable() only supported for Byte or UInt16 bands in TIFF format.\n",
      "   2   5   8  11  14  17  20  23  26  29  32  35  38  41  44  47  50  53  56  59  62  65  68  71  74  77  80  83  86  89  92  95  98 100\n",
      "r.out.gdal complete. File\n",
      "</home/data/outputs/huc110300060208_dem_res10m_sr5070.tif> created.\n",
      "[2022-03-21 18:27:33,667] [INFO] [grass_functions] : Exported bare earth tiff: outputs/huc110300060208_dem_res10m_sr5070.tif\n"
     ]
    }
   ],
   "source": [
    "config = dem_to_grass(config, overwrite = True)"
   ]
  },
  {
   "cell_type": "markdown",
   "metadata": {},
   "source": [
    "### Create Curvature Lines along streams in Grass GIS (for hydro-enforcing)"
   ]
  },
  {
   "cell_type": "raw",
   "metadata": {
    "tags": []
   },
   "source": [
    "#loaded function\n",
    "config = create_carve_lines(config,overwrite = False)"
   ]
  },
  {
   "cell_type": "code",
   "execution_count": 9,
   "metadata": {},
   "outputs": [
    {
     "name": "stderr",
     "output_type": "stream",
     "text": [
      "[2022-03-21 17:46:51,178] [INFO] [grass_functions] : performing initial pass of watershed analysis\n",
      "SECTION 1a (of 5): Initiating Memory.\n",
      "SECTION 1b (of 5): Determining Offmap Flow.\n",
      "   0   4   8  12  16  20  24  28  32  36  40  44  48  52  56  60  64  68  72  76  80  84  88  92  96 100\n",
      "SECTION 2: A* Search.\n",
      "   0   2   4   6   8  10  12  14  16  18  20  22  24  26  28  30  32  34  36  38  40  42  44  46  48  50  52  54  56  58  60  62  64  66  68  70  72  74  76  78  80  82  84  86  88  90  92  94  96  98 100\n",
      "SECTION 3: Accumulating Surface Flow with SFD.\n",
      "   1   3   5   7   9  11  13  15  17  19  21  23  25  27  29  31  33  35  37  39  41  43  45  47  49  51  53  55  57  59  61  63  65  67  69  71  73  75  77  79  81  83  85  87  89  91  93  95  97  99 100\n",
      "SECTION 4: Watershed determination.\n",
      "   0   2   4   6   8  10  12  14  16  18  20  22  24  26  28  30  32  34  36  38  40  42  44  46  48  50  52  54  56  58  60  62  64  66  68  70  72  74  76  78  80  82  84  86  88  90  92  94  96  98 100\n",
      "SECTION 5: Closing Maps.\n",
      " 100\n",
      "Writing out only positive flow accumulation values.\n",
      "Cells with a likely underestimate for flow accumulation can no longer be\n",
      "identified.\n"
     ]
    }
   ],
   "source": [
    "config = create_draft_stream_accum(config,overwrite = True)"
   ]
  },
  {
   "cell_type": "code",
   "execution_count": 10,
   "metadata": {
    "tags": []
   },
   "outputs": [
    {
     "name": "stderr",
     "output_type": "stream",
     "text": [
      "[2022-03-21 17:48:10,582] [INFO] [grass_functions] : combining watershed lines and nhd lines\n",
      "Building topology for vector map <nhd_flowline_poly@ML>...\n",
      "Registering primitives...\n",
      "   2   5   8  11  14  17  20  23  26  29  32  35  38  41  44  47  50  53  56  59  62  65  68  71  74  77  80  83  86  89  92  95  98 100\n",
      "Building topology for vector map <nhd_flowline_pts@ML>...\n",
      "Registering primitives...\n",
      "v.to.points complete. 36394 points written to output vector map.\n",
      "[2022-03-21 17:49:24,811] [INFO] [grass_functions] : capturing elevations along nhd lines\n",
      "Processing features...\n",
      "   2   5   8  11  14  17  20  23  26  29  32  35  38  41  44  47  50  53  56  59  62  65  68  71  74  77  80  83  86  89  92  95  98WARNING: Undefined height for feature 36127. Skipping.\n",
      "WARNING: Undefined height for feature 36393. Skipping.\n",
      " 100\n",
      "Copying attribute tables...\n",
      "Building topology for vector map <nhd_flowline_pts_3d@ML>...\n",
      "Registering primitives...\n",
      "v.drape complete. T: 2364.722625 B: 2124.903121.\n"
     ]
    }
   ],
   "source": [
    "adjust_nhd_lines(config,overwrite = True)"
   ]
  },
  {
   "cell_type": "code",
   "execution_count": null,
   "metadata": {
    "tags": []
   },
   "outputs": [
    {
     "name": "stderr",
     "output_type": "stream",
     "text": [
      "WARNING: No data base element files found\n",
      "[2022-03-21 17:51:20,404] [INFO] [grass_functions] : exporting nhd lines for road and dam analysis\n",
      "Fetching data...\n",
      "Fetching data...\n",
      "Fetching data...\n"
     ]
    },
    {
     "name": "stdout",
     "output_type": "stream",
     "text": [
      "228 Rd\n"
     ]
    },
    {
     "name": "stderr",
     "output_type": "stream",
     "text": [
      "Fetching data...\n",
      "WARNING: No features found, nothing to be exported\n",
      "Fetching data...\n",
      "Fetching data...\n",
      "Fetching data...\n",
      "Fetching data...\n",
      "WARNING: No features found, nothing to be exported\n",
      "Fetching data...\n"
     ]
    },
    {
     "name": "stdout",
     "output_type": "stream",
     "text": [
      "L Rd\n"
     ]
    },
    {
     "name": "stderr",
     "output_type": "stream",
     "text": [
      "Fetching data...\n",
      "WARNING: No features found, nothing to be exported\n",
      "Fetching data...\n",
      "Fetching data...\n",
      "Fetching data...\n",
      "Fetching data...\n",
      "WARNING: No features found, nothing to be exported\n",
      "Fetching data...\n",
      "Fetching data...\n",
      "Fetching data...\n",
      "Fetching data...\n",
      "Fetching data...\n",
      "Fetching data...\n",
      "Fetching data...\n",
      "Fetching data...\n",
      "WARNING: No features found, nothing to be exported\n",
      "Fetching data...\n",
      "Fetching data...\n"
     ]
    },
    {
     "name": "stdout",
     "output_type": "stream",
     "text": [
      "Ruff Rd\n"
     ]
    },
    {
     "name": "stderr",
     "output_type": "stream",
     "text": [
      "Fetching data...\n",
      "Fetching data...\n",
      "Fetching data...\n",
      "Fetching data...\n",
      "Fetching data...\n",
      "Fetching data...\n",
      "Fetching data...\n",
      "Fetching data...\n",
      "Fetching data...\n",
      "WARNING: No features found, nothing to be exported\n",
      "Fetching data...\n",
      "Fetching data...\n"
     ]
    },
    {
     "name": "stdout",
     "output_type": "stream",
     "text": [
      "L Rd\n"
     ]
    },
    {
     "name": "stderr",
     "output_type": "stream",
     "text": [
      "Fetching data...\n",
      "Fetching data...\n",
      "Fetching data...\n"
     ]
    },
    {
     "name": "stdout",
     "output_type": "stream",
     "text": [
      "None\n",
      "K Rd\n"
     ]
    },
    {
     "name": "stderr",
     "output_type": "stream",
     "text": [
      "Fetching data...\n",
      "Fetching data...\n",
      "Fetching data...\n"
     ]
    },
    {
     "name": "stdout",
     "output_type": "stream",
     "text": [
      "228 Rd\n"
     ]
    },
    {
     "name": "stderr",
     "output_type": "stream",
     "text": [
      "Fetching data...\n",
      "Fetching data...\n",
      "Fetching data...\n",
      "WARNING: No features found, nothing to be exported\n",
      "Fetching data...\n",
      "Fetching data...\n",
      "Fetching data...\n",
      "Fetching data...\n",
      "Fetching data...\n",
      "Fetching data...\n",
      "Fetching data...\n",
      "WARNING: No features found, nothing to be exported\n",
      "Fetching data...\n",
      "WARNING: No features found, nothing to be exported\n",
      "Fetching data...\n",
      "Fetching data...\n",
      "Fetching data...\n",
      "Fetching data...\n",
      "Fetching data...\n",
      "Fetching data...\n",
      "Fetching data...\n",
      "Fetching data...\n",
      "Fetching data...\n",
      "Fetching data...\n",
      "WARNING: No features found, nothing to be exported\n",
      "Fetching data...\n",
      "Fetching data...\n",
      "Fetching data...\n",
      "Fetching data...\n",
      "Fetching data...\n",
      "Fetching data...\n",
      "Fetching data...\n",
      "Fetching data...\n",
      "Fetching data...\n",
      "Fetching data...\n",
      "Fetching data...\n",
      "Fetching data...\n",
      "Fetching data...\n",
      "Fetching data...\n",
      "Fetching data...\n",
      "Fetching data...\n"
     ]
    },
    {
     "name": "stdout",
     "output_type": "stream",
     "text": [
      "K Rd\n"
     ]
    },
    {
     "name": "stderr",
     "output_type": "stream",
     "text": [
      "Fetching data...\n",
      "Fetching data...\n",
      "Fetching data...\n",
      "WARNING: No features found, nothing to be exported\n",
      "Fetching data...\n",
      "WARNING: No features found, nothing to be exported\n",
      "Fetching data...\n",
      "Fetching data...\n",
      "Fetching data...\n",
      "WARNING: No features found, nothing to be exported\n",
      "Fetching data...\n"
     ]
    },
    {
     "name": "stdout",
     "output_type": "stream",
     "text": [
      "H Rd\n",
      "None\n"
     ]
    },
    {
     "name": "stderr",
     "output_type": "stream",
     "text": [
      "Fetching data...\n",
      "Fetching data...\n",
      "Fetching data...\n",
      "Fetching data...\n",
      "Fetching data...\n",
      "Fetching data...\n",
      "Fetching data...\n",
      "Fetching data...\n",
      "Fetching data...\n",
      "Fetching data...\n",
      "WARNING: No features found, nothing to be exported\n",
      "Fetching data...\n"
     ]
    },
    {
     "name": "stdout",
     "output_type": "stream",
     "text": [
      "228 Rd\n"
     ]
    },
    {
     "name": "stderr",
     "output_type": "stream",
     "text": [
      "Fetching data...\n",
      "WARNING: No features found, nothing to be exported\n",
      "Fetching data...\n",
      "Fetching data...\n",
      "Fetching data...\n",
      "Fetching data...\n",
      "Fetching data...\n",
      "Fetching data...\n",
      "Fetching data...\n",
      "Fetching data...\n",
      "Fetching data...\n"
     ]
    },
    {
     "name": "stdout",
     "output_type": "stream",
     "text": [
      "K Rd\n"
     ]
    },
    {
     "name": "stderr",
     "output_type": "stream",
     "text": [
      "Fetching data...\n",
      "Fetching data...\n",
      "Fetching data...\n",
      "Fetching data...\n",
      "Fetching data...\n",
      "Fetching data...\n",
      "Fetching data...\n",
      "Fetching data...\n",
      "Fetching data...\n",
      "Fetching data...\n",
      "Fetching data...\n",
      "Fetching data...\n",
      "Fetching data...\n"
     ]
    },
    {
     "name": "stdout",
     "output_type": "stream",
     "text": [
      "228 Rd\n"
     ]
    },
    {
     "name": "stderr",
     "output_type": "stream",
     "text": [
      "Fetching data...\n",
      "WARNING: No features found, nothing to be exported\n",
      "Fetching data...\n",
      "Fetching data...\n",
      "Fetching data...\n"
     ]
    }
   ],
   "source": [
    "create_hydro_connectors(config,overwrite = True)"
   ]
  },
  {
   "cell_type": "code",
   "execution_count": null,
   "metadata": {},
   "outputs": [],
   "source": [
    "config = topo_carve(config,overwrite = True)"
   ]
  },
  {
   "cell_type": "markdown",
   "metadata": {},
   "source": [
    "### Create Accumulation, Flow Direction and Flow lines"
   ]
  },
  {
   "cell_type": "code",
   "execution_count": null,
   "metadata": {
    "tags": []
   },
   "outputs": [],
   "source": [
    "config = develop_watershed_data(config, overwrite = True)"
   ]
  },
  {
   "cell_type": "markdown",
   "metadata": {
    "tags": []
   },
   "source": [
    "## End"
   ]
  },
  {
   "cell_type": "code",
   "execution_count": null,
   "metadata": {},
   "outputs": [],
   "source": []
  },
  {
   "cell_type": "code",
   "execution_count": null,
   "metadata": {},
   "outputs": [],
   "source": []
  },
  {
   "cell_type": "code",
   "execution_count": null,
   "metadata": {},
   "outputs": [],
   "source": []
  },
  {
   "cell_type": "markdown",
   "metadata": {},
   "source": [
    "### Create 1sq mile threshold"
   ]
  },
  {
   "cell_type": "code",
   "execution_count": 27,
   "metadata": {},
   "outputs": [],
   "source": [
    "def delineate_at_threshold(config,overwrite = False):\n",
    "    accum = config.accum\n",
    "    threshold = config.thresholds['stream']\n",
    "    reg = gs.parse_command('g.region', raster=accum, flags='pgm',align=accum)\n",
    "    cell_area = (float(reg.nsres)*float(reg.ewres))\n",
    "    target_accum_cells = threshold / cell_area\n",
    "    gs.run_command('r.mapcalc',overwrite=True,\\\n",
    "                      expression='above_thresh = if({0} < {1},null(),{0})'.format(accum, target_accum_cells))\n",
    "    gs.run_command('r.mapcalc',overwrite=True,\\\n",
    "                      expression='outlet = if({0} = nmin({0}),1,null())'.format(accum))\n",
    "    gs.run_command('r.to.vect',overwrite=True,\\\n",
    "                          input = 'outlet', output = 'outlet_vec',\\\n",
    "                          type='point')\n",
    "    v_basin = delineate_at_point('outlet',config.drain,'thresholds')\n",
    "    gs.run_command('v.out.ogr', input=  v_basin ,type = 'area',output = out_dir/'{}.gpkg'.format(v_basin), format = 'GPKG')\n",
    "    \n",
    "def delineate_at_point(point_v,flow_dir,basin_name):\n",
    "    gs.run_command('r.stream.basins',overwrite=True,\\\n",
    "              direction=flow_dir,points=point_v,\\\n",
    "              basins = 'r_{}'.format(basin_name))\n",
    "    gs.run_command('r.to.vect',input = 'r_{}'.format(basin_name),output = 'v_{}'.format(basin_name), type = 'area')\n",
    "    gs.run_command('v.clean',input = 'v_{}'.format(basin_name),threshold = 5000,tool='rmarea',output = '{}_clean'.format(v_basins))\n",
    "    return 'v_{}'.format(basin_name)\n",
    "    "
   ]
  },
  {
   "cell_type": "code",
   "execution_count": 28,
   "metadata": {},
   "outputs": [
    {
     "name": "stderr",
     "output_type": "stream",
     "text": [
      "WARNING: Vector map <outlet_vec> already exists and will be overwritten\n",
      "Extracting points...\n",
      "   0   3   6   9  12  15  18  21  24  27"
     ]
    },
    {
     "ename": "KeyboardInterrupt",
     "evalue": "",
     "output_type": "error",
     "traceback": [
      "\u001b[0;31m---------------------------------------------------------------------------\u001b[0m",
      "\u001b[0;31mKeyboardInterrupt\u001b[0m                         Traceback (most recent call last)",
      "\u001b[0;32m/tmp/ipykernel_19282/495435756.py\u001b[0m in \u001b[0;36m<module>\u001b[0;34m\u001b[0m\n\u001b[0;32m----> 1\u001b[0;31m \u001b[0mdelineate_at_threshold\u001b[0m\u001b[0;34m(\u001b[0m\u001b[0mconfig\u001b[0m\u001b[0;34m,\u001b[0m\u001b[0moverwrite\u001b[0m \u001b[0;34m=\u001b[0m \u001b[0;32mTrue\u001b[0m\u001b[0;34m)\u001b[0m\u001b[0;34m\u001b[0m\u001b[0;34m\u001b[0m\u001b[0m\n\u001b[0m",
      "\u001b[0;32m/tmp/ipykernel_19282/785910351.py\u001b[0m in \u001b[0;36mdelineate_at_threshold\u001b[0;34m(config, overwrite)\u001b[0m\n\u001b[1;32m      9\u001b[0m     gs.run_command('r.mapcalc',overwrite=True,\\\n\u001b[1;32m     10\u001b[0m                       expression='outlet = if({0} = nmin({0}),1,null())'.format(accum))\n\u001b[0;32m---> 11\u001b[0;31m     gs.run_command('r.to.vect',overwrite=True,\\\n\u001b[0m\u001b[1;32m     12\u001b[0m                           \u001b[0minput\u001b[0m \u001b[0;34m=\u001b[0m \u001b[0;34m'outlet'\u001b[0m\u001b[0;34m,\u001b[0m \u001b[0moutput\u001b[0m \u001b[0;34m=\u001b[0m \u001b[0;34m'outlet_vec'\u001b[0m\u001b[0;34m,\u001b[0m\u001b[0;31m\\\u001b[0m\u001b[0;34m\u001b[0m\u001b[0;34m\u001b[0m\u001b[0m\n\u001b[1;32m     13\u001b[0m                           type='point')\n",
      "\u001b[0;32m/usr/lib/grass78/etc/python/grass/script/core.py\u001b[0m in \u001b[0;36mrun_command\u001b[0;34m(*args, **kwargs)\u001b[0m\n\u001b[1;32m    438\u001b[0m             \u001b[0msys\u001b[0m\u001b[0;34m.\u001b[0m\u001b[0mstderr\u001b[0m\u001b[0;34m.\u001b[0m\u001b[0mwrite\u001b[0m\u001b[0;34m(\u001b[0m\u001b[0mstderr\u001b[0m\u001b[0;34m)\u001b[0m\u001b[0;34m\u001b[0m\u001b[0;34m\u001b[0m\u001b[0m\n\u001b[1;32m    439\u001b[0m     \u001b[0;32melse\u001b[0m\u001b[0;34m:\u001b[0m\u001b[0;34m\u001b[0m\u001b[0;34m\u001b[0m\u001b[0m\n\u001b[0;32m--> 440\u001b[0;31m         \u001b[0mreturncode\u001b[0m \u001b[0;34m=\u001b[0m \u001b[0mps\u001b[0m\u001b[0;34m.\u001b[0m\u001b[0mwait\u001b[0m\u001b[0;34m(\u001b[0m\u001b[0;34m)\u001b[0m\u001b[0;34m\u001b[0m\u001b[0;34m\u001b[0m\u001b[0m\n\u001b[0m\u001b[1;32m    441\u001b[0m     \u001b[0;32mreturn\u001b[0m \u001b[0mhandle_errors\u001b[0m\u001b[0;34m(\u001b[0m\u001b[0mreturncode\u001b[0m\u001b[0;34m,\u001b[0m \u001b[0mreturncode\u001b[0m\u001b[0;34m,\u001b[0m \u001b[0margs\u001b[0m\u001b[0;34m,\u001b[0m \u001b[0mkwargs\u001b[0m\u001b[0;34m)\u001b[0m\u001b[0;34m\u001b[0m\u001b[0;34m\u001b[0m\u001b[0m\n\u001b[1;32m    442\u001b[0m \u001b[0;34m\u001b[0m\u001b[0m\n",
      "\u001b[0;32m/opt/conda/lib/python3.9/subprocess.py\u001b[0m in \u001b[0;36mwait\u001b[0;34m(self, timeout)\u001b[0m\n\u001b[1;32m   1187\u001b[0m             \u001b[0mendtime\u001b[0m \u001b[0;34m=\u001b[0m \u001b[0m_time\u001b[0m\u001b[0;34m(\u001b[0m\u001b[0;34m)\u001b[0m \u001b[0;34m+\u001b[0m \u001b[0mtimeout\u001b[0m\u001b[0;34m\u001b[0m\u001b[0;34m\u001b[0m\u001b[0m\n\u001b[1;32m   1188\u001b[0m         \u001b[0;32mtry\u001b[0m\u001b[0;34m:\u001b[0m\u001b[0;34m\u001b[0m\u001b[0;34m\u001b[0m\u001b[0m\n\u001b[0;32m-> 1189\u001b[0;31m             \u001b[0;32mreturn\u001b[0m \u001b[0mself\u001b[0m\u001b[0;34m.\u001b[0m\u001b[0m_wait\u001b[0m\u001b[0;34m(\u001b[0m\u001b[0mtimeout\u001b[0m\u001b[0;34m=\u001b[0m\u001b[0mtimeout\u001b[0m\u001b[0;34m)\u001b[0m\u001b[0;34m\u001b[0m\u001b[0;34m\u001b[0m\u001b[0m\n\u001b[0m\u001b[1;32m   1190\u001b[0m         \u001b[0;32mexcept\u001b[0m \u001b[0mKeyboardInterrupt\u001b[0m\u001b[0;34m:\u001b[0m\u001b[0;34m\u001b[0m\u001b[0;34m\u001b[0m\u001b[0m\n\u001b[1;32m   1191\u001b[0m             \u001b[0;31m# https://bugs.python.org/issue25942\u001b[0m\u001b[0;34m\u001b[0m\u001b[0;34m\u001b[0m\u001b[0m\n",
      "\u001b[0;32m/opt/conda/lib/python3.9/subprocess.py\u001b[0m in \u001b[0;36m_wait\u001b[0;34m(self, timeout)\u001b[0m\n\u001b[1;32m   1915\u001b[0m                         \u001b[0;32mif\u001b[0m \u001b[0mself\u001b[0m\u001b[0;34m.\u001b[0m\u001b[0mreturncode\u001b[0m \u001b[0;32mis\u001b[0m \u001b[0;32mnot\u001b[0m \u001b[0;32mNone\u001b[0m\u001b[0;34m:\u001b[0m\u001b[0;34m\u001b[0m\u001b[0;34m\u001b[0m\u001b[0m\n\u001b[1;32m   1916\u001b[0m                             \u001b[0;32mbreak\u001b[0m  \u001b[0;31m# Another thread waited.\u001b[0m\u001b[0;34m\u001b[0m\u001b[0;34m\u001b[0m\u001b[0m\n\u001b[0;32m-> 1917\u001b[0;31m                         \u001b[0;34m(\u001b[0m\u001b[0mpid\u001b[0m\u001b[0;34m,\u001b[0m \u001b[0msts\u001b[0m\u001b[0;34m)\u001b[0m \u001b[0;34m=\u001b[0m \u001b[0mself\u001b[0m\u001b[0;34m.\u001b[0m\u001b[0m_try_wait\u001b[0m\u001b[0;34m(\u001b[0m\u001b[0;36m0\u001b[0m\u001b[0;34m)\u001b[0m\u001b[0;34m\u001b[0m\u001b[0;34m\u001b[0m\u001b[0m\n\u001b[0m\u001b[1;32m   1918\u001b[0m                         \u001b[0;31m# Check the pid and loop as waitpid has been known to\u001b[0m\u001b[0;34m\u001b[0m\u001b[0;34m\u001b[0m\u001b[0m\n\u001b[1;32m   1919\u001b[0m                         \u001b[0;31m# return 0 even without WNOHANG in odd situations.\u001b[0m\u001b[0;34m\u001b[0m\u001b[0;34m\u001b[0m\u001b[0m\n",
      "\u001b[0;32m/opt/conda/lib/python3.9/subprocess.py\u001b[0m in \u001b[0;36m_try_wait\u001b[0;34m(self, wait_flags)\u001b[0m\n\u001b[1;32m   1873\u001b[0m             \u001b[0;34m\"\"\"All callers to this function MUST hold self._waitpid_lock.\"\"\"\u001b[0m\u001b[0;34m\u001b[0m\u001b[0;34m\u001b[0m\u001b[0m\n\u001b[1;32m   1874\u001b[0m             \u001b[0;32mtry\u001b[0m\u001b[0;34m:\u001b[0m\u001b[0;34m\u001b[0m\u001b[0;34m\u001b[0m\u001b[0m\n\u001b[0;32m-> 1875\u001b[0;31m                 \u001b[0;34m(\u001b[0m\u001b[0mpid\u001b[0m\u001b[0;34m,\u001b[0m \u001b[0msts\u001b[0m\u001b[0;34m)\u001b[0m \u001b[0;34m=\u001b[0m \u001b[0mos\u001b[0m\u001b[0;34m.\u001b[0m\u001b[0mwaitpid\u001b[0m\u001b[0;34m(\u001b[0m\u001b[0mself\u001b[0m\u001b[0;34m.\u001b[0m\u001b[0mpid\u001b[0m\u001b[0;34m,\u001b[0m \u001b[0mwait_flags\u001b[0m\u001b[0;34m)\u001b[0m\u001b[0;34m\u001b[0m\u001b[0;34m\u001b[0m\u001b[0m\n\u001b[0m\u001b[1;32m   1876\u001b[0m             \u001b[0;32mexcept\u001b[0m \u001b[0mChildProcessError\u001b[0m\u001b[0;34m:\u001b[0m\u001b[0;34m\u001b[0m\u001b[0;34m\u001b[0m\u001b[0m\n\u001b[1;32m   1877\u001b[0m                 \u001b[0;31m# This happens if SIGCLD is set to be ignored or waiting\u001b[0m\u001b[0;34m\u001b[0m\u001b[0;34m\u001b[0m\u001b[0m\n",
      "\u001b[0;31mKeyboardInterrupt\u001b[0m: "
     ]
    }
   ],
   "source": [
    "delineate_at_threshold(config,overwrite = True)"
   ]
  }
 ],
 "metadata": {
  "kernelspec": {
   "display_name": "Python 3 (ipykernel)",
   "language": "python",
   "name": "python3"
  },
  "language_info": {
   "codemirror_mode": {
    "name": "ipython",
    "version": 3
   },
   "file_extension": ".py",
   "mimetype": "text/x-python",
   "name": "python",
   "nbconvert_exporter": "python",
   "pygments_lexer": "ipython3",
   "version": "3.9.7"
  }
 },
 "nbformat": 4,
 "nbformat_minor": 4
}
