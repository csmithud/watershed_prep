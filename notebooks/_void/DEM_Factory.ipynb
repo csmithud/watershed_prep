{
 "cells": [
  {
   "cell_type": "markdown",
   "id": "8ab40abb-3f54-4071-9419-a0ee68b8586d",
   "metadata": {},
   "source": [
    "## Papermill Loop to create DEMs"
   ]
  },
  {
   "cell_type": "code",
   "execution_count": 2,
   "id": "5ebbc363-8479-417b-b053-13da6a209cda",
   "metadata": {},
   "outputs": [],
   "source": [
    "import subprocess, os"
   ]
  },
  {
   "cell_type": "code",
   "execution_count": 3,
   "id": "b0e8fa22-0851-4f88-b253-3d7fac4f7ee8",
   "metadata": {},
   "outputs": [],
   "source": [
    "import pathlib as pl"
   ]
  },
  {
   "cell_type": "raw",
   "id": "c3e175dc-02b1-4a99-a010-1a3bfa1812ab",
   "metadata": {
    "tags": []
   },
   "source": [
    "conda install -c conda-forge papermill"
   ]
  },
  {
   "cell_type": "code",
   "execution_count": 4,
   "id": "5843d27a-eee7-4560-910d-36f59e84f374",
   "metadata": {},
   "outputs": [],
   "source": [
    "import papermill as pm"
   ]
  },
  {
   "cell_type": "code",
   "execution_count": 14,
   "id": "654fc8ee-e098-4b7e-aea4-809b632e8cd7",
   "metadata": {},
   "outputs": [],
   "source": [
    "#list of hucs for Curtis to run\n",
    "needs_conversion =  ['1404010602', '1404010603', '1404010604','1404010605']\n",
    "hucs = [ '1404010701', '1404010608']"
   ]
  },
  {
   "cell_type": "code",
   "execution_count": 15,
   "id": "81f3f0be-b593-4c65-b2fe-d1893f1948c1",
   "metadata": {},
   "outputs": [],
   "source": [
    "home = pl.Path(os.getcwd())"
   ]
  },
  {
   "cell_type": "code",
   "execution_count": 16,
   "id": "3627e73d-33cb-4006-8bd1-52ae03e3463f",
   "metadata": {},
   "outputs": [],
   "source": [
    "if not os.path.exists(home/'notebook_outputs'):\n",
    "    os.makedirs(home/'notebook_outputs')"
   ]
  },
  {
   "cell_type": "code",
   "execution_count": 17,
   "id": "72491879-0e60-4b55-8ecd-c5a53dce1905",
   "metadata": {},
   "outputs": [],
   "source": [
    "from IPython.display import clear_output"
   ]
  },
  {
   "cell_type": "code",
   "execution_count": 18,
   "id": "70a3a659-acdf-4d12-8fdb-9322e1ed76de",
   "metadata": {
    "tags": []
   },
   "outputs": [
    {
     "data": {
      "application/vnd.jupyter.widget-view+json": {
       "model_id": "2a09ff98e29f4dc69eb7e37c67889dd8",
       "version_major": 2,
       "version_minor": 0
      },
      "text/plain": [
       "Executing:   0%|          | 0/33 [00:00<?, ?cell/s]"
      ]
     },
     "metadata": {},
     "output_type": "display_data"
    },
    {
     "ename": "PapermillExecutionError",
     "evalue": "\n---------------------------------------------------------------------------\nException encountered at \"In [18]\":\n---------------------------------------------------------------------------\ngaierror                                  Traceback (most recent call last)\n/opt/conda/lib/python3.9/site-packages/urllib3/connection.py in _new_conn(self)\n    173         try:\n--> 174             conn = connection.create_connection(\n    175                 (self._dns_host, self.port), self.timeout, **extra_kw\n\n/opt/conda/lib/python3.9/site-packages/urllib3/util/connection.py in create_connection(address, timeout, source_address, socket_options)\n     72 \n---> 73     for res in socket.getaddrinfo(host, port, family, socket.SOCK_STREAM):\n     74         af, socktype, proto, canonname, sa = res\n\n/opt/conda/lib/python3.9/socket.py in getaddrinfo(host, port, family, type, proto, flags)\n    953     addrlist = []\n--> 954     for res in _socket.getaddrinfo(host, port, family, type, proto, flags):\n    955         af, socktype, proto, canonname, sa = res\n\ngaierror: [Errno -3] Temporary failure in name resolution\n\nDuring handling of the above exception, another exception occurred:\n\nNewConnectionError                        Traceback (most recent call last)\n/opt/conda/lib/python3.9/site-packages/urllib3/connectionpool.py in urlopen(self, method, url, body, headers, retries, redirect, assert_same_host, timeout, pool_timeout, release_conn, chunked, body_pos, **response_kw)\n    698             # Make the request on the httplib connection object.\n--> 699             httplib_response = self._make_request(\n    700                 conn,\n\n/opt/conda/lib/python3.9/site-packages/urllib3/connectionpool.py in _make_request(self, conn, method, url, timeout, chunked, **httplib_request_kw)\n    381         try:\n--> 382             self._validate_conn(conn)\n    383         except (SocketTimeout, BaseSSLError) as e:\n\n/opt/conda/lib/python3.9/site-packages/urllib3/connectionpool.py in _validate_conn(self, conn)\n   1009         if not getattr(conn, \"sock\", None):  # AppEngine might not have  `.sock`\n-> 1010             conn.connect()\n   1011 \n\n/opt/conda/lib/python3.9/site-packages/urllib3/connection.py in connect(self)\n    357         # Add certificate verification\n--> 358         conn = self._new_conn()\n    359         hostname = self.host\n\n/opt/conda/lib/python3.9/site-packages/urllib3/connection.py in _new_conn(self)\n    185         except SocketError as e:\n--> 186             raise NewConnectionError(\n    187                 self, \"Failed to establish a new connection: %s\" % e\n\nNewConnectionError: <urllib3.connection.HTTPSConnection object at 0x7f6864863520>: Failed to establish a new connection: [Errno -3] Temporary failure in name resolution\n\nDuring handling of the above exception, another exception occurred:\n\nMaxRetryError                             Traceback (most recent call last)\n/opt/conda/lib/python3.9/site-packages/requests/adapters.py in send(self, request, stream, timeout, verify, cert, proxies)\n    438             if not chunked:\n--> 439                 resp = conn.urlopen(\n    440                     method=request.method,\n\n/opt/conda/lib/python3.9/site-packages/urllib3/connectionpool.py in urlopen(self, method, url, body, headers, retries, redirect, assert_same_host, timeout, pool_timeout, release_conn, chunked, body_pos, **response_kw)\n    754 \n--> 755             retries = retries.increment(\n    756                 method, url, error=e, _pool=self, _stacktrace=sys.exc_info()[2]\n\n/opt/conda/lib/python3.9/site-packages/urllib3/util/retry.py in increment(self, method, url, response, error, _pool, _stacktrace)\n    573         if new_retry.is_exhausted():\n--> 574             raise MaxRetryError(_pool, url, error or ResponseError(cause))\n    575 \n\nMaxRetryError: HTTPSConnectionPool(host='prd-tnm.s3.amazonaws.com', port=443): Max retries exceeded with url: /StagedProducts/Elevation/OPR/Projects/WY_Southwest_2020_D20/WY_Southwest_4_2020/TIFF/USGS_OPR_WY_Southwest_2020_D20_12TWL670530.tif (Caused by NewConnectionError('<urllib3.connection.HTTPSConnection object at 0x7f6864863520>: Failed to establish a new connection: [Errno -3] Temporary failure in name resolution'))\n\nDuring handling of the above exception, another exception occurred:\n\nConnectionError                           Traceback (most recent call last)\n/tmp/ipykernel_19999/2523340972.py in <module>\n      2 \n      3 ##download\n----> 4 dems = dem_download(dem_links,outputs_dir,dem_folder)\n\n/home/notebooks/../src/grass_functions.py in dem_download(dem_links, output_dir, dem_folder, docker)\n    668             if alive:\n    669                 print('opening: '+link)\n--> 670                 r = requests.get(link, allow_redirects=True,verify=docker)\n    671                 print('saving to: '+str(output_dir_pl/raster_name))\n    672                 with open (output_dir_pl/raster_name, 'wb') as tif:\n\n/opt/conda/lib/python3.9/site-packages/requests/api.py in get(url, params, **kwargs)\n     73     \"\"\"\n     74 \n---> 75     return request('get', url, params=params, **kwargs)\n     76 \n     77 \n\n/opt/conda/lib/python3.9/site-packages/requests/api.py in request(method, url, **kwargs)\n     59     # cases, and look like a memory leak in others.\n     60     with sessions.Session() as session:\n---> 61         return session.request(method=method, url=url, **kwargs)\n     62 \n     63 \n\n/opt/conda/lib/python3.9/site-packages/requests/sessions.py in request(self, method, url, params, data, headers, cookies, files, auth, timeout, allow_redirects, proxies, hooks, stream, verify, cert, json)\n    540         }\n    541         send_kwargs.update(settings)\n--> 542         resp = self.send(prep, **send_kwargs)\n    543 \n    544         return resp\n\n/opt/conda/lib/python3.9/site-packages/requests/sessions.py in send(self, request, **kwargs)\n    653 \n    654         # Send the request\n--> 655         r = adapter.send(request, **kwargs)\n    656 \n    657         # Total elapsed time of the request (approximately)\n\n/opt/conda/lib/python3.9/site-packages/requests/adapters.py in send(self, request, stream, timeout, verify, cert, proxies)\n    514                 raise SSLError(e, request=request)\n    515 \n--> 516             raise ConnectionError(e, request=request)\n    517 \n    518         except ClosedPoolError as e:\n\nConnectionError: HTTPSConnectionPool(host='prd-tnm.s3.amazonaws.com', port=443): Max retries exceeded with url: /StagedProducts/Elevation/OPR/Projects/WY_Southwest_2020_D20/WY_Southwest_4_2020/TIFF/USGS_OPR_WY_Southwest_2020_D20_12TWL670530.tif (Caused by NewConnectionError('<urllib3.connection.HTTPSConnection object at 0x7f6864863520>: Failed to establish a new connection: [Errno -3] Temporary failure in name resolution'))\n",
     "output_type": "error",
     "traceback": [
      "\u001b[0;31m---------------------------------------------------------------------------\u001b[0m",
      "\u001b[0;31mPapermillExecutionError\u001b[0m                   Traceback (most recent call last)",
      "\u001b[0;32m/tmp/ipykernel_19793/1969913416.py\u001b[0m in \u001b[0;36m<module>\u001b[0;34m\u001b[0m\n\u001b[1;32m     11\u001b[0m     \u001b[0mauto_delete\u001b[0m\u001b[0;34m=\u001b[0m \u001b[0;32mTrue\u001b[0m\u001b[0;34m\u001b[0m\u001b[0;34m\u001b[0m\u001b[0m\n\u001b[1;32m     12\u001b[0m \u001b[0;34m\u001b[0m\u001b[0m\n\u001b[0;32m---> 13\u001b[0;31m     res = pm.execute_notebook('1-RAS_DEM_download.ipynb',os.path.join('notebook_outputs',f'1-RAS_DEM_download_{select_data}.ipynb'),\n\u001b[0m\u001b[1;32m     14\u001b[0m                               parameters= dict(select_data=select_data,res=res,Project_Area=Project_Area,GRASS_GIS_Projection=GRASS_GIS_Projection,\n\u001b[1;32m     15\u001b[0m                                              \u001b[0mprojection\u001b[0m\u001b[0;34m=\u001b[0m\u001b[0mprojection\u001b[0m\u001b[0;34m,\u001b[0m\u001b[0mdata_scale\u001b[0m\u001b[0;34m=\u001b[0m\u001b[0mdata_scale\u001b[0m\u001b[0;34m,\u001b[0m\u001b[0mto_headwaters\u001b[0m\u001b[0;34m=\u001b[0m\u001b[0mto_headwaters\u001b[0m\u001b[0;34m,\u001b[0m\u001b[0minput_shp_name\u001b[0m\u001b[0;34m=\u001b[0m\u001b[0minput_shp_name\u001b[0m\u001b[0;34m,\u001b[0m\u001b[0;34m\u001b[0m\u001b[0;34m\u001b[0m\u001b[0m\n",
      "\u001b[0;32m/opt/conda/lib/python3.9/site-packages/papermill/execute.py\u001b[0m in \u001b[0;36mexecute_notebook\u001b[0;34m(input_path, output_path, parameters, engine_name, request_save_on_cell_execute, prepare_only, kernel_name, language, progress_bar, log_output, stdout_file, stderr_file, start_timeout, report_mode, cwd, **engine_kwargs)\u001b[0m\n\u001b[1;32m    126\u001b[0m \u001b[0;34m\u001b[0m\u001b[0m\n\u001b[1;32m    127\u001b[0m             \u001b[0;31m# Check for errors first (it saves on error before raising)\u001b[0m\u001b[0;34m\u001b[0m\u001b[0;34m\u001b[0m\u001b[0m\n\u001b[0;32m--> 128\u001b[0;31m             \u001b[0mraise_for_execution_errors\u001b[0m\u001b[0;34m(\u001b[0m\u001b[0mnb\u001b[0m\u001b[0;34m,\u001b[0m \u001b[0moutput_path\u001b[0m\u001b[0;34m)\u001b[0m\u001b[0;34m\u001b[0m\u001b[0;34m\u001b[0m\u001b[0m\n\u001b[0m\u001b[1;32m    129\u001b[0m \u001b[0;34m\u001b[0m\u001b[0m\n\u001b[1;32m    130\u001b[0m         \u001b[0;31m# Write final output in case the engine didn't write it on cell completion.\u001b[0m\u001b[0;34m\u001b[0m\u001b[0;34m\u001b[0m\u001b[0m\n",
      "\u001b[0;32m/opt/conda/lib/python3.9/site-packages/papermill/execute.py\u001b[0m in \u001b[0;36mraise_for_execution_errors\u001b[0;34m(nb, output_path)\u001b[0m\n\u001b[1;32m    230\u001b[0m \u001b[0;34m\u001b[0m\u001b[0m\n\u001b[1;32m    231\u001b[0m         \u001b[0mwrite_ipynb\u001b[0m\u001b[0;34m(\u001b[0m\u001b[0mnb\u001b[0m\u001b[0;34m,\u001b[0m \u001b[0moutput_path\u001b[0m\u001b[0;34m)\u001b[0m\u001b[0;34m\u001b[0m\u001b[0;34m\u001b[0m\u001b[0m\n\u001b[0;32m--> 232\u001b[0;31m         \u001b[0;32mraise\u001b[0m \u001b[0merror\u001b[0m\u001b[0;34m\u001b[0m\u001b[0;34m\u001b[0m\u001b[0m\n\u001b[0m",
      "\u001b[0;31mPapermillExecutionError\u001b[0m: \n---------------------------------------------------------------------------\nException encountered at \"In [18]\":\n---------------------------------------------------------------------------\ngaierror                                  Traceback (most recent call last)\n/opt/conda/lib/python3.9/site-packages/urllib3/connection.py in _new_conn(self)\n    173         try:\n--> 174             conn = connection.create_connection(\n    175                 (self._dns_host, self.port), self.timeout, **extra_kw\n\n/opt/conda/lib/python3.9/site-packages/urllib3/util/connection.py in create_connection(address, timeout, source_address, socket_options)\n     72 \n---> 73     for res in socket.getaddrinfo(host, port, family, socket.SOCK_STREAM):\n     74         af, socktype, proto, canonname, sa = res\n\n/opt/conda/lib/python3.9/socket.py in getaddrinfo(host, port, family, type, proto, flags)\n    953     addrlist = []\n--> 954     for res in _socket.getaddrinfo(host, port, family, type, proto, flags):\n    955         af, socktype, proto, canonname, sa = res\n\ngaierror: [Errno -3] Temporary failure in name resolution\n\nDuring handling of the above exception, another exception occurred:\n\nNewConnectionError                        Traceback (most recent call last)\n/opt/conda/lib/python3.9/site-packages/urllib3/connectionpool.py in urlopen(self, method, url, body, headers, retries, redirect, assert_same_host, timeout, pool_timeout, release_conn, chunked, body_pos, **response_kw)\n    698             # Make the request on the httplib connection object.\n--> 699             httplib_response = self._make_request(\n    700                 conn,\n\n/opt/conda/lib/python3.9/site-packages/urllib3/connectionpool.py in _make_request(self, conn, method, url, timeout, chunked, **httplib_request_kw)\n    381         try:\n--> 382             self._validate_conn(conn)\n    383         except (SocketTimeout, BaseSSLError) as e:\n\n/opt/conda/lib/python3.9/site-packages/urllib3/connectionpool.py in _validate_conn(self, conn)\n   1009         if not getattr(conn, \"sock\", None):  # AppEngine might not have  `.sock`\n-> 1010             conn.connect()\n   1011 \n\n/opt/conda/lib/python3.9/site-packages/urllib3/connection.py in connect(self)\n    357         # Add certificate verification\n--> 358         conn = self._new_conn()\n    359         hostname = self.host\n\n/opt/conda/lib/python3.9/site-packages/urllib3/connection.py in _new_conn(self)\n    185         except SocketError as e:\n--> 186             raise NewConnectionError(\n    187                 self, \"Failed to establish a new connection: %s\" % e\n\nNewConnectionError: <urllib3.connection.HTTPSConnection object at 0x7f6864863520>: Failed to establish a new connection: [Errno -3] Temporary failure in name resolution\n\nDuring handling of the above exception, another exception occurred:\n\nMaxRetryError                             Traceback (most recent call last)\n/opt/conda/lib/python3.9/site-packages/requests/adapters.py in send(self, request, stream, timeout, verify, cert, proxies)\n    438             if not chunked:\n--> 439                 resp = conn.urlopen(\n    440                     method=request.method,\n\n/opt/conda/lib/python3.9/site-packages/urllib3/connectionpool.py in urlopen(self, method, url, body, headers, retries, redirect, assert_same_host, timeout, pool_timeout, release_conn, chunked, body_pos, **response_kw)\n    754 \n--> 755             retries = retries.increment(\n    756                 method, url, error=e, _pool=self, _stacktrace=sys.exc_info()[2]\n\n/opt/conda/lib/python3.9/site-packages/urllib3/util/retry.py in increment(self, method, url, response, error, _pool, _stacktrace)\n    573         if new_retry.is_exhausted():\n--> 574             raise MaxRetryError(_pool, url, error or ResponseError(cause))\n    575 \n\nMaxRetryError: HTTPSConnectionPool(host='prd-tnm.s3.amazonaws.com', port=443): Max retries exceeded with url: /StagedProducts/Elevation/OPR/Projects/WY_Southwest_2020_D20/WY_Southwest_4_2020/TIFF/USGS_OPR_WY_Southwest_2020_D20_12TWL670530.tif (Caused by NewConnectionError('<urllib3.connection.HTTPSConnection object at 0x7f6864863520>: Failed to establish a new connection: [Errno -3] Temporary failure in name resolution'))\n\nDuring handling of the above exception, another exception occurred:\n\nConnectionError                           Traceback (most recent call last)\n/tmp/ipykernel_19999/2523340972.py in <module>\n      2 \n      3 ##download\n----> 4 dems = dem_download(dem_links,outputs_dir,dem_folder)\n\n/home/notebooks/../src/grass_functions.py in dem_download(dem_links, output_dir, dem_folder, docker)\n    668             if alive:\n    669                 print('opening: '+link)\n--> 670                 r = requests.get(link, allow_redirects=True,verify=docker)\n    671                 print('saving to: '+str(output_dir_pl/raster_name))\n    672                 with open (output_dir_pl/raster_name, 'wb') as tif:\n\n/opt/conda/lib/python3.9/site-packages/requests/api.py in get(url, params, **kwargs)\n     73     \"\"\"\n     74 \n---> 75     return request('get', url, params=params, **kwargs)\n     76 \n     77 \n\n/opt/conda/lib/python3.9/site-packages/requests/api.py in request(method, url, **kwargs)\n     59     # cases, and look like a memory leak in others.\n     60     with sessions.Session() as session:\n---> 61         return session.request(method=method, url=url, **kwargs)\n     62 \n     63 \n\n/opt/conda/lib/python3.9/site-packages/requests/sessions.py in request(self, method, url, params, data, headers, cookies, files, auth, timeout, allow_redirects, proxies, hooks, stream, verify, cert, json)\n    540         }\n    541         send_kwargs.update(settings)\n--> 542         resp = self.send(prep, **send_kwargs)\n    543 \n    544         return resp\n\n/opt/conda/lib/python3.9/site-packages/requests/sessions.py in send(self, request, **kwargs)\n    653 \n    654         # Send the request\n--> 655         r = adapter.send(request, **kwargs)\n    656 \n    657         # Total elapsed time of the request (approximately)\n\n/opt/conda/lib/python3.9/site-packages/requests/adapters.py in send(self, request, stream, timeout, verify, cert, proxies)\n    514                 raise SSLError(e, request=request)\n    515 \n--> 516             raise ConnectionError(e, request=request)\n    517 \n    518         except ClosedPoolError as e:\n\nConnectionError: HTTPSConnectionPool(host='prd-tnm.s3.amazonaws.com', port=443): Max retries exceeded with url: /StagedProducts/Elevation/OPR/Projects/WY_Southwest_2020_D20/WY_Southwest_4_2020/TIFF/USGS_OPR_WY_Southwest_2020_D20_12TWL670530.tif (Caused by NewConnectionError('<urllib3.connection.HTTPSConnection object at 0x7f6864863520>: Failed to establish a new connection: [Errno -3] Temporary failure in name resolution'))\n"
     ]
    }
   ],
   "source": [
    "for huc in hucs:\n",
    "    select_data=huc\n",
    "    Project_Area= 'wyoming_ble_stantec'\n",
    "    GRASS_GIS_Projection= '26912'\n",
    "    projection= '26912'\n",
    "    res='opr'\n",
    "    data_scale= 'perim' \n",
    "    to_headwaters= False \n",
    "    input_shp_name= 'ALL_perimeters_smoothed_stantec_dewberry_231115.shp'\n",
    "    buffer = 2000\n",
    "    auto_delete= True\n",
    "    \n",
    "    res = pm.execute_notebook('1-RAS_DEM_download.ipynb',os.path.join('notebook_outputs',f'1-RAS_DEM_download_{select_data}.ipynb'),\n",
    "                              parameters= dict(select_data=select_data,res=res,Project_Area=Project_Area,GRASS_GIS_Projection=GRASS_GIS_Projection,\n",
    "                                             projection=projection,data_scale=data_scale,to_headwaters=to_headwaters,input_shp_name=input_shp_name,\n",
    "                                               buffer=buffer,auto_delete=auto_delete))\n",
    "\n",
    "    res2 = pm.execute_notebook('2-RAS_DEM_Prep.ipynb',os.path.join('notebook_outputs',f'2-RAS_DEM_Prep_{select_data}.ipynb'),\n",
    "                               parameters=dict(select_data=select_data,res=res,Project_Area=Project_Area,GRASS_GIS_Projection=GRASS_GIS_Projection,\n",
    "                                             projection=projection,data_scale=data_scale,to_headwaters=to_headwaters,input_shp_name=input_shp_name,\n",
    "                                               buffer=buffer, auto_delete=auto_delete))\n",
    "    clear_output(wait=True)"
   ]
  },
  {
   "cell_type": "code",
   "execution_count": null,
   "id": "9e73a5a6-3c90-44d3-a81b-25a9957e7425",
   "metadata": {},
   "outputs": [],
   "source": []
  },
  {
   "cell_type": "code",
   "execution_count": null,
   "id": "b0a19921-a035-427c-aa45-cd70d95bbaa3",
   "metadata": {},
   "outputs": [],
   "source": []
  },
  {
   "cell_type": "code",
   "execution_count": null,
   "id": "d7dc117a-a999-47e5-bd16-abe455268149",
   "metadata": {},
   "outputs": [],
   "source": []
  },
  {
   "cell_type": "code",
   "execution_count": null,
   "id": "59e58a65-d459-46a1-bed3-1a8a872b86ac",
   "metadata": {},
   "outputs": [],
   "source": []
  },
  {
   "cell_type": "code",
   "execution_count": null,
   "id": "bacd1b35-6802-4349-b9cb-1d1f80de39e7",
   "metadata": {},
   "outputs": [],
   "source": []
  },
  {
   "cell_type": "code",
   "execution_count": null,
   "id": "e5dec864-6fb6-4648-be22-4e1a26910668",
   "metadata": {},
   "outputs": [],
   "source": []
  },
  {
   "cell_type": "code",
   "execution_count": null,
   "id": "89b73f02-2f76-4cd9-bbca-fda3d8364435",
   "metadata": {},
   "outputs": [],
   "source": []
  },
  {
   "cell_type": "code",
   "execution_count": null,
   "id": "c66958ab-3430-4f0f-8fca-6c5a91745fe1",
   "metadata": {},
   "outputs": [],
   "source": []
  },
  {
   "cell_type": "code",
   "execution_count": null,
   "id": "e8c2e4bd-c1bd-455d-a6b7-747cb2766a4a",
   "metadata": {},
   "outputs": [],
   "source": []
  },
  {
   "cell_type": "code",
   "execution_count": null,
   "id": "340f8688-e999-4fca-bc0a-02663d7620de",
   "metadata": {},
   "outputs": [],
   "source": []
  },
  {
   "cell_type": "code",
   "execution_count": null,
   "id": "a0970509-3b0c-43c9-870a-fd55a4f62e8b",
   "metadata": {},
   "outputs": [],
   "source": []
  },
  {
   "cell_type": "code",
   "execution_count": null,
   "id": "5363a0a6-3bc2-4ba7-b87c-4febf51844f2",
   "metadata": {},
   "outputs": [],
   "source": []
  }
 ],
 "metadata": {
  "kernelspec": {
   "display_name": "Python 3 (ipykernel)",
   "language": "python",
   "name": "python3"
  },
  "language_info": {
   "codemirror_mode": {
    "name": "ipython",
    "version": 3
   },
   "file_extension": ".py",
   "mimetype": "text/x-python",
   "name": "python",
   "nbconvert_exporter": "python",
   "pygments_lexer": "ipython3",
   "version": "3.10.8"
  }
 },
 "nbformat": 4,
 "nbformat_minor": 5
}
