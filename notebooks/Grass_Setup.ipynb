{
 "cells": [
  {
   "cell_type": "markdown",
   "id": "050e571f-e2ce-4220-9539-d9e82f0fbb3f",
   "metadata": {
    "vscode": {
     "languageId": "plaintext"
    }
   },
   "source": [
    "## Create Grass Database if not already in existance"
   ]
  },
  {
   "cell_type": "code",
   "execution_count": 5,
   "id": "a5c76319",
   "metadata": {
    "vscode": {
     "languageId": "plaintext"
    }
   },
   "outputs": [],
   "source": [
    "#get parameters\n",
    "import sys\n",
    "sys.path.append('..')\n",
    "from src.grass_functions import*\n",
    "from src.data.process_inputs import*\n",
    "from project_info import *"
   ]
  },
  {
   "cell_type": "code",
   "execution_count": 6,
   "id": "9190a12e-add1-4df5-b891-e4af4abbee15",
   "metadata": {},
   "outputs": [
    {
     "name": "stdout",
     "output_type": "stream",
     "text": [
      "{'GISDBASE': \"'/home/grassdata';\", 'LOCATION_NAME': \"'nebraska_regression_stantec_26852';\", 'MAPSET': \"'PERMANENT';\"}\n",
      "Database Mapset Exists\n",
      "None\n",
      "{'GISDBASE': '/home/grassdata', 'LOCATION_NAME': 'nebraska_regression_stantec_26852', 'MAPSET': 'PERMANENT'}\n"
     ]
    },
    {
     "name": "stderr",
     "output_type": "stream",
     "text": [
      "Current GRASS GIS 7 environment:\n"
     ]
    }
   ],
   "source": [
    "initialize_grass_db(Location, Mapset, sr)"
   ]
  },
  {
   "cell_type": "markdown",
   "id": "e8ca5272-1407-4c4b-a311-1a1745208e7a",
   "metadata": {
    "vscode": {
     "languageId": "plaintext"
    }
   },
   "source": [
    "## List Existing Data in DB"
   ]
  },
  {
   "cell_type": "code",
   "execution_count": 7,
   "id": "d738c4e0-042b-4f4d-841a-3053466d674f",
   "metadata": {},
   "outputs": [
    {
     "name": "stdout",
     "output_type": "stream",
     "text": [
      "Available vector maps:\n",
      "\n",
      "Available raster maps:\n"
     ]
    }
   ],
   "source": [
    "#list all grass files\n",
    "grass_maps = list_existing_grass()"
   ]
  },
  {
   "cell_type": "markdown",
   "id": "6b8d7485-bd0f-4d87-9330-3baa2b8b8b30",
   "metadata": {
    "vscode": {
     "languageId": "plaintext"
    }
   },
   "source": [
    "## GRASS GIS Version Installed"
   ]
  },
  {
   "cell_type": "code",
   "execution_count": 19,
   "id": "bd9e0830-7582-4dd3-9b73-a8cb1cc1a851",
   "metadata": {},
   "outputs": [
    {
     "data": {
      "text/plain": [
       "0"
      ]
     },
     "execution_count": 19,
     "metadata": {},
     "output_type": "execute_result"
    },
    {
     "name": "stdout",
     "output_type": "stream",
     "text": [
      "GRASS 7.8.2 (2019)\n"
     ]
    }
   ],
   "source": [
    "#version for reference\n",
    "gs.run_command('g.version')"
   ]
  },
  {
   "cell_type": "markdown",
   "id": "0e879da6-2b8b-4d72-863c-08c91f025b49",
   "metadata": {},
   "source": [
    "## Install Grass Add Ons"
   ]
  },
  {
   "cell_type": "code",
   "execution_count": 38,
   "id": "153c26c9-8e20-4ddf-9970-8af60e4e057f",
   "metadata": {},
   "outputs": [],
   "source": [
    "#desired extensions\n",
    "exts = ['r.basin', 'r.accumulate', 'r.stream.snap','r.stream.distance', 'r.stream.basins','r.hypso','r.stream.stats', 'r.stream.order', 'r.width.funct', 'r.traveltime','r.wateroutlet.lessmem']"
   ]
  },
  {
   "cell_type": "code",
   "execution_count": 40,
   "id": "2c42fe0c-96bb-4685-8d1f-2aaa4a2f1204",
   "metadata": {},
   "outputs": [
    {
     "name": "stdout",
     "output_type": "stream",
     "text": [
      "['r.basin'] already installed\n"
     ]
    },
    {
     "name": "stderr",
     "output_type": "stream",
     "text": [
      "List of installed extensions (modules):\n"
     ]
    }
   ],
   "source": [
    "existing_exts = list(gs.parse_command('g.extension', flags='a'))\n",
    "print(existing_exts, 'already installed')"
   ]
  },
  {
   "cell_type": "code",
   "execution_count": 41,
   "id": "539e72c1-d7b7-42c5-b682-75ace1a8c382",
   "metadata": {},
   "outputs": [
    {
     "name": "stderr",
     "output_type": "stream",
     "text": [
      "WARNING: Unable to create\n",
      "         '/home/jovyan/.grass7/addons/docs/html/grass_logo.png': [Errno 2]\n",
      "         No such file or directory:\n",
      "         '/usr/lib/grass78/docs/html/grass_logo.png'. Is the GRASS GIS\n",
      "         documentation package installed? Installation continues, but\n",
      "         documentation may not look right.\n",
      "WARNING: Unable to create\n",
      "         '/home/jovyan/.grass7/addons/docs/html/grassdocs.css': [Errno 2]\n",
      "         No such file or directory:\n",
      "         '/usr/lib/grass78/docs/html/grassdocs.css'. Is the GRASS GIS\n",
      "         documentation package installed? Installation continues, but\n",
      "         documentation may not look right.\n",
      "Fetching <r.accumulate> from </home/grassdata/r.accumulate.zip> (be\n",
      "patient)...\n",
      "Compiling...\n",
      "Installing...\n",
      "Updating private addons metadata file...\n",
      "Installation of <r.accumulate> successfully finished\n"
     ]
    },
    {
     "name": "stdout",
     "output_type": "stream",
     "text": [
      "added r.accumulate to grass module\n"
     ]
    },
    {
     "name": "stderr",
     "output_type": "stream",
     "text": [
      "WARNING: Unable to create\n",
      "         '/home/jovyan/.grass7/addons/docs/html/grass_logo.png': [Errno 2]\n",
      "         No such file or directory:\n",
      "         '/usr/lib/grass78/docs/html/grass_logo.png'. Is the GRASS GIS\n",
      "         documentation package installed? Installation continues, but\n",
      "         documentation may not look right.\n",
      "WARNING: Unable to create\n",
      "         '/home/jovyan/.grass7/addons/docs/html/grassdocs.css': [Errno 2]\n",
      "         No such file or directory:\n",
      "         '/usr/lib/grass78/docs/html/grassdocs.css'. Is the GRASS GIS\n",
      "         documentation package installed? Installation continues, but\n",
      "         documentation may not look right.\n",
      "Fetching <r.stream.snap> from </home/grassdata/r.stream.snap.zip> (be\n",
      "patient)...\n",
      "Compiling...\n",
      "Installing...\n",
      "Updating private addons metadata file...\n",
      "Installation of <r.stream.snap> successfully finished\n"
     ]
    },
    {
     "name": "stdout",
     "output_type": "stream",
     "text": [
      "added r.stream.snap to grass module\n"
     ]
    },
    {
     "name": "stderr",
     "output_type": "stream",
     "text": [
      "WARNING: Unable to create\n",
      "         '/home/jovyan/.grass7/addons/docs/html/grass_logo.png': [Errno 2]\n",
      "         No such file or directory:\n",
      "         '/usr/lib/grass78/docs/html/grass_logo.png'. Is the GRASS GIS\n",
      "         documentation package installed? Installation continues, but\n",
      "         documentation may not look right.\n",
      "WARNING: Unable to create\n",
      "         '/home/jovyan/.grass7/addons/docs/html/grassdocs.css': [Errno 2]\n",
      "         No such file or directory:\n",
      "         '/usr/lib/grass78/docs/html/grassdocs.css'. Is the GRASS GIS\n",
      "         documentation package installed? Installation continues, but\n",
      "         documentation may not look right.\n",
      "Fetching <r.stream.distance> from </home/grassdata/r.stream.distance.zip>\n",
      "(be patient)...\n",
      "Compiling...\n",
      "Installing...\n",
      "Updating private addons metadata file...\n",
      "Installation of <r.stream.distance> successfully finished\n"
     ]
    },
    {
     "name": "stdout",
     "output_type": "stream",
     "text": [
      "added r.stream.distance to grass module\n"
     ]
    },
    {
     "name": "stderr",
     "output_type": "stream",
     "text": [
      "WARNING: Unable to create\n",
      "         '/home/jovyan/.grass7/addons/docs/html/grass_logo.png': [Errno 2]\n",
      "         No such file or directory:\n",
      "         '/usr/lib/grass78/docs/html/grass_logo.png'. Is the GRASS GIS\n",
      "         documentation package installed? Installation continues, but\n",
      "         documentation may not look right.\n",
      "WARNING: Unable to create\n",
      "         '/home/jovyan/.grass7/addons/docs/html/grassdocs.css': [Errno 2]\n",
      "         No such file or directory:\n",
      "         '/usr/lib/grass78/docs/html/grassdocs.css'. Is the GRASS GIS\n",
      "         documentation package installed? Installation continues, but\n",
      "         documentation may not look right.\n",
      "Fetching <r.stream.basins> from </home/grassdata/r.stream.basins.zip> (be\n",
      "patient)...\n",
      "Compiling...\n",
      "Installing...\n",
      "Updating private addons metadata file...\n",
      "Installation of <r.stream.basins> successfully finished\n"
     ]
    },
    {
     "name": "stdout",
     "output_type": "stream",
     "text": [
      "added r.stream.basins to grass module\n"
     ]
    },
    {
     "name": "stderr",
     "output_type": "stream",
     "text": [
      "WARNING: Unable to create\n",
      "         '/home/jovyan/.grass7/addons/docs/html/grass_logo.png': [Errno 2]\n",
      "         No such file or directory:\n",
      "         '/usr/lib/grass78/docs/html/grass_logo.png'. Is the GRASS GIS\n",
      "         documentation package installed? Installation continues, but\n",
      "         documentation may not look right.\n",
      "WARNING: Unable to create\n",
      "         '/home/jovyan/.grass7/addons/docs/html/grassdocs.css': [Errno 2]\n",
      "         No such file or directory:\n",
      "         '/usr/lib/grass78/docs/html/grassdocs.css'. Is the GRASS GIS\n",
      "         documentation package installed? Installation continues, but\n",
      "         documentation may not look right.\n",
      "Fetching <r.hypso> from </home/grassdata/r.hypso.zip> (be patient)...\n",
      "Compiling...\n",
      "Traceback (most recent call last):\n",
      "  File \"/tmp/tmpny3sv7bc/r.hypso/scripts/r.hypso\", line 53, in <module>\n",
      "    import matplotlib.pyplot as plt\n",
      "  File \"/opt/conda/lib/python3.9/site-packages/matplotlib/pyplot.py\", line 2230, in <module>\n",
      "    switch_backend(rcParams[\"backend\"])\n",
      "  File \"/opt/conda/lib/python3.9/site-packages/matplotlib/pyplot.py\", line 267, in switch_backend\n",
      "    class backend_mod(matplotlib.backend_bases._Backend):\n",
      "  File \"/opt/conda/lib/python3.9/site-packages/matplotlib/pyplot.py\", line 268, in backend_mod\n",
      "    locals().update(vars(importlib.import_module(backend_name)))\n",
      "  File \"/opt/conda/lib/python3.9/importlib/__init__.py\", line 127, in import_module\n",
      "    return _bootstrap._gcd_import(name[level:], package, level)\n",
      "  File \"/opt/conda/lib/python3.9/site-packages/matplotlib/backends/backend_wx.py\", line 34, in <module>\n",
      "    import wx\n",
      "ModuleNotFoundError: No module named 'wx'\n",
      "Installing...\n",
      "Updating private addons metadata file...\n",
      "WARNING: No addons metadata available. Addons metadata file not updated.\n",
      "Installation of <r.hypso> successfully finished\n"
     ]
    },
    {
     "name": "stdout",
     "output_type": "stream",
     "text": [
      "added r.hypso to grass module\n"
     ]
    },
    {
     "name": "stderr",
     "output_type": "stream",
     "text": [
      "WARNING: Unable to create\n",
      "         '/home/jovyan/.grass7/addons/docs/html/grass_logo.png': [Errno 2]\n",
      "         No such file or directory:\n",
      "         '/usr/lib/grass78/docs/html/grass_logo.png'. Is the GRASS GIS\n",
      "         documentation package installed? Installation continues, but\n",
      "         documentation may not look right.\n",
      "WARNING: Unable to create\n",
      "         '/home/jovyan/.grass7/addons/docs/html/grassdocs.css': [Errno 2]\n",
      "         No such file or directory:\n",
      "         '/usr/lib/grass78/docs/html/grassdocs.css'. Is the GRASS GIS\n",
      "         documentation package installed? Installation continues, but\n",
      "         documentation may not look right.\n",
      "Fetching <r.stream.stats> from </home/grassdata/r.stream.stats.zip> (be\n",
      "patient)...\n",
      "Compiling...\n",
      "Installing...\n",
      "Updating private addons metadata file...\n",
      "Installation of <r.stream.stats> successfully finished\n"
     ]
    },
    {
     "name": "stdout",
     "output_type": "stream",
     "text": [
      "added r.stream.stats to grass module\n"
     ]
    },
    {
     "name": "stderr",
     "output_type": "stream",
     "text": [
      "WARNING: Unable to create\n",
      "         '/home/jovyan/.grass7/addons/docs/html/grass_logo.png': [Errno 2]\n",
      "         No such file or directory:\n",
      "         '/usr/lib/grass78/docs/html/grass_logo.png'. Is the GRASS GIS\n",
      "         documentation package installed? Installation continues, but\n",
      "         documentation may not look right.\n",
      "WARNING: Unable to create\n",
      "         '/home/jovyan/.grass7/addons/docs/html/grassdocs.css': [Errno 2]\n",
      "         No such file or directory:\n",
      "         '/usr/lib/grass78/docs/html/grassdocs.css'. Is the GRASS GIS\n",
      "         documentation package installed? Installation continues, but\n",
      "         documentation may not look right.\n",
      "Fetching <r.stream.order> from </home/grassdata/r.stream.order.zip> (be\n",
      "patient)...\n",
      "Compiling...\n",
      "Installing...\n",
      "Updating private addons metadata file...\n",
      "Installation of <r.stream.order> successfully finished\n"
     ]
    },
    {
     "name": "stdout",
     "output_type": "stream",
     "text": [
      "added r.stream.order to grass module\n"
     ]
    },
    {
     "name": "stderr",
     "output_type": "stream",
     "text": [
      "WARNING: Unable to create\n",
      "         '/home/jovyan/.grass7/addons/docs/html/grass_logo.png': [Errno 2]\n",
      "         No such file or directory:\n",
      "         '/usr/lib/grass78/docs/html/grass_logo.png'. Is the GRASS GIS\n",
      "         documentation package installed? Installation continues, but\n",
      "         documentation may not look right.\n",
      "WARNING: Unable to create\n",
      "         '/home/jovyan/.grass7/addons/docs/html/grassdocs.css': [Errno 2]\n",
      "         No such file or directory:\n",
      "         '/usr/lib/grass78/docs/html/grassdocs.css'. Is the GRASS GIS\n",
      "         documentation package installed? Installation continues, but\n",
      "         documentation may not look right.\n",
      "Fetching <r.width.funct> from </home/grassdata/r.width.funct.zip> (be\n",
      "patient)...\n",
      "Compiling...\n",
      "Traceback (most recent call last):\n",
      "  File \"/tmp/tmp790__nn7/r.width.funct/scripts/r.width.funct\", line 47, in <module>\n",
      "    import matplotlib.pyplot as plt\n",
      "  File \"/opt/conda/lib/python3.9/site-packages/matplotlib/pyplot.py\", line 2230, in <module>\n",
      "    switch_backend(rcParams[\"backend\"])\n",
      "  File \"/opt/conda/lib/python3.9/site-packages/matplotlib/pyplot.py\", line 267, in switch_backend\n",
      "    class backend_mod(matplotlib.backend_bases._Backend):\n",
      "  File \"/opt/conda/lib/python3.9/site-packages/matplotlib/pyplot.py\", line 268, in backend_mod\n",
      "    locals().update(vars(importlib.import_module(backend_name)))\n",
      "  File \"/opt/conda/lib/python3.9/importlib/__init__.py\", line 127, in import_module\n",
      "    return _bootstrap._gcd_import(name[level:], package, level)\n",
      "  File \"/opt/conda/lib/python3.9/site-packages/matplotlib/backends/backend_wx.py\", line 34, in <module>\n",
      "    import wx\n",
      "ModuleNotFoundError: No module named 'wx'\n",
      "Installing...\n",
      "Updating private addons metadata file...\n",
      "WARNING: No addons metadata available. Addons metadata file not updated.\n",
      "Installation of <r.width.funct> successfully finished\n"
     ]
    },
    {
     "name": "stdout",
     "output_type": "stream",
     "text": [
      "added r.width.funct to grass module\n"
     ]
    },
    {
     "name": "stderr",
     "output_type": "stream",
     "text": [
      "WARNING: Unable to create\n",
      "         '/home/jovyan/.grass7/addons/docs/html/grass_logo.png': [Errno 2]\n",
      "         No such file or directory:\n",
      "         '/usr/lib/grass78/docs/html/grass_logo.png'. Is the GRASS GIS\n",
      "         documentation package installed? Installation continues, but\n",
      "         documentation may not look right.\n",
      "WARNING: Unable to create\n",
      "         '/home/jovyan/.grass7/addons/docs/html/grassdocs.css': [Errno 2]\n",
      "         No such file or directory:\n",
      "         '/usr/lib/grass78/docs/html/grassdocs.css'. Is the GRASS GIS\n",
      "         documentation package installed? Installation continues, but\n",
      "         documentation may not look right.\n",
      "Fetching <r.traveltime> from </home/grassdata/r.traveltime.zip> (be\n",
      "patient)...\n",
      "Compiling...\n",
      "main.c: In function ‘ttime’:\n",
      "main.c:231:21: warning: unused variable ‘r’ [-Wunused-variable]\n",
      "  231 |                 int r = ttime(thist, x + i, y + j, i, j);\n",
      "      |                     ^\n",
      "main.c:156:24: warning: variable ‘dir’ set but not used [-Wunused-but-set-variable]\n",
      "  156 |     int i, j, v, accu, dir;\n",
      "      |                        ^~~\n",
      "main.c: In function ‘main’:\n",
      "main.c:396:12: warning: assignment discards ‘const’ qualifier from pointer target type [-Wdiscarded-qualifiers]\n",
      "  396 |     mapset = G_find_raster2(map_dir, \"\");\n",
      "      |            ^\n",
      "main.c:400:12: warning: assignment discards ‘const’ qualifier from pointer target type [-Wdiscarded-qualifiers]\n",
      "  400 |     mapset = G_find_raster2(map_accu, \"\");\n",
      "      |            ^\n",
      "main.c:404:12: warning: assignment discards ‘const’ qualifier from pointer target type [-Wdiscarded-qualifiers]\n",
      "  404 |     mapset = G_find_raster2(map_n, \"\");\n",
      "      |            ^\n",
      "main.c:408:12: warning: assignment discards ‘const’ qualifier from pointer target type [-Wdiscarded-qualifiers]\n",
      "  408 |     mapset = G_find_raster2(map_dtm, \"\");\n",
      "      |            ^\n",
      "main.c:464:52: warning: format ‘%s’ expects argument of type ‘char *’, but argument 3 has type ‘int’ [-Wformat=]\n",
      "  464 |         fprintf(stderr, \"Illegal east coordinate <%s>\\n\",\n",
      "      |                                                   ~^\n",
      "      |                                                    |\n",
      "      |                                                    char *\n",
      "      |                                                   %d\n",
      "  465 |             *input_outlet_y->answer);\n",
      "      |             ~~~~~~~~~~~~~~~~~~~~~~~                 \n",
      "      |             |\n",
      "      |             int\n",
      "main.c:471:53: warning: format ‘%s’ expects argument of type ‘char *’, but argument 3 has type ‘int’ [-Wformat=]\n",
      "  471 |         fprintf(stderr, \"Illegal north coordinate <%s>\\n\",\n",
      "      |                                                    ~^\n",
      "      |                                                     |\n",
      "      |                                                     char *\n",
      "      |                                                    %d\n",
      "  472 |             *input_outlet_y->answer);\n",
      "      |             ~~~~~~~~~~~~~~~~~~~~~~~                  \n",
      "      |             |\n",
      "      |             int\n",
      "main.c:507:9: warning: unused variable ‘m’ [-Wunused-variable]\n",
      "  507 |     int m = ttime(0.0, x, y, 0, 0);\n",
      "      |         ^\n",
      "main.c: In function ‘ttime’:\n",
      "main.c:227:25: warning: ‘z1’ may be used uninitialized in this function [-Wmaybe-uninitialized]\n",
      "  227 |                 J = 1.0 * (z2 - z1) / L;\n",
      "      |                     ~~~~^~~~~~~~~~~\n",
      "main.c:227:25: warning: ‘z2’ may be used uninitialized in this function [-Wmaybe-uninitialized]\n",
      "main.c:229:33: warning: ‘manningsn’ may be used uninitialized in this function [-Wmaybe-uninitialized]\n",
      "  229 |                 thist = ftime + traveltime(L, J, manningsn, accu);\n",
      "      |                                 ^~~~~~~~~~~~~~~~~~~~~~~~~~~~~~~~~\n",
      "main.c:229:33: warning: ‘accu’ may be used uninitialized in this function [-Wmaybe-uninitialized]\n",
      "main.c: In function ‘main’:\n",
      "main.c:412:5: warning: ‘cellhd_accu.rows’ may be used uninitialized in this function [-Wmaybe-uninitialized]\n",
      "  412 |     G_debug(3, \"number of rows %d\", cellhd_accu.rows);\n",
      "      |     ^~~~~~~~~~~~~~~~~~~~~~~~~~~~~~~~~~~~~~~~~~~~~~~~~\n",
      "main.c:413:5: warning: ‘cellhd_dir.rows’ may be used uninitialized in this function [-Wmaybe-uninitialized]\n",
      "  413 |     G_debug(3, \"number of rows %d\", cellhd_dir.rows);\n",
      "      |     ^~~~~~~~~~~~~~~~~~~~~~~~~~~~~~~~~~~~~~~~~~~~~~~~\n",
      "main.c:414:5: warning: ‘cellhd_dtm.rows’ may be used uninitialized in this function [-Wmaybe-uninitialized]\n",
      "  414 |     G_debug(3, \"number of rows %d\", cellhd_dtm.rows);\n",
      "      |     ^~~~~~~~~~~~~~~~~~~~~~~~~~~~~~~~~~~~~~~~~~~~~~~~\n",
      "main.c:415:5: warning: ‘cellhd_n.rows’ may be used uninitialized in this function [-Wmaybe-uninitialized]\n",
      "  415 |     G_debug(3, \"number of rows %d\", cellhd_n.rows);\n",
      "      |     ^~~~~~~~~~~~~~~~~~~~~~~~~~~~~~~~~~~~~~~~~~~~~~\n",
      "main.c:462:18: warning: ‘y’ may be used uninitialized in this function [-Wmaybe-uninitialized]\n",
      "  462 |         array_out[y][x] = 0.0;\n",
      "      |                  ^\n",
      "main.c:462:21: warning: ‘x’ may be used uninitialized in this function [-Wmaybe-uninitialized]\n",
      "  462 |         array_out[y][x] = 0.0;\n",
      "      |                     ^\n",
      "Installing...\n",
      "Updating private addons metadata file...\n",
      "Installation of <r.traveltime> successfully finished\n"
     ]
    },
    {
     "name": "stdout",
     "output_type": "stream",
     "text": [
      "added r.traveltime to grass module\n"
     ]
    },
    {
     "name": "stderr",
     "output_type": "stream",
     "text": [
      "WARNING: Unable to create\n",
      "         '/home/jovyan/.grass7/addons/docs/html/grass_logo.png': [Errno 2]\n",
      "         No such file or directory:\n",
      "         '/usr/lib/grass78/docs/html/grass_logo.png'. Is the GRASS GIS\n",
      "         documentation package installed? Installation continues, but\n",
      "         documentation may not look right.\n",
      "WARNING: Unable to create\n",
      "         '/home/jovyan/.grass7/addons/docs/html/grassdocs.css': [Errno 2]\n",
      "         No such file or directory:\n",
      "         '/usr/lib/grass78/docs/html/grassdocs.css'. Is the GRASS GIS\n",
      "         documentation package installed? Installation continues, but\n",
      "         documentation may not look right.\n",
      "Fetching <r.wateroutlet.lessmem> from\n",
      "</home/grassdata/r.wateroutlet.lessmem.zip> (be patient)...\n",
      "Compiling...\n",
      "Installing...\n",
      "Updating private addons metadata file...\n"
     ]
    },
    {
     "name": "stdout",
     "output_type": "stream",
     "text": [
      "added r.wateroutlet.lessmem to grass module\n"
     ]
    },
    {
     "name": "stderr",
     "output_type": "stream",
     "text": [
      "Installation of <r.wateroutlet.lessmem> successfully finished\n"
     ]
    }
   ],
   "source": [
    "home = pl.Path(os.getcwd()).parent\n",
    "for ext in exts:\n",
    "    if ext not in existing_exts:\n",
    "        gs.run_command('g.extension', extension= ext,  operation= 'add',url=f\"{home/'grassdata'/ext}.zip\")\n",
    "        print(f'added {ext} to grass module')"
   ]
  },
  {
   "cell_type": "code",
   "execution_count": null,
   "id": "09684485-78cb-4cff-b581-1bf83f0a869c",
   "metadata": {},
   "outputs": [],
   "source": []
  }
 ],
 "metadata": {
  "kernelspec": {
   "display_name": "Python 3 (ipykernel)",
   "language": "python",
   "name": "python3"
  },
  "language_info": {
   "codemirror_mode": {
    "name": "ipython",
    "version": 3
   },
   "file_extension": ".py",
   "mimetype": "text/x-python",
   "name": "python",
   "nbconvert_exporter": "python",
   "pygments_lexer": "ipython3",
   "version": "3.9.7"
  }
 },
 "nbformat": 4,
 "nbformat_minor": 5
}
